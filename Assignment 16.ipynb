{
 "cells": [
  {
   "cell_type": "markdown",
   "id": "c02d3278-58f6-4b0a-87aa-559c1c3b311a",
   "metadata": {},
   "source": [
    "Q1. What is Web Scraping? Why is it Used? Give three areas where Web Scraping is used to get data."
   ]
  },
  {
   "cell_type": "markdown",
   "id": "f349db4f-87c0-4167-a245-31960a8a50d0",
   "metadata": {},
   "source": [
    "Web scraping is the process of automatically extracting data from a website.\n",
    "It is used for a variety of purposes, including Price Monitoring, Market research and Search engine optimization(SEO)"
   ]
  },
  {
   "cell_type": "markdown",
   "id": "1a6b5cce-7362-4ae2-8586-b98626ef8ab6",
   "metadata": {},
   "source": [
    "Q2. What are the different methods used for Web Scraping?"
   ]
  },
  {
   "cell_type": "markdown",
   "id": "bc7ac96d-6b30-4a48-b26a-8236a9ff49d7",
   "metadata": {},
   "source": [
    "HTML parsing: This method involves using a programming language such as Python to parse the HTML code of a web page and extract the desired data.\n",
    "\n",
    "APIs: Some websites provide API's that allow developers to access their data in a structured format. APIs can be used to simplify the web scraping process and make it more efficient."
   ]
  },
  {
   "cell_type": "markdown",
   "id": "38966b8e-99b6-4d8f-ba78-e8cbb22da709",
   "metadata": {},
   "source": [
    "Q3. What is Beautiful Soup? Why is it used?"
   ]
  },
  {
   "cell_type": "markdown",
   "id": "5ad4a363-1638-471a-b66e-3300094968e8",
   "metadata": {},
   "source": [
    "Beautiful Soup is a Python library for parsing HTML and XML documents. It is a popular choice for web scraping because it is easy to use and provides a number of features that make it easier to extract data from web pages.\n",
    "\n",
    "Beautiful Soup can be used to:\n",
    "\n",
    "Extract data from specific HTML elements, such as tables, lists, and forms.\n",
    "Filter and sort data extracted from web pages.\n",
    "Navigate through web pages and extract data from multiple pages in a website."
   ]
  },
  {
   "cell_type": "markdown",
   "id": "2344525a-65c9-4446-89b6-0b7507c00918",
   "metadata": {},
   "source": [
    "Q4. Why is flask used in this Web Scraping project?"
   ]
  },
  {
   "cell_type": "markdown",
   "id": "8f3e0c04-e01f-424e-a4e6-806b18b35363",
   "metadata": {},
   "source": [
    "Flask is used in this web scraping project to create a simple web application that allows users to request data from the web scraper."
   ]
  },
  {
   "cell_type": "markdown",
   "id": "8f304e43-e4ee-45f7-a1b1-131959be7937",
   "metadata": {},
   "source": [
    "Q5. Write the names of AWS services used in this project. Also, explain the use of each service."
   ]
  },
  {
   "cell_type": "markdown",
   "id": "5c328da5-585e-4ad8-b5bd-9d34794e1222",
   "metadata": {},
   "source": [
    "Amazon Simple Storage Service (S3): It is used to store the data extracted by the web scraper. This data can then be accessed by the web application and delivered to users using CloudFront.\n",
    "\n",
    "CloudFront: CloudFront is used to deliver the data stored in S3 to users around the world with low latency and high performance.\n",
    "\n",
    "Lambda: Lambda is used to run the web scraper code. This allows the web scraper to be run without having to manage servers or infrastructure.\n",
    "\n",
    "API Gateway: API Gateway is used to create an API that allows users to request data from the web scraper. This API can be used by the web application to retrieve data from the web scraper for users."
   ]
  }
 ],
 "metadata": {
  "kernelspec": {
   "display_name": "Python 3 (ipykernel)",
   "language": "python",
   "name": "python3"
  },
  "language_info": {
   "codemirror_mode": {
    "name": "ipython",
    "version": 3
   },
   "file_extension": ".py",
   "mimetype": "text/x-python",
   "name": "python",
   "nbconvert_exporter": "python",
   "pygments_lexer": "ipython3",
   "version": "3.10.8"
  }
 },
 "nbformat": 4,
 "nbformat_minor": 5
}
