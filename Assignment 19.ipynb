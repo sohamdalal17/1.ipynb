{
 "cells": [
  {
   "cell_type": "markdown",
   "id": "0286c169-095a-445a-91ab-381e69da2933",
   "metadata": {},
   "source": [
    "Consider the below code to answer further questions:\n",
    "\n",
    "import numpy as np\n",
    "variables_list = [ ‘1’ , ’2’ , ‘3’ , ‘4’ , ‘5’ ]\n",
    "\n",
    "array_list = np.array(object = variables_list)"
   ]
  },
  {
   "cell_type": "markdown",
   "id": "23ce3ecb-6918-4482-a471-6270c515b623",
   "metadata": {},
   "source": [
    "Q1. Is there any difference in the data type of variables_list and array_list? If there is then write a code\n",
    "to print the data types of both the variables."
   ]
  },
  {
   "cell_type": "markdown",
   "id": "acb6481a-060d-4043-88b1-fc21867d28e1",
   "metadata": {},
   "source": [
    "Yes, there is a difference in the data types of variables_list and array_list"
   ]
  },
  {
   "cell_type": "code",
   "execution_count": 2,
   "id": "5efc9328-ed20-422c-ad4f-7e1f4e222e90",
   "metadata": {},
   "outputs": [
    {
     "name": "stdout",
     "output_type": "stream",
     "text": [
      "Data type of list_: <class 'str'>\n",
      "Data type of array_list: <class 'numpy.str_'>\n"
     ]
    }
   ],
   "source": [
    "import numpy as np\n",
    "\n",
    "variables_list = ['1', '2', '3', '4', '5']\n",
    "array_list = np.array(object=variables_list)\n",
    "\n",
    "\n",
    "print(\"Data type of list_:\", type(variables_list[0]))\n",
    "print(\"Data type of array_list:\", type(array_list[0]))"
   ]
  },
  {
   "cell_type": "markdown",
   "id": "9fa178bd-e841-4642-bff9-b10748baaae1",
   "metadata": {},
   "source": [
    "Q2. Write a code to print the data type of each and every element of both the variables_list and\n",
    "arra_list."
   ]
  },
  {
   "cell_type": "code",
   "execution_count": 3,
   "id": "cdb69c70-475b-4c9e-b5c4-779d63d32dd1",
   "metadata": {},
   "outputs": [
    {
     "name": "stdout",
     "output_type": "stream",
     "text": [
      "Data types of elements in list_:\n",
      "<class 'str'>\n",
      "<class 'str'>\n",
      "<class 'str'>\n",
      "<class 'str'>\n",
      "<class 'str'>\n",
      "\n",
      "Data types of elements in array_list:\n",
      "<class 'numpy.str_'>\n",
      "<class 'numpy.str_'>\n",
      "<class 'numpy.str_'>\n",
      "<class 'numpy.str_'>\n",
      "<class 'numpy.str_'>\n"
     ]
    }
   ],
   "source": [
    "import numpy as np\n",
    "\n",
    "variables_list = ['1', '2', '3', '4', '5']\n",
    "array_list = np.array(object=variables_list)\n",
    "\n",
    "print(\"Data types of elements in list_:\")\n",
    "for element in variables_list:\n",
    "    print(type(element))\n",
    "\n",
    "print(\"\\nData types of elements in array_list:\")\n",
    "for element in array_list:\n",
    "    print(type(element))"
   ]
  },
  {
   "cell_type": "markdown",
   "id": "baf6655c-5e7b-40e9-8abd-54097290bb9a",
   "metadata": {},
   "source": [
    "Q3. Considering the following changes in the variable, array_list:\n",
    "\n",
    "array_list = np.array(object = variables_list, dtype = int)\n",
    "\n",
    "Will there be any difference in the data type of the elements present in both the variables, list_ and\n",
    "arra_list? If so then print the data types of each and every element present in both the variables, list_\n",
    "and arra_list."
   ]
  },
  {
   "cell_type": "markdown",
   "id": "5e598708-86cd-4299-8562-28e4ca8985db",
   "metadata": {},
   "source": [
    "Yes, there will be a difference in the data type of the elements in array_list after the modification."
   ]
  },
  {
   "cell_type": "code",
   "execution_count": 5,
   "id": "0087ddce-1708-48df-b890-7941dedc4b6a",
   "metadata": {},
   "outputs": [
    {
     "name": "stdout",
     "output_type": "stream",
     "text": [
      "Data types of elements in variables_list:\n",
      "<class 'str'>\n",
      "<class 'str'>\n",
      "<class 'str'>\n",
      "<class 'str'>\n",
      "<class 'str'>\n",
      "\n",
      "Data types of elements in modified array_list:\n",
      "<class 'numpy.int64'>\n",
      "<class 'numpy.int64'>\n",
      "<class 'numpy.int64'>\n",
      "<class 'numpy.int64'>\n",
      "<class 'numpy.int64'>\n"
     ]
    }
   ],
   "source": [
    "import numpy as np\n",
    "\n",
    "variables_list = ['1', '2', '3', '4', '5']\n",
    "array_list = np.array(object=variables_list, dtype=int)\n",
    "\n",
    "\n",
    "print(\"Data types of elements in variables_list:\")\n",
    "for element in variables_list:\n",
    "    print(type(element))\n",
    "\n",
    "\n",
    "print(\"\\nData types of elements in modified array_list:\")\n",
    "for element in array_list:\n",
    "    print(type(element))"
   ]
  },
  {
   "cell_type": "markdown",
   "id": "ab7b1b57-c222-4671-b7e3-c92726f71657",
   "metadata": {},
   "source": [
    "Consider the below code to answer further questions:\n",
    "\n",
    "import numpy as np\n",
    "\n",
    "num_list = [ [ 1 , 2 , 3 ] , [ 4 , 5 , 6 ] ]\n",
    "\n",
    "num_array = np.array(object = num_list)"
   ]
  },
  {
   "cell_type": "markdown",
   "id": "2b86eae6-c9b3-49a9-aab7-ea96126c8004",
   "metadata": {},
   "source": [
    "Q4. Write a code to find the following characteristics of variable, num_array:\n",
    "\n",
    "(i) shape\n",
    "(ii) size"
   ]
  },
  {
   "cell_type": "code",
   "execution_count": 6,
   "id": "301074e5-fd7e-4cef-b533-f7d007d80cc6",
   "metadata": {},
   "outputs": [
    {
     "name": "stdout",
     "output_type": "stream",
     "text": [
      "Shape of num_array: (2, 3)\n",
      "Size of num_array: 6\n"
     ]
    }
   ],
   "source": [
    "import numpy as np\n",
    "\n",
    "num_list = [[1, 2, 3], [4, 5, 6]]\n",
    "num_array = np.array(object=num_list)\n",
    "\n",
    "\n",
    "shape_of_array = num_array.shape\n",
    "size_of_array = num_array.size\n",
    "\n",
    "print(\"Shape of num_array:\", shape_of_array)\n",
    "print(\"Size of num_array:\", size_of_array)"
   ]
  },
  {
   "cell_type": "markdown",
   "id": "23beb9e1-145c-4dc4-ad55-bdf7cc3947a5",
   "metadata": {},
   "source": [
    "Q5. Write a code to create numpy array of 3*3 matrix containing zeros only, using a numpy array\n",
    "creation function.\n",
    "\n",
    "[Hint: The size of the array will be 9 and the shape will be (3,3).]"
   ]
  },
  {
   "cell_type": "code",
   "execution_count": 7,
   "id": "ace8ec76-e07c-42d3-bf83-91aefd1623b2",
   "metadata": {},
   "outputs": [
    {
     "name": "stdout",
     "output_type": "stream",
     "text": [
      "Array of 3x3 matrix containing zeros:\n",
      "[[0. 0. 0.]\n",
      " [0. 0. 0.]\n",
      " [0. 0. 0.]]\n"
     ]
    }
   ],
   "source": [
    "import numpy as np\n",
    "\n",
    "zeros_array = np.zeros((3, 3))\n",
    "\n",
    "print(\"Array of 3x3 matrix containing zeros:\")\n",
    "print(zeros_array)"
   ]
  },
  {
   "cell_type": "markdown",
   "id": "92e6c3f5-a3c8-4194-b3a8-ef0a0480d307",
   "metadata": {},
   "source": [
    "Q6. Create an identity matrix of shape (5,5) using numpy functions?\n",
    "\n",
    "[Hint: An identity matrix is a matrix containing 1 diagonally and other elements will be 0.]"
   ]
  },
  {
   "cell_type": "code",
   "execution_count": 8,
   "id": "5239d8d2-336b-4899-a32b-d52b6b3d5b76",
   "metadata": {},
   "outputs": [
    {
     "name": "stdout",
     "output_type": "stream",
     "text": [
      "Identity matrix of shape (5, 5):\n",
      "[[1. 0. 0. 0. 0.]\n",
      " [0. 1. 0. 0. 0.]\n",
      " [0. 0. 1. 0. 0.]\n",
      " [0. 0. 0. 1. 0.]\n",
      " [0. 0. 0. 0. 1.]]\n"
     ]
    }
   ],
   "source": [
    "import numpy as np\n",
    "\n",
    "identity_matrix = np.eye(5)\n",
    "\n",
    "print(\"Identity matrix of shape (5, 5):\")\n",
    "print(identity_matrix)"
   ]
  },
  {
   "cell_type": "code",
   "execution_count": null,
   "id": "8ebcb545-5cdf-4bf7-9a83-950cd0ac99f8",
   "metadata": {},
   "outputs": [],
   "source": []
  }
 ],
 "metadata": {
  "kernelspec": {
   "display_name": "Python 3 (ipykernel)",
   "language": "python",
   "name": "python3"
  },
  "language_info": {
   "codemirror_mode": {
    "name": "ipython",
    "version": 3
   },
   "file_extension": ".py",
   "mimetype": "text/x-python",
   "name": "python",
   "nbconvert_exporter": "python",
   "pygments_lexer": "ipython3",
   "version": "3.10.8"
  }
 },
 "nbformat": 4,
 "nbformat_minor": 5
}
