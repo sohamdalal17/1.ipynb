{
 "cells": [
  {
   "cell_type": "markdown",
   "id": "343a20ec-8bcc-443c-9cd5-60ade568dd51",
   "metadata": {},
   "source": [
    "## Q1. Write a code to print the data present in the second row of the dataframe, df."
   ]
  },
  {
   "cell_type": "code",
   "execution_count": 1,
   "id": "ed09c221-b883-4b37-af74-178dbe486a62",
   "metadata": {},
   "outputs": [
    {
     "name": "stdout",
     "output_type": "stream",
     "text": [
      "course_name    Machine Learning\n",
      "duration                      3\n",
      "Name: 1, dtype: object\n"
     ]
    }
   ],
   "source": [
    "import pandas as pd\n",
    "\n",
    "course_name = ['Data Science', 'Machine Learning', 'Big Data', 'Data Engineer']\n",
    "duration = [2, 3, 6, 4]\n",
    "df = pd.DataFrame(data={'course_name': course_name, 'duration': duration})\n",
    "\n",
    "second_row_data = df.iloc[1]\n",
    "print(second_row_data)"
   ]
  },
  {
   "cell_type": "markdown",
   "id": "0988d376-7574-4657-809a-7945f42a0194",
   "metadata": {},
   "source": [
    "## Q2. What is the difference between the functions loc and iloc in pandas.DataFrame?"
   ]
  },
  {
   "cell_type": "markdown",
   "id": "454a2824-8838-439c-963d-f791ffab0014",
   "metadata": {},
   "source": [
    "loc is label-based indexing, including the endpoint, and accepts labels or boolean arrays for selection.\n",
    "\n",
    "iloc is integer-based indexing, excluding the endpoint, and accepts integer indices, slices, or boolean arrays for selection.\n",
    "\n",
    "Use loc when selecting data by labels, and iloc when selecting data by integer indices in a Pandas DataFrame."
   ]
  },
  {
   "cell_type": "markdown",
   "id": "5e1ccecd-0909-44b8-a1be-bf325f32e54e",
   "metadata": {},
   "source": [
    "## Q3. Reindex the given dataframe using a variable, reindex = [3,0,1,2] and store it in the variable, new_df then find the output for both new_df.loc[2] and new_df.iloc[2]. Did you observe any difference in both the outputs? If so then explain it."
   ]
  },
  {
   "cell_type": "code",
   "execution_count": 2,
   "id": "cfb0aff5-953f-4f36-a657-cc59ca651dff",
   "metadata": {},
   "outputs": [
    {
     "name": "stdout",
     "output_type": "stream",
     "text": [
      "Output for new_df.loc[2]:\n",
      "course_name    Big Data\n",
      "duration              6\n",
      "Name: 2, dtype: object\n",
      "\n",
      "Output for new_df.iloc[2]:\n",
      "course_name    Machine Learning\n",
      "duration                      3\n",
      "Name: 1, dtype: object\n"
     ]
    }
   ],
   "source": [
    "import pandas as pd\n",
    "\n",
    "course_name = ['Data Science', 'Machine Learning', 'Big Data', 'Data Engineer']\n",
    "duration = [2, 3, 6, 4]\n",
    "df = pd.DataFrame(data={'course_name': course_name, 'duration': duration})\n",
    "\n",
    "reindex_order = [3, 0, 1, 2]\n",
    "new_df = df.reindex(reindex_order)\n",
    "\n",
    "loc_output = new_df.loc[2]\n",
    "iloc_output = new_df.iloc[2]\n",
    "\n",
    "print(\"Output for new_df.loc[2]:\")\n",
    "print(loc_output)\n",
    "\n",
    "print(\"\\nOutput for new_df.iloc[2]:\")\n",
    "print(iloc_output)"
   ]
  },
  {
   "cell_type": "markdown",
   "id": "bebd2e64-97aa-4e5f-8137-e6aac81e64b9",
   "metadata": {},
   "source": [
    "we have reindexed the DataFrame, the labels and integer indices are different. loc will look for the label 2, and iloc will look for the row at the third position (integer index 2)."
   ]
  },
  {
   "cell_type": "markdown",
   "id": "6d6f4219-3ba3-486b-bb2d-2bbd78df7d8b",
   "metadata": {},
   "source": [
    "## Q4. Write a code to find the following statistical measurements for the above dataframe df1: (i) mean of each and every column present in the dataframe. (ii) standard deviation of column, ‘column_2’"
   ]
  },
  {
   "cell_type": "code",
   "execution_count": 3,
   "id": "83ced7d9-a1bd-429e-b971-b6197ec10a0d",
   "metadata": {},
   "outputs": [
    {
     "name": "stdout",
     "output_type": "stream",
     "text": [
      "Mean of each column:\n",
      "column_1    0.578733\n",
      "column_2    0.387627\n",
      "column_3    0.476482\n",
      "column_4    0.402442\n",
      "column_5    0.538462\n",
      "column_6    0.594161\n",
      "dtype: float64\n",
      "\n",
      "Standard Deviation of 'column_2': 0.17135258872423936\n"
     ]
    }
   ],
   "source": [
    "import pandas as pd\n",
    "import numpy as np\n",
    "\n",
    "columns = ['column_1', 'column_2', 'column_3', 'column_4', 'column_5', 'column_6']\n",
    "indices = [1, 2, 3, 4, 5, 6]\n",
    "\n",
    "df1 = pd.DataFrame(np.random.rand(6, 6), columns=columns, index=indices)\n",
    "\n",
    "column_means = df1.mean()\n",
    "print(\"Mean of each column:\")\n",
    "print(column_means)\n",
    "\n",
    "std_dev_column_2 = df1['column_2'].std()\n",
    "print(\"\\nStandard Deviation of 'column_2':\", std_dev_column_2)"
   ]
  },
  {
   "cell_type": "markdown",
   "id": "1458d391-8db4-4e44-bac5-33f200debe60",
   "metadata": {},
   "source": [
    "## Q5. Replace the data present in the second row of column, ‘column_2’ by a string variable then find the mean of column, column_2. If you are getting errors in executing it then explain why.\n",
    "[Hint: To replace the data use df1.loc[] and equate this to string data of your choice.]"
   ]
  },
  {
   "cell_type": "code",
   "execution_count": 4,
   "id": "c9486975-0706-401b-830c-4a840ed07afd",
   "metadata": {},
   "outputs": [
    {
     "name": "stdout",
     "output_type": "stream",
     "text": [
      "DataFrame after replacement:\n",
      "   column_1            column_2  column_3  column_4  column_5  column_6\n",
      "1  0.209200            0.248758  0.319314  0.352457  0.677007  0.434364\n",
      "2  0.716034  replacement_string  0.845642  0.208675  0.328119  0.964085\n",
      "3  0.594586            0.140721  0.574497  0.898782  0.907100  0.819199\n",
      "4  0.621708             0.77197  0.177657  0.111190  0.629789  0.736730\n",
      "5  0.760298            0.344013  0.826145  0.114319  0.532240  0.564406\n",
      "6  0.924128            0.609255  0.526899  0.886891  0.181448  0.027733\n",
      "\n",
      "Error: unsupported operand type(s) for +: 'float' and 'str'\n"
     ]
    }
   ],
   "source": [
    "import pandas as pd\n",
    "import numpy as np\n",
    "\n",
    "columns = ['column_1', 'column_2', 'column_3', 'column_4', 'column_5', 'column_6']\n",
    "indices = [1, 2, 3, 4, 5, 6]\n",
    "\n",
    "df1 = pd.DataFrame(np.random.rand(6, 6), columns=columns, index=indices)\n",
    "\n",
    "df1.loc[2, 'column_2'] = 'replacement_string'\n",
    "\n",
    "print(\"DataFrame after replacement:\")\n",
    "print(df1)\n",
    "\n",
    "try:\n",
    "    mean_column_2 = df1['column_2'].mean()\n",
    "    print(\"\\nMean of 'column_2':\", mean_column_2)\n",
    "except TypeError as e:\n",
    "    print(\"\\nError:\", e)"
   ]
  },
  {
   "cell_type": "markdown",
   "id": "e5289126-fee5-46a4-8ec5-88482732d59b",
   "metadata": {},
   "source": [
    "## Q6. What do you understand about the windows function in pandas and list the types of windows functions?"
   ]
  },
  {
   "cell_type": "markdown",
   "id": "34ebe21f-06f6-423f-8e2b-97ffbf33ae86",
   "metadata": {},
   "source": [
    "In Pandas, window functions, such as rolling(), expanding(), and ewm(), are used for calculations over specified data windows. rolling() computes metrics within a fixed-size window, expanding() includes all previous data, and ewm() applies exponentially weighted functions for time-series analysis."
   ]
  },
  {
   "cell_type": "markdown",
   "id": "9d8b121b-6128-4aa8-a8ec-218ed3b3aa5f",
   "metadata": {},
   "source": [
    "## Q7. Write a code to print only the current month and year at the time of answering this question.\n",
    "[Hint: Use pandas.datetime function]"
   ]
  },
  {
   "cell_type": "code",
   "execution_count": null,
   "id": "3936ed7d-1c51-44b8-8830-f9476138f87a",
   "metadata": {},
   "outputs": [],
   "source": [
    "import pandas as pd\n",
    "\n",
    "current_date_time = pd.Timestamp.now()\n",
    "\n",
    "current_month_year = current_date_time.strftime('%B %Y')\n",
    "\n",
    "print(\"Current Month and Year:\", current_month_year)"
   ]
  },
  {
   "cell_type": "markdown",
   "id": "900ad3e0-8940-43fc-8888-10e18aed4f44",
   "metadata": {},
   "source": [
    "## Q8. Write a Python program that takes in two dates as input (in the format YYYY-MM-DD) and calculates the difference between them in days, hours, and minutes using Pandas time delta. The program should prompt the user to enter the dates and display the result."
   ]
  },
  {
   "cell_type": "code",
   "execution_count": null,
   "id": "3a941980-bd4e-4c6e-a924-0fd8d3bbfed8",
   "metadata": {},
   "outputs": [],
   "source": [
    "import pandas as pd\n",
    "\n",
    "def calculate_time_difference():\n",
    "  \n",
    "    date_str1 = input(\"Enter the first date (YYYY-MM-DD): \")\n",
    "    date_str2 = input(\"Enter the second date (YYYY-MM-DD): \")\n",
    "\n",
    "    date1 = pd.to_datetime(date_str1)\n",
    "    date2 = pd.to_datetime(date_str2)\n",
    "\n",
    "    time_difference = date2 - date1\n",
    "\n",
    "    print(\"\\nTime Difference:\")\n",
    "    print(\"Days:\", time_difference.days)\n",
    "    print(\"Hours:\", time_difference.seconds // 3600)\n",
    "    print(\"Minutes:\", (time_difference.seconds % 3600) // 60)\n",
    "\n",
    "calculate_time_difference()"
   ]
  },
  {
   "cell_type": "markdown",
   "id": "e607b344-e4fc-40af-8f39-5ed51539e2c6",
   "metadata": {},
   "source": [
    "## Q9. Write a Python program that reads a CSV file containing categorical data and converts a specified column to a categorical data type. The program should prompt the user to enter the file path, column name, and category order, and then display the sorted data."
   ]
  },
  {
   "cell_type": "code",
   "execution_count": null,
   "id": "9de53e2f-6211-4782-8748-61894860a188",
   "metadata": {},
   "outputs": [],
   "source": [
    "import pandas as pd\n",
    "\n",
    "def convert_to_categorical():\n",
    "    file_path = input(\"Enter the CSV file path: \")\n",
    "    column_name = input(\"Enter the column name to convert to categorical: \")\n",
    "    category_order = input(\"Enter the category order (comma-separated): \").split(',')\n",
    "\n",
    "    df = pd.read_csv(file_path)\n",
    "\n",
    "    df[column_name] = pd.Categorical(df[column_name], categories=category_order, ordered=True)\n",
    "\n",
    "    sorted_data = df.sort_values(by=column_name)\n",
    "    print(\"\\nSorted Data:\")\n",
    "    print(sorted_data)\n",
    "\n",
    "convert_to_categorical()"
   ]
  },
  {
   "cell_type": "markdown",
   "id": "2277b2a9-648a-43aa-859d-3b80cc1cf7b2",
   "metadata": {},
   "source": [
    "## Q10. Write a Python program that reads a CSV file containing sales data for different products and visualizes the data using a stacked bar chart to show the sales of each product category over time. The program should prompt the user to enter the file path and display the chart."
   ]
  },
  {
   "cell_type": "code",
   "execution_count": null,
   "id": "c9226c30-9390-4f1f-ae56-1af95632d13a",
   "metadata": {},
   "outputs": [],
   "source": [
    "import pandas as pd\n",
    "import matplotlib.pyplot as plt\n",
    "\n",
    "def visualize_sales_data():\n",
    "   \n",
    "    file_path = input(\"Enter the CSV file path: \")\n",
    "\n",
    "    df = pd.read_csv(file_path)\n",
    "    df['Date'] = pd.to_datetime(df['Date'])\n",
    "    pivot_table = df.pivot_table(values='Sales', index='Date', columns='ProductCategory', aggfunc='sum', fill_value=0)\n",
    "    pivot_table.plot(kind='bar', stacked=True, figsize=(10, 6))\n",
    "    plt.title('Stacked Bar Chart of Sales Over Time')\n",
    "    plt.xlabel('Date')\n",
    "    plt.ylabel('Sales')\n",
    "    plt.legend(title='Product Category', bbox_to_anchor=(1.05, 1), loc='upper left')\n",
    "    plt.show()\n",
    "    \n",
    "visualize_sales_data()"
   ]
  },
  {
   "cell_type": "raw",
   "id": "2fc1d3d4-cb27-421f-bc94-55afe6dea58f",
   "metadata": {},
   "source": [
    "Q11. You are given a CSV file containing student data that includes the student ID and their test score. Write\n",
    "a Python program that reads the CSV file, calculates the mean, median, and mode of the test scores, and\n",
    "displays the results in a table.\n",
    "The program should do the followingM\n",
    "I Prompt the user to enter the file path of the CSV file containing the student dataR\n",
    "I Read the CSV file into a Pandas DataFrameR\n",
    "I Calculate the mean, median, and mode of the test scores using Pandas toolsR\n",
    "I Display the mean, median, and mode in a table.\n",
    "Assume the CSV file contains the following columnsM\n",
    "I Student ID: The ID of the studentR\n",
    "I Test Score: The score of the student's test.\n",
    "Example usage of the program:\n",
    "Enter the file path of the CSV file containing the student data: student_data.csv\n",
    "+-----------+--------+\n",
    "| Statistic | Value |\n",
    "+-----------+--------+\n",
    "| Mean | 79.6 |\n",
    "| Median | 82 |\n",
    "| Mode | 85, 90 |\n",
    "+-----------+--------+\n",
    "Assume that the CSV file student_data.csv contains the following data:\n",
    "Student ID,Test Score\n",
    "1,85\n",
    "2,90\n",
    "3,80\n",
    "4,75\n",
    "5,85\n",
    "6,82\n",
    "7,78\n",
    "8,85\n",
    "9,90\n",
    "10,85\n",
    "The program should calculate the mean, median, and mode of the test scores and display the results\n",
    "in a table."
   ]
  },
  {
   "cell_type": "code",
   "execution_count": null,
   "id": "fdbffdba-2431-4b3f-939e-0632dbd3bc68",
   "metadata": {},
   "outputs": [],
   "source": [
    "import pandas as pd\n",
    "from tabulate import tabulate\n",
    "\n",
    "def calculate_statistics(file_path):\n",
    "    \n",
    "    df = pd.read_csv(file_path)\n",
    "\n",
    "    mean_score = df['Test Score'].mean()\n",
    "    median_score = df['Test Score'].median()\n",
    "    mode_score = df['Test Score'].mode()\n",
    "\n",
    "    results_table = pd.DataFrame({\n",
    "        'Statistic': ['Mean', 'Median', 'Mode'],\n",
    "        'Value': [mean_score, median_score, ', '.join(map(str, mode_score))]\n",
    "    })\n",
    "\n",
    "    print(tabulate(results_table, headers='keys', tablefmt='grid'))\n",
    "\n",
    "file_path = input(\"Enter the file path of the CSV file containing the student data: \")\n",
    "\n",
    "calculate_statistics(file_path)"
   ]
  },
  {
   "cell_type": "code",
   "execution_count": null,
   "id": "8ca739fb-2908-4b2c-b534-61adc3a408f2",
   "metadata": {},
   "outputs": [],
   "source": []
  }
 ],
 "metadata": {
  "kernelspec": {
   "display_name": "Python 3 (ipykernel)",
   "language": "python",
   "name": "python3"
  },
  "language_info": {
   "codemirror_mode": {
    "name": "ipython",
    "version": 3
   },
   "file_extension": ".py",
   "mimetype": "text/x-python",
   "name": "python",
   "nbconvert_exporter": "python",
   "pygments_lexer": "ipython3",
   "version": "3.10.8"
  }
 },
 "nbformat": 4,
 "nbformat_minor": 5
}
