{
 "cells": [
  {
   "cell_type": "markdown",
   "id": "fc398162-7e9c-4ce9-b546-dd7b237f1b6a",
   "metadata": {},
   "source": [
    "## Q1. What are the three measures of central tendency?"
   ]
  },
  {
   "cell_type": "markdown",
   "id": "0fc96fe0-4548-4d69-a30d-67c2f7fbb98b",
   "metadata": {},
   "source": [
    "Mean, Median, Mode."
   ]
  },
  {
   "cell_type": "markdown",
   "id": "67500dc9-6e9c-4764-af58-12fbcab20a03",
   "metadata": {},
   "source": [
    "## Q2. What is the difference between the mean, median, and mode? How are they used to measure the central tendency of a dataset?"
   ]
  },
  {
   "cell_type": "markdown",
   "id": "3680838a-30f0-487a-b159-a98997e40d94",
   "metadata": {},
   "source": [
    "Mean: Average value, Sensitive to extreme values.\n",
    "\n",
    "Median: Middle value when data is sorted, Less affected by extreme values.\n",
    "\n",
    "Mode: Most frequently occurring value, Identifies the most common value.\n",
    "\n",
    "They measure central tendency by providing a representative value for the dataset. Mean is the average, median is the middle point, and mode is the most common value, offering insights into the dataset's central location."
   ]
  },
  {
   "cell_type": "markdown",
   "id": "90e5a049-40f7-4fe5-ad2b-477943706fc6",
   "metadata": {},
   "source": [
    "## Q3. Measure the three measures of central tendency for the given height data:\n",
    "[178,177,176,177,178.2,178,175,179,180,175,178.9,176.2,177,172.5,178,176.5] "
   ]
  },
  {
   "cell_type": "code",
   "execution_count": 3,
   "id": "c96db4ca-cce2-4350-a437-4f6c13c1ab98",
   "metadata": {},
   "outputs": [
    {
     "name": "stdout",
     "output_type": "stream",
     "text": [
      "Mean Height: 177.02\n",
      "Median Height: 177.0\n",
      "Mode Height: 177.0\n"
     ]
    },
    {
     "name": "stderr",
     "output_type": "stream",
     "text": [
      "/tmp/ipykernel_854/3791542018.py:7: FutureWarning: Unlike other reduction functions (e.g. `skew`, `kurtosis`), the default behavior of `mode` typically preserves the axis it acts along. In SciPy 1.11.0, this behavior will change: the default value of `keepdims` will become False, the `axis` over which the statistic is taken will be eliminated, and the value None will no longer be accepted. Set `keepdims` to True or False to avoid this warning.\n",
      "  mode_height = mode(height_data).mode[0]\n"
     ]
    }
   ],
   "source": [
    "import numpy as np\n",
    "from scipy.stats import mode\n",
    "\n",
    "height_data = [178, 177, 176, 177, 178.2, 178, 175, 179, 180, 175, 178.9, 176.2, 177, 172.5, 178, 176.5]\n",
    "mean_height = np.mean(height_data)\n",
    "median_height = np.median(height_data)\n",
    "mode_height = mode(height_data).mode[0]\n",
    "print(f\"Mean Height: {mean_height:.2f}\")\n",
    "print(f\"Median Height: {median_height}\")\n",
    "print(f\"Mode Height: {mode_height}\")"
   ]
  },
  {
   "cell_type": "markdown",
   "id": "c023db54-5528-498c-8465-b3c1b235759c",
   "metadata": {},
   "source": [
    "## Q4. Find the standard deviation for the given data:\n",
    "[178,177,176,177,178.2,178,175,179,180,175,178.9,176.2,177,172.5,178,176.5]"
   ]
  },
  {
   "cell_type": "code",
   "execution_count": 4,
   "id": "5165d9b2-7420-4103-ae76-59a1c7e5e9da",
   "metadata": {},
   "outputs": [
    {
     "name": "stdout",
     "output_type": "stream",
     "text": [
      "Standard Deviation: 1.79\n"
     ]
    }
   ],
   "source": [
    "import numpy as np\n",
    "\n",
    "height_data = [178, 177, 176, 177, 178.2, 178, 175, 179, 180, 175, 178.9, 176.2, 177, 172.5, 178, 176.5]\n",
    "\n",
    "# Standard Deviation\n",
    "std_deviation = np.std(height_data)\n",
    "\n",
    "print(f\"Standard Deviation: {std_deviation:.2f}\")"
   ]
  },
  {
   "cell_type": "markdown",
   "id": "db942db3-4911-4e11-a670-3754d7cceccf",
   "metadata": {},
   "source": [
    "## Q5. How are measures of dispersion such as range, variance, and standard deviation used to describe the spread of a dataset? Provide an example."
   ]
  },
  {
   "cell_type": "markdown",
   "id": "8fd64f4c-f517-4781-b453-3bd061927acf",
   "metadata": {},
   "source": [
    "Range: Difference between the maximum and minimum values.\n",
    "\n",
    "Use: Indicates the spread of data but sensitive to outliers.\n",
    "\n",
    "Variance: Average of squared differences from the mean.\n",
    "\n",
    "Use: Quantifies the overall variability in the dataset.\n",
    "\n",
    "Standard Deviation: Square root of the variance.\n",
    "\n",
    "Use: Provides a more interpretable measure of variability.\n",
    "\n",
    "Example: Consider two datasets:\n",
    "\n",
    "Dataset A: [5, 10, 15, 20, 25]\n",
    "\n",
    "Dataset B: [0, 10, 15, 20, 30]\n",
    "\n",
    "Both datasets have the same mean (15), but Dataset B has a larger range, variance, and standard deviation. These measures indicate that Dataset B is more spread out, reflecting greater variability or dispersion in the data."
   ]
  },
  {
   "cell_type": "markdown",
   "id": "6cef2761-caee-4ad3-85ad-79ca0730cd9a",
   "metadata": {},
   "source": [
    "## Q6. What is a Venn diagram?"
   ]
  },
  {
   "cell_type": "markdown",
   "id": "7a7bf09e-209f-41f1-8980-5a50e72063e9",
   "metadata": {},
   "source": [
    "A Venn diagram is a visual representation of the relationships between sets. It consists of overlapping circles or other shapes, each representing a set, and the overlapping areas represent the common elements shared between sets. "
   ]
  },
  {
   "cell_type": "markdown",
   "id": "a426ea1d-ee4b-4fb2-897a-c83f48f97faf",
   "metadata": {},
   "source": [
    "## Q7. For the two given sets A = (2,3,4,5,6,7) & B = (0,2,6,8,10). Find:\n",
    "(i) A B\n",
    "(ii) A ⋃ B"
   ]
  },
  {
   "cell_type": "code",
   "execution_count": 5,
   "id": "9ffe191f-6c85-495c-a3b1-a07877695cd7",
   "metadata": {},
   "outputs": [
    {
     "name": "stdout",
     "output_type": "stream",
     "text": [
      "A ∩ B: {2, 6}\n",
      "A ∪ B: {0, 2, 3, 4, 5, 6, 7, 8, 10}\n"
     ]
    }
   ],
   "source": [
    "A = {2, 3, 4, 5, 6, 7}\n",
    "B = {0, 2, 6, 8, 10}\n",
    "\n",
    "intersection_result = A.intersection(B)\n",
    "print(f\"A ∩ B: {intersection_result}\")\n",
    "\n",
    "union_result = A.union(B)\n",
    "print(f\"A ∪ B: {union_result}\")"
   ]
  },
  {
   "cell_type": "markdown",
   "id": "1c0f30a9-bfcf-44a0-9987-4267741be4bc",
   "metadata": {},
   "source": [
    "## Q8. What do you understand about skewness in data?"
   ]
  },
  {
   "cell_type": "markdown",
   "id": "c28b7087-395b-49d9-870f-d9e370980b56",
   "metadata": {},
   "source": [
    "Skewness in data refers to the measure of the asymmetry or lack of symmetry in the distribution of values"
   ]
  },
  {
   "cell_type": "markdown",
   "id": "b7772b9a-d930-4c9d-95cb-8feca2931230",
   "metadata": {},
   "source": [
    "## Q9. If a data is right skewed then what will be the position of median with respect to mean?"
   ]
  },
  {
   "cell_type": "markdown",
   "id": "2eca041a-cd1f-4c91-bc9b-998b75ec744d",
   "metadata": {},
   "source": [
    "If a dataset is right-skewed, the median will be positioned to the left of the mean."
   ]
  },
  {
   "cell_type": "markdown",
   "id": "c5b9de6d-19cd-4db5-8dc9-e503e1d06930",
   "metadata": {},
   "source": [
    "## Q10. Explain the difference between covariance and correlation. How are these measures used in statistical analysis?"
   ]
  },
  {
   "cell_type": "markdown",
   "id": "41fbdc17-9de6-4b08-bebd-8808ada8e6dc",
   "metadata": {},
   "source": [
    "In statistical analysis, covariance and correlation are used to assess relationships between variables, identify patterns, and make predictions. Correlation is particularly useful as it's scaled and can be easily interpreted, while covariance's magnitude depends on the scales of the variables."
   ]
  },
  {
   "cell_type": "markdown",
   "id": "664f2b70-081c-4052-af10-f12c8325b66d",
   "metadata": {},
   "source": [
    "## Q11. What is the formula for calculating the sample mean? Provide an example calculation for a dataset."
   ]
  },
  {
   "cell_type": "markdown",
   "id": "873b461c-e3e3-4456-8f54-a921a4b553c0",
   "metadata": {},
   "source": [
    "To find the sample mean, sum up all the individual values in the dataset and then divide the sum by the total number of values in the dataset.\n",
    "\n",
    "Example Calculation:\n",
    "For a dataset [10, 15, 20, 25, 30], add all the values (10 + 15 + 20 + 25 + 30) and then divide by the number of values (5). The result is the sample mean, which, in this case, is 20."
   ]
  },
  {
   "cell_type": "markdown",
   "id": "2a831df5-d604-4a4c-9955-7c5ed8ad0817",
   "metadata": {},
   "source": [
    "## Q12. For a normal distribution data what is the relationship between its measure of central tendency?"
   ]
  },
  {
   "cell_type": "markdown",
   "id": "65895bda-8fec-4a3c-bc4e-d0d9c6ca3ea1",
   "metadata": {},
   "source": [
    "In a perfectly symmetrical normal distribution, the mean, median, and mode are all at the center, and they have the same value. The normal distribution is symmetric around its mean, and the central tendency measures coincide."
   ]
  },
  {
   "cell_type": "markdown",
   "id": "91fb109b-c52f-4427-8cd7-6713030a074d",
   "metadata": {},
   "source": [
    "## Q13. How is covariance different from correlation?"
   ]
  },
  {
   "cell_type": "markdown",
   "id": "2d5d4fff-2fd8-410e-9378-fb968d239326",
   "metadata": {},
   "source": [
    "Covariance has units, and its magnitude depends on the scale of variables, making it challenging to interpret. Correlation is unitless, standardized, and falls within the range [-1, 1], providing a clearer measure of the strength and direction of the linear relationship."
   ]
  },
  {
   "cell_type": "markdown",
   "id": "a72e23b0-b68b-4fe8-a7a8-8d9044bbf2ce",
   "metadata": {},
   "source": [
    "## Q14. How do outliers affect measures of central tendency and dispersion? Provide an example."
   ]
  },
  {
   "cell_type": "markdown",
   "id": "7b15d387-547d-4977-b239-4db9172151f1",
   "metadata": {},
   "source": [
    "Outliers impact measures of central tendency by pulling the mean but not the median. For dispersion, outliers widen the range and increase standard deviation, while measures like IQR are less affected. Example: In [10, 15, 20, 25, 30, 100], the outlier 100 significantly affects mean and standard deviation.\n"
   ]
  }
 ],
 "metadata": {
  "kernelspec": {
   "display_name": "Python 3 (ipykernel)",
   "language": "python",
   "name": "python3"
  },
  "language_info": {
   "codemirror_mode": {
    "name": "ipython",
    "version": 3
   },
   "file_extension": ".py",
   "mimetype": "text/x-python",
   "name": "python",
   "nbconvert_exporter": "python",
   "pygments_lexer": "ipython3",
   "version": "3.10.8"
  }
 },
 "nbformat": 4,
 "nbformat_minor": 5
}
