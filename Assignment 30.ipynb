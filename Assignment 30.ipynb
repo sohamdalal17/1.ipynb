{
 "cells": [
  {
   "cell_type": "markdown",
   "id": "947d2b78-4b11-4ff2-b6e8-eb34f5c18585",
   "metadata": {},
   "source": [
    "## Q1. What is the Probability density function?"
   ]
  },
  {
   "cell_type": "markdown",
   "id": "da451f65-8782-4d42-a608-57c013a901ce",
   "metadata": {},
   "source": [
    "The Probability Density Function (PDF) is a statistical function that describes the likelihood of a continuous random variable falling within a particular range. It provides the probability distribution for continuous random variables. The PDF is non-negative and integrates to 1 over the entire range of possible values."
   ]
  },
  {
   "cell_type": "markdown",
   "id": "53853f78-c422-4b0a-8d5c-2a043454424a",
   "metadata": {},
   "source": [
    "## Q2. What are the types of Probability distribution?"
   ]
  },
  {
   "cell_type": "markdown",
   "id": "ad5e7e38-f2ab-454c-9274-3f61bf879705",
   "metadata": {},
   "source": [
    "Discrete Probability Distributions:\n",
    "\n",
    "Bernoulli Distribution: Describes a random experiment with two possible outcomes (success or failure).\n",
    "\n",
    "Binomial Distribution: Represents the number of successes in a fixed number of independent Bernoulli trials.\n",
    "\n",
    "Poisson Distribution: Models the number of events occurring in a fixed interval of time or space.\n",
    "\n",
    "Continuous Probability Distributions:\n",
    "\n",
    "Uniform Distribution: All outcomes are equally likely over a specified range.\n",
    "\n",
    "Normal (Gaussian) Distribution: Forms a bell-shaped curve, characterized by mean and standard deviation.\n",
    "\n",
    "Exponential Distribution: Describes the time until a specific event occurs in a continuous process."
   ]
  },
  {
   "cell_type": "markdown",
   "id": "d45ffa2a-29c3-47ba-b5c9-1faed3b98047",
   "metadata": {},
   "source": [
    "## Q3. Write a Python function to calculate the probability density function of a normal distribution with given mean and standard deviation at a given point."
   ]
  },
  {
   "cell_type": "code",
   "execution_count": 1,
   "id": "a7c2ba19-3126-4e8a-8235-dc953f12e9eb",
   "metadata": {},
   "outputs": [
    {
     "name": "stdout",
     "output_type": "stream",
     "text": [
      "PDF at point 1.5: 0.12951759566589174\n"
     ]
    }
   ],
   "source": [
    "from scipy.stats import norm\n",
    "\n",
    "def normal_pdf(x, mean, std_dev):\n",
    "    pdf_value = norm.pdf(x, loc=mean, scale=std_dev)\n",
    "    return pdf_value\n",
    "\n",
    "mean_value = 0\n",
    "std_dev_value = 1\n",
    "point = 1.5\n",
    "\n",
    "pdf_at_point = normal_pdf(point, mean_value, std_dev_value)\n",
    "print(f\"PDF at point {point}: {pdf_at_point}\")"
   ]
  },
  {
   "cell_type": "markdown",
   "id": "14efbfce-f5e8-4788-86e2-fcfe169d467c",
   "metadata": {},
   "source": [
    "## Q4. What are the properties of Binomial distribution? Give two examples of events where binomial distribution can be applied."
   ]
  },
  {
   "cell_type": "markdown",
   "id": "704bb938-eed1-445d-baf6-c91da5907881",
   "metadata": {},
   "source": [
    "Properties of Binomial Distribution:\n",
    "\n",
    "Fixed Number of Trials: The experiment consists of a fixed number of identical trials.\n",
    "\n",
    "Independent Trials: Each trial is independent of others.\n",
    "\n",
    "Two Possible Outcomes: Each trial results in either success or failure.\n",
    "\n",
    "Constant Probability of Success: The probability of success is the same for each trial.\n",
    "\n",
    "Discrete Nature: The number of successes is a discrete random variable.\n",
    "\n",
    "Examples of Events:\n",
    "\n",
    "Coin Flipping: Each flip of a fair coin can be modeled as a binomial distribution, where success is getting a head, and failure is getting a tail. The number of heads in a fixed number of coin flips follows a binomial distribution.\n",
    "\n",
    "Quality Control: In a manufacturing process, each item produced can be either defective (failure) or non-defective (success). If the probability of a defect is constant, and items are produced independently, the number of defective items in a batch can be modeled using a binomial distribution."
   ]
  },
  {
   "cell_type": "markdown",
   "id": "22822970-2766-4f19-afb8-c63a8457f833",
   "metadata": {},
   "source": [
    "## Q5. Generate a random sample of size 1000 from a binomial distribution with probability of success 0.4 and plot a histogram of the results using matplotlib."
   ]
  },
  {
   "cell_type": "code",
   "execution_count": 2,
   "id": "e78c9245-e372-48d8-853e-f70258a8cdd2",
   "metadata": {},
   "outputs": [
    {
     "data": {
      "image/png": "[encoded data removed]",
      "text/plain": [
       "<Figure size 640x480 with 1 Axes>"
      ]
     },
     "metadata": {},
     "output_type": "display_data"
    }
   ],
   "source": [
    "import numpy as np\n",
    "import matplotlib.pyplot as plt\n",
    "\n",
    "probability_of_success = 0.4\n",
    "sample_size = 1000\n",
    "\n",
    "random_sample = np.random.binomial(n=1, p=probability_of_success, size=sample_size)\n",
    "\n",
    "plt.hist(random_sample, bins=[0, 1, 2], align='left', rwidth=0.8, color='skyblue', edgecolor='black')\n",
    "plt.xlabel('Outcome')\n",
    "plt.ylabel('Frequency')\n",
    "plt.title(f'Binomial Distribution (n=1, p={probability_of_success}) - Random Sample')\n",
    "plt.xticks([0, 1], ['Failure', 'Success'])\n",
    "plt.show()"
   ]
  },
  {
   "cell_type": "markdown",
   "id": "92ed09dd-bfca-4f92-b4f8-77ca4df9d696",
   "metadata": {},
   "source": [
    "## Q6. Write a Python function to calculate the cumulative distribution function of a Poisson distribution with given mean at a given point."
   ]
  },
  {
   "cell_type": "code",
   "execution_count": 3,
   "id": "b38c4c7b-c0bc-43b9-9163-8c4609214a87",
   "metadata": {},
   "outputs": [
    {
     "name": "stdout",
     "output_type": "stream",
     "text": [
      "CDF at point 2: 0.42319008112684364\n"
     ]
    }
   ],
   "source": [
    "from scipy.stats import poisson\n",
    "\n",
    "def poisson_cdf(x, mean):\n",
    "    cdf_value = poisson.cdf(x, mu=mean)\n",
    "    return cdf_value\n",
    "\n",
    "mean_value = 3\n",
    "point = 2\n",
    "\n",
    "cdf_at_point = poisson_cdf(point, mean_value)\n",
    "print(f\"CDF at point {point}: {cdf_at_point}\")"
   ]
  },
  {
   "cell_type": "markdown",
   "id": "7ef7ac67-7258-4ad7-8c03-672dda43066e",
   "metadata": {},
   "source": [
    "## Q7. How Binomial distribution different from Poisson distribution?"
   ]
  },
  {
   "cell_type": "markdown",
   "id": "235f46be-0814-44d9-9e96-862928e25485",
   "metadata": {},
   "source": [
    "Binomial Distribution vs. Poisson Distribution:\n",
    "\n",
    "Nature of Trials:\n",
    "\n",
    "Binomial: Fixed, independent trials with two outcomes.\n",
    "\n",
    "Poisson: Represents count of rare, independent events in a fixed interval.\n",
    "\n",
    "Number of Outcomes:\n",
    "Binomial: Two outcomes (success or failure).\n",
    "\n",
    "Poisson: Potentially infinite outcomes, representing event counts.\n",
    "\n",
    "Probability:\n",
    "Binomial: Constant probability of success.\n",
    "\n",
    "Poisson: Models rare events with a small probability.\n",
    "\n",
    "Parameters:\n",
    "Binomial: Requires n (number of trials) and p (probability of success).\n",
    "\n",
    "Poisson: Requires λ (average rate of event occurrence).\n",
    "\n",
    "Type:\n",
    "Binomial: Discrete, for a fixed number of discrete trials.\n",
    "\n",
    "Poisson: Discrete, for counting rare events in a fixed interval."
   ]
  },
  {
   "cell_type": "markdown",
   "id": "8ddef083-cfc0-44a5-8026-4d3da3b51113",
   "metadata": {
    "tags": []
   },
   "source": [
    "## Q8. Generate a random sample of size 1000 from a Poisson distribution with mean 5 and calculate the sample mean and variance."
   ]
  },
  {
   "cell_type": "code",
   "execution_count": 5,
   "id": "0a712687-10bb-4f32-9fa9-53557c76c9c9",
   "metadata": {},
   "outputs": [
    {
     "name": "stdout",
     "output_type": "stream",
     "text": [
      "Sample Mean: 4.848\n",
      "Sample Variance: 5.132896000000001\n"
     ]
    }
   ],
   "source": [
    "import numpy as np\n",
    "mean_value = 5\n",
    "sample_size = 1000\n",
    "\n",
    "random_sample = np.random.poisson(lam=mean_value, size=sample_size)\n",
    "\n",
    "sample_mean = np.mean(random_sample)\n",
    "sample_variance = np.var(random_sample)\n",
    "\n",
    "print(f\"Sample Mean: {sample_mean}\")\n",
    "print(f\"Sample Variance: {sample_variance}\")"
   ]
  },
  {
   "cell_type": "markdown",
   "id": "9a7e9045-b0fb-4080-b162-7d9fd5ae106c",
   "metadata": {},
   "source": [
    "## Q9. How mean and variance are related in Binomial distribution and Poisson distribution?"
   ]
  },
  {
   "cell_type": "markdown",
   "id": "7ed72f46-0b01-4153-ae71-a7e6e147ea5b",
   "metadata": {},
   "source": [
    "In the limit of a large number of trials in a binomial distribution, where the product of the number of trials and the probability of success is fixed, the binomial distribution behaves similarly to the Poisson distribution in terms of mean and variance ."
   ]
  },
  {
   "cell_type": "markdown",
   "id": "41f41bda-2d4d-48c9-a622-ad528b7f8f25",
   "metadata": {},
   "source": [
    "## Q10. In normal distribution with respect to mean position, where does the least frequent data appear?"
   ]
  },
  {
   "cell_type": "markdown",
   "id": "e972b5f3-04df-4336-b347-510d00a33457",
   "metadata": {},
   "source": [
    "In a normal distribution, the least frequent data appears in the tails, farthest from the mean position. The tails of the normal distribution represent the extreme values, and as you move away from the mean towards the tails, the frequency of data points decreases. The majority of data points are concentrated around the mean, making it the most frequent or central location in a normal distribution."
   ]
  },
  {
   "cell_type": "code",
   "execution_count": null,
   "id": "f8b0bc9f-d3ee-4340-becf-bae57d6e895b",
   "metadata": {},
   "outputs": [],
   "source": [
    "#"
   ]
  }
 ],
 "metadata": {
  "kernelspec": {
   "display_name": "Python 3 (ipykernel)",
   "language": "python",
   "name": "python3"
  },
  "language_info": {
   "codemirror_mode": {
    "name": "ipython",
    "version": 3
   },
   "file_extension": ".py",
   "mimetype": "text/x-python",
   "name": "python",
   "nbconvert_exporter": "python",
   "pygments_lexer": "ipython3",
   "version": "3.10.8"
  }
 },
 "nbformat": 4,
 "nbformat_minor": 5
}
