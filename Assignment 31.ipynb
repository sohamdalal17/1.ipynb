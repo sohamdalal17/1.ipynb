{
 "cells": [
  {
   "cell_type": "markdown",
   "id": "bef26c53-c252-4369-bcb3-d9172f494c9c",
   "metadata": {},
   "source": [
    "## Q1: What are the Probability Mass Function (PMF) and Probability Density Function (PDF)? Explain with an example."
   ]
  },
  {
   "cell_type": "markdown",
   "id": "336474c5-387c-4c69-80ca-a80333b14f6d",
   "metadata": {},
   "source": [
    "Probability Mass Function (PMF):\n",
    "\n",
    "Definition: Gives the probability of discrete outcomes.\n",
    "\n",
    "Example: For a fair six-sided die, each number has a probability of 1/6.\n",
    "\n",
    "Probability Density Function (PDF):\n",
    "\n",
    "Definition: Gives the likelihood of continuous outcomes.\n",
    "\n",
    "Example: In a bell-shaped normal distribution, the height at a point indicates the likelihood of that value."
   ]
  },
  {
   "cell_type": "markdown",
   "id": "1a7d40fb-16ce-492f-b22a-6a404229a537",
   "metadata": {},
   "source": [
    "## Q2: What is Cumulative Density Function (CDF)? Explain with an example. Why CDF is used?"
   ]
  },
  {
   "cell_type": "markdown",
   "id": "ef27d3b1-a191-406d-aefe-0d3e5aa729a0",
   "metadata": {},
   "source": [
    "CDF gives the probability that a random variable takes a value less than or equal to a specified value.\n",
    "\n",
    "Example: For a fair six-sided die, the CDF would show the cumulative probability of getting a number less than or equal to a specific value.\n",
    "\n",
    "Why CDF is Used:\n",
    "\n",
    "Cumulative Probability: Provides the cumulative probability distribution, giving the probability up to a certain point.\n",
    "\n",
    "Quantiles: Helps identify percentiles and quantiles, aiding in statistical analysis.\n",
    "\n",
    "Ease of Interpretation: Easier to interpret than the probability of individual values."
   ]
  },
  {
   "cell_type": "markdown",
   "id": "3b389e04-c170-4e41-b68b-ee8ca1ce804e",
   "metadata": {},
   "source": [
    "## Q3: What are some examples of situations where the normal distribution might be used as a model? Explain how the parameters of the normal distribution relate to the shape of the distribution."
   ]
  },
  {
   "cell_type": "markdown",
   "id": "56de185a-3e96-4007-a9da-12e6d7d80ff9",
   "metadata": {},
   "source": [
    "Examples of Situations for Normal Distribution:\n",
    "\n",
    "Height of Individuals: Human height often follows a normal distribution.\n",
    "\n",
    "IQ Scores: IQ scores are standardized and follow a normal distribution.\n",
    "\n",
    "Measurement Errors: Natural variations and errors in measurements.\n",
    "\n",
    "Financial Data: Stock prices and financial returns often exhibit normality.\n",
    "\n",
    "Parameters of Normal Distribution:\n",
    "\n",
    "Mean (μ):\n",
    "\n",
    "Effect on Shape: Determines the central location or peak of the distribution.\n",
    "\n",
    "Shift: Shifting shifts the entire distribution left or right.\n",
    "\n",
    "Standard Deviation (σ):\n",
    "\n",
    "Effect on Shape: Controls the spread or width of the distribution.\n",
    "\n",
    "Scale: Larger results in a wider and flatter distribution."
   ]
  },
  {
   "cell_type": "markdown",
   "id": "93f095f1-a77d-426d-bb19-827970fce253",
   "metadata": {},
   "source": [
    "## Q4: Explain the importance of Normal Distribution. Give a few real-life examples of Normal Distribution."
   ]
  },
  {
   "cell_type": "markdown",
   "id": "3ff85f37-d14d-4f43-9c95-c4f73b255779",
   "metadata": {},
   "source": [
    "Importance of Normal Distribution:\n",
    "\n",
    "1.Statistical Inference: Many statistical methods and tests assume normality for accurate results.\n",
    "2.Modeling Uncertainty: Used to model uncertainties and variations in natural processes.\n",
    "3.Central Limit Theorem: Foundation for the Central Limit Theorem, crucial in statistical analysis.\n",
    "4.Predictive Modeling: Frequently observed in real-world phenomena, aiding in predictive modeling.\n",
    "\n",
    "Real-life Examples of Normal Distribution:\n",
    "\n",
    "q.Height of Individuals: Human height tends to follow a normal distribution.\n",
    "2.IQ Scores: Intelligence quotient scores are standardized and often exhibit normality.\n",
    "3.Exam Scores: Scores on well-designed exams in large populations.\n",
    "4.Measurement Errors: Natural variations and errors in measurements."
   ]
  },
  {
   "cell_type": "markdown",
   "id": "ecc884ce-096e-4dbb-bdfb-f31a3e22dcac",
   "metadata": {},
   "source": [
    "## Q5: What is Bernaulli Distribution? Give an Example. What is the difference between Bernoulli Distribution and Binomial Distribution?"
   ]
  },
  {
   "cell_type": "markdown",
   "id": "37be0044-96db-41aa-b016-027ed26908b5",
   "metadata": {},
   "source": [
    "Bernoulli Distribution: Describes situations with two possible outcomes, like tossing a coin (heads or tails).\n",
    "\n",
    "Example: Tossing a coin, where 1 is heads (success) and 0 is tails (failure).\n",
    "\n",
    "Difference between Bernoulli and Binomial Distribution:\n",
    "\n",
    "Number of Trials:\n",
    "\n",
    "Bernoulli: Represents a single trial or experiment.\n",
    "Binomial: Describes the number of successes in a fixed number of independent trials.\n",
    "\n",
    "Parameters:\n",
    "\n",
    "Bernoulli: Only has one parameter, the probability of success \n",
    "Binomial: Has two parameters, the number of trials and the probability of success in each trial (\n",
    "\n",
    "Number of Outcomes:\n",
    "\n",
    "Bernoulli: Two possible outcomes (success or failure).\n",
    "Binomial: Represents the sum of successes in n independent Bernoulli trials, hence multiple possible outcomes."
   ]
  },
  {
   "cell_type": "markdown",
   "id": "0f1b1083-7213-4fff-b023-29fe0e177ba3",
   "metadata": {},
   "source": [
    "## Q6. Consider a dataset with a mean of 50 and a standard deviation of 10. If we assume that the dataset is normally distributed, what is the probability that a randomly selected observation will be greater than 60? Use the appropriate formula and show your calculations."
   ]
  },
  {
   "cell_type": "markdown",
   "id": "2e430028-7a93-4513-be95-06e5ec82f591",
   "metadata": {},
   "source": [
    "Z-score Formula:\n",
    "\n",
    "Z= X−μ/σ\n",
    "\n",
    "Z=60-50/10=1\n",
    "\n",
    "Now, you look up the probability associated with a Z-score of 1 in the standard normal distribution table or use a calculator. For a Z-score of 1, the cumulative probability is approximately 0.8413.\n",
    "\n",
    "Therefore, the probability that a randomly selected observation will be greater than 60 is approximately 1-0.8413 = 0.1587 or 15.87%"
   ]
  },
  {
   "cell_type": "markdown",
   "id": "3385ec79-8f05-4ec8-a6c5-54249b8d7eda",
   "metadata": {},
   "source": [
    "## Q7: Explain uniform Distribution with an example."
   ]
  },
  {
   "cell_type": "markdown",
   "id": "724fd93f-05c8-4589-ac0e-481b1d07f4ca",
   "metadata": {},
   "source": [
    "Uniform Distribution: A probability distribution where all possible outcomes are equally likely, creating a constant probability.\n",
    "\n",
    "Example:\n",
    "\n",
    "Rolling a Fair Die:\n",
    "Outcomes: Numbers 1 to 6.\n",
    "Probability: Each number has an equal probability of 1/6.\n",
    "Representation: Uniform distribution as each outcome is equally likely."
   ]
  },
  {
   "cell_type": "markdown",
   "id": "524db892-2008-426b-b1b7-af512cd6a5d2",
   "metadata": {},
   "source": [
    "## Q8: What is the z score? State the importance of the z score."
   ]
  },
  {
   "cell_type": "markdown",
   "id": "3b29f1b0-f9c2-46a5-bb72-7b0b7e0c22ca",
   "metadata": {},
   "source": [
    "The Z-score (or standard score) measures how many standard deviations a particular data point is from the mean of a dataset.\n",
    "\n",
    "Z-score Formula:\n",
    "\n",
    "Z= X−μ/σ\n",
    "\n",
    "Importance of Z-Score:\n",
    "\n",
    "Standardization: Allows comparison of scores from different distributions or datasets.\n",
    "\n",
    "Identifying Outliers: Z-scores help identify data points that are unusually high or low.\n",
    "\n",
    "Probability Calculations: Used in finding probabilities associated with specific values in a normal distribution.\n",
    "\n",
    "Normal Distribution Interpretation: In a standard normal distribution, Z-scores indicate how far a data point is from the mean in terms of standard deviations."
   ]
  },
  {
   "cell_type": "markdown",
   "id": "f73ec882-0ba8-4059-9e1a-53c59af31b8d",
   "metadata": {},
   "source": [
    "## Q9: What is Central Limit Theorem? State the significance of the Central Limit Theorem."
   ]
  },
  {
   "cell_type": "markdown",
   "id": "f6ebf1d1-d1d7-450a-9162-94dfce1da7db",
   "metadata": {},
   "source": [
    "The Central Limit Theorem states that, regardless of the original distribution of a population, the distribution of the sample mean for sufficiently large sample sizes will be approximately normally distributed.\n",
    "\n",
    "Significance:\n",
    "\n",
    "Normality Assurance: It assures that the distribution of sample means becomes approximately normal, even if the population distribution is not normal.\n",
    "\n",
    "Statistical Inference: Enables the use of normal distribution-based statistical methods for making inferences about population parameters.\n",
    "Sampling Theory: Forms the basis for many statistical tests and confidence intervals.\n",
    "\n",
    "Real-world Applicability: Widely used in fields like quality control, finance, and social sciences where sample means are often analyzed."
   ]
  },
  {
   "cell_type": "markdown",
   "id": "dcfcd51e-08c9-4d48-8205-6fbb7a654c5e",
   "metadata": {},
   "source": [
    "## Q10: State the assumptions of the Central Limit Theorem."
   ]
  },
  {
   "cell_type": "markdown",
   "id": "e60f117c-07ec-4f88-886e-136e9429d578",
   "metadata": {},
   "source": [
    "Assumptions of the Central Limit Theorem (CLT):\n",
    "\n",
    "Random Sampling: The samples must be randomly and independently selected from the population.\n",
    "\n",
    "Sample Size: The sample size should be sufficiently large. There isn't a fixed threshold, but a commonly used guideline is a sample size greater than 30.\n",
    "\n",
    "Independence: Individual observations within the sample should be independent of each other.\n",
    "\n",
    "Population Distribution: The population distribution should have a well-defined mean and standard deviation ."
   ]
  },
  {
   "cell_type": "code",
   "execution_count": 1,
   "id": "8e2c9558-f5e7-4dbb-b904-86cd5ee1e8d3",
   "metadata": {},
   "outputs": [],
   "source": [
    "#"
   ]
  },
  {
   "cell_type": "code",
   "execution_count": null,
   "id": "c4de0ea9-ab24-49d0-9a38-6281c8dc56f9",
   "metadata": {},
   "outputs": [],
   "source": []
  }
 ],
 "metadata": {
  "kernelspec": {
   "display_name": "Python 3 (ipykernel)",
   "language": "python",
   "name": "python3"
  },
  "language_info": {
   "codemirror_mode": {
    "name": "ipython",
    "version": 3
   },
   "file_extension": ".py",
   "mimetype": "text/x-python",
   "name": "python",
   "nbconvert_exporter": "python",
   "pygments_lexer": "ipython3",
   "version": "3.10.8"
  }
 },
 "nbformat": 4,
 "nbformat_minor": 5
}
