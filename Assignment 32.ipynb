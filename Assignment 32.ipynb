{
 "cells": [
  {
   "cell_type": "markdown",
   "id": "e874342e-e97f-4888-8e65-61276be3e816",
   "metadata": {},
   "source": [
    "## Q1: What is Estimation Statistics? Explain point estimate and interval estimate."
   ]
  },
  {
   "cell_type": "markdown",
   "id": "e465e05a-42a1-41fe-b1b0-15387a8c037f",
   "metadata": {},
   "source": [
    "Estimation Statistics: Estimation in statistics involves the process of estimating population parameters based on sample data.\n",
    "\n",
    "Point Estimate: A single value that best approximates the unknown population parameter.\n",
    "\n",
    "Interval Estimate: An estimate that provides a range within which the true population parameter is likely to fall."
   ]
  },
  {
   "cell_type": "markdown",
   "id": "26aba7ff-70ca-48fc-9a54-83499897f715",
   "metadata": {},
   "source": [
    "## Q2. Write a Python function to estimate the population mean using a sample mean and standard deviation."
   ]
  },
  {
   "cell_type": "code",
   "execution_count": 4,
   "id": "27175ac0-a0f4-463c-8ceb-1f861ffd1ea7",
   "metadata": {},
   "outputs": [
    {
     "name": "stdout",
     "output_type": "stream",
     "text": [
      "Estimated Population Mean (95% Confidence Interval): (69.02, 70.98)\n"
     ]
    }
   ],
   "source": [
    "import math\n",
    "def estimate_population_mean(sample_mean, sample_std_dev, sample_size):\n",
    "    z_score = 1.96 \n",
    "    margin_of_error = z_score * (sample_std_dev / math.sqrt(sample_size))\n",
    "\n",
    "    lower_bound = sample_mean - margin_of_error\n",
    "    upper_bound = sample_mean + margin_of_error\n",
    "\n",
    "    return lower_bound, upper_bound\n",
    "\n",
    "sample_mean = 70\n",
    "sample_std_dev = 5\n",
    "sample_size = 100\n",
    "\n",
    "interval_estimate = estimate_population_mean(sample_mean, sample_std_dev, sample_size)\n",
    "print(\"Estimated Population Mean (95% Confidence Interval):\", interval_estimate)"
   ]
  },
  {
   "cell_type": "markdown",
   "id": "9bee5eab-22a4-42c4-819b-57f638e186ed",
   "metadata": {},
   "source": [
    "## Q3: What is Hypothesis testing? Why is it used? State the importance of Hypothesis testing."
   ]
  },
  {
   "cell_type": "markdown",
   "id": "c52a4ba7-553f-4285-8d9f-8e53ad9b05eb",
   "metadata": {},
   "source": [
    "Hypothesis Testing: Statistical method for making inferences about population parameters using sample data.\n",
    "\n",
    "Importance:\n",
    "\n",
    "Decision-Making: Helps make decisions based on data.\n",
    "\n",
    "Scientific Research: Validates or invalidates hypotheses in research.\n",
    "\n",
    "Quality Control: Ensures product quality in industries.\n",
    "\n",
    "Policy Evaluation: Evaluates effectiveness of policies.\n",
    "\n",
    "Statistical Inference: Allows generalization from sample to population.\n",
    "\n",
    "Scientific Rigor: Adds rigor to scientific method."
   ]
  },
  {
   "cell_type": "markdown",
   "id": "320ec87f-bbc0-451e-942c-0385f186faaa",
   "metadata": {},
   "source": [
    "## Q4. Create a hypothesis that states whether the average weight of male college students is greater than the average weight of female college students."
   ]
  },
  {
   "cell_type": "markdown",
   "id": "9694782f-0d1d-4d4d-b54d-48729a163060",
   "metadata": {},
   "source": [
    "Null Hypothesis (H0):\n",
    "\n",
    "The average weight of male college students is equal to or less than the average weight of female college students.\n",
    "\n",
    "Alternative Hypothesis (Ha):\n",
    "\n",
    "The average weight of male college students is greater than the average weight of female college students.\n",
    "\n",
    "This framing of the hypothesis allows for testing whether there is evidence to suggest that male college students, on average, have a greater weight than female college students."
   ]
  },
  {
   "cell_type": "markdown",
   "id": "933f0d98-658f-4ef5-b3cc-2e594e9794f7",
   "metadata": {},
   "source": [
    "## Q5. Write a Python script to conduct a hypothesis test on the difference between two population means, given a sample from each population."
   ]
  },
  {
   "cell_type": "code",
   "execution_count": 5,
   "id": "868d3f89-1f96-4dc2-bfb4-36235a52b896",
   "metadata": {},
   "outputs": [
    {
     "name": "stdout",
     "output_type": "stream",
     "text": [
      "p-value: 0.06023292455955318\n",
      "Reject Null Hypothesis? False\n"
     ]
    }
   ],
   "source": [
    "import numpy as np\n",
    "from scipy import stats\n",
    "\n",
    "def two_sample_hypothesis_test(sample1, sample2, alpha=0.05):\n",
    "    \n",
    "    _, p_value = stats.ttest_ind(sample1, sample2)\n",
    "\n",
    "    reject_null = p_value < alpha\n",
    "\n",
    "    return p_value, reject_null\n",
    "\n",
    "np.random.seed(42) \n",
    "sample_male = np.random.normal(loc=75, scale=10, size=30)  \n",
    "sample_female = np.random.normal(loc=70, scale=8, size=30) \n",
    "\n",
    "p_value, reject_null = two_sample_hypothesis_test(sample_male, sample_female)\n",
    "\n",
    "print(\"p-value:\", p_value)\n",
    "print(\"Reject Null Hypothesis?\" , reject_null)"
   ]
  },
  {
   "cell_type": "markdown",
   "id": "1f39ad5d-18c6-494b-9a4e-0a235178e873",
   "metadata": {},
   "source": [
    "## Q6: What is a null and alternative hypothesis? Give some examples."
   ]
  },
  {
   "cell_type": "markdown",
   "id": "674ef66e-af3d-4d25-81c7-909f9985bb6c",
   "metadata": {},
   "source": [
    "Null Hypothesis (H0): A statement that there is no significant difference, effect, or relationship; often represents the status quo or no effect.\n",
    "\n",
    "Example:The average response time for Product A is equal to the average response time for Product B.\n",
    "\n",
    "Alternative Hypothesis (Ha or H1):\n",
    "\n",
    "A statement that contradicts the null hypothesis, suggesting a significant difference, effect, or relationship.\n",
    "\n",
    "Example: The average response time for Product A is different from the average response time for Product B."
   ]
  },
  {
   "cell_type": "markdown",
   "id": "9bcd329d-688c-4d89-a5cb-fb202aa1c9c7",
   "metadata": {},
   "source": [
    "## Q7: Write down the steps involved in hypothesis testing."
   ]
  },
  {
   "cell_type": "markdown",
   "id": "df2cd5a8-a571-4859-854c-6e246ecfead5",
   "metadata": {},
   "source": [
    "Formulate Hypotheses:\n",
    "\n",
    "Define the null hypothesis (H 0 ) and alternative hypothesis (H a ) based on the research question.\n",
    "\n",
    "Choose Significance Level (α):\n",
    "\n",
    "Select the significance level (commonly 0.05), representing the probability of rejecting the null hypothesis when it is true.\n",
    "\n",
    "Collect Data:\n",
    "\n",
    "Collect and analyze sample data relevant to the research question.\n",
    "\n",
    "Calculate Test Statistic:\n",
    "\n",
    "Compute the test statistic appropriate for the hypothesis test (e.g., t-statistic, z-statistic).\n",
    "\n",
    "Determine Critical Region:\n",
    "\n",
    "Identify the critical region or rejection region based on the chosen significance level and the distribution of the test statistic.\n",
    "\n",
    "Make Decision:\n",
    "\n",
    "Compare the test statistic to the critical value or p-value.\n",
    "\n",
    "If the test statistic falls into the critical region, reject the null hypothesis.\n",
    "\n",
    "If p-value is less than α, reject the null hypothesis.\n",
    "\n",
    "Draw Conclusion:\n",
    "\n",
    "State the conclusion in the context of the problem, including the decision about the null hypothesis.\n",
    "\n",
    "Interpret Results:\n",
    "\n",
    "Interpret the findings and consider the practical significance of the results."
   ]
  },
  {
   "cell_type": "markdown",
   "id": "43a5dc79-632f-4b6b-af67-389f5a6a3c6b",
   "metadata": {},
   "source": [
    "## Q8. Define p-value and explain its significance in hypothesis testing."
   ]
  },
  {
   "cell_type": "markdown",
   "id": "0f006145-8d02-4e64-bc06-db20b539862e",
   "metadata": {},
   "source": [
    "P-value: The p-value is a measure indicating the likelihood of obtaining observed results (or more extreme) if the null hypothesis is true.\n",
    "\n",
    "Significance in Hypothesis Testing:\n",
    "\n",
    "Interpretation:\n",
    "\n",
    "A small p-value suggests that the observed data is unlikely under the null hypothesis, leading to the rejection of the null hypothesis.\n",
    "\n",
    "A large p-value implies that the observed data is plausible under the null hypothesis, leading to the retention of the null hypothesis.\n",
    "\n",
    "Comparison with Significance Level:\n",
    "\n",
    "The p-value is compared to a pre-chosen significance level (e.g., 0.05) to decide whether to reject or fail to reject the null hypothesis.\n",
    "Precision:\n",
    "\n",
    "Lower p-values provide stronger evidence against the null hypothesis, indicating more precise results."
   ]
  },
  {
   "cell_type": "markdown",
   "id": "b135ad31-646c-4057-a91c-0da1c26c4ecf",
   "metadata": {},
   "source": [
    "## Q9. Generate a Student's t-distribution plot using Python's matplotlib library, with the degrees of freedom parameter set to 10."
   ]
  },
  {
   "cell_type": "code",
   "execution_count": 6,
   "id": "a6ff7254-dc60-4f90-92e0-d1d1d4b75f44",
   "metadata": {},
   "outputs": [
    {
     "data": {
      "image/png": "[encoded data removed]",
      "text/plain": [
       "<Figure size 640x480 with 1 Axes>"
      ]
     },
     "metadata": {},
     "output_type": "display_data"
    }
   ],
   "source": [
    "import numpy as np\n",
    "import matplotlib.pyplot as plt\n",
    "from scipy.stats import t\n",
    "\n",
    "degrees_of_freedom = 10\n",
    "\n",
    "x = np.linspace(-4, 4, 1000)\n",
    "\n",
    "pdf_values = t.pdf(x, df=degrees_of_freedom)\n",
    "\n",
    "plt.plot(x, pdf_values, label=f'Student\\'s t-distribution (df={degrees_of_freedom})')\n",
    "plt.title('Student\\'s t-distribution')\n",
    "plt.xlabel('x')\n",
    "plt.ylabel('Probability Density Function (PDF)')\n",
    "plt.legend()\n",
    "plt.show()"
   ]
  },
  {
   "cell_type": "markdown",
   "id": "610e5ed7-1f4d-4fcb-932c-a901520469de",
   "metadata": {},
   "source": [
    "## Q10. Write a Python program to calculate the two-sample t-test for independent samples, given two random samples of equal size and a null hypothesis that the population means are equal."
   ]
  },
  {
   "cell_type": "code",
   "execution_count": 7,
   "id": "5cd08532-b0b8-469e-9686-93e3ed8f9c82",
   "metadata": {},
   "outputs": [
    {
     "name": "stdout",
     "output_type": "stream",
     "text": [
      "t-statistic: -3.9953431435565987\n",
      "p-value: 9.106540086305172e-05\n"
     ]
    }
   ],
   "source": [
    "import numpy as np\n",
    "from scipy.stats import ttest_ind\n",
    "\n",
    "def two_sample_t_test(sample1, sample2):\n",
    "    \n",
    "    t_statistic, p_value = ttest_ind(sample1, sample2)\n",
    "    return t_statistic, p_value\n",
    "\n",
    "np.random.seed(42)\n",
    "sample1 = np.random.normal(loc=30, scale=5, size=100)  \n",
    "sample2 = np.random.normal(loc=32, scale=5, size=100) \n",
    "\n",
    "t_statistic, p_value = two_sample_t_test(sample1, sample2)\n",
    "\n",
    "print(\"t-statistic:\", t_statistic)\n",
    "print(\"p-value:\", p_value)"
   ]
  },
  {
   "cell_type": "markdown",
   "id": "5f37805a-c59e-431a-b540-6f5c9cdad410",
   "metadata": {},
   "source": [
    "## Q11: What is Student’s t distribution? When to use the t-Distribution."
   ]
  },
  {
   "cell_type": "markdown",
   "id": "4c956657-d037-44ee-bfe1-2ba41a5b15a1",
   "metadata": {},
   "source": [
    "The Student’s t distribution is a probability distribution that arises in the estimation of the mean of a normally distributed population when the sample size is small or the population standard deviation is unknown.\n",
    "\n",
    "When to Use the t-Distribution:\n",
    "\n",
    "Small Sample Sizes:\n",
    "\n",
    "Use the t-distribution when working with small sample sizes (typically when the sample size is less than 30).\n",
    "Unknown Population Standard Deviation:\n",
    "\n",
    "When the population standard deviation is unknown, the t-distribution is used instead of the normal distribution.\n",
    "Estimating Population Mean:\n",
    "\n",
    "In situations where you are estimating the population mean based on a sample mean and want to account for the uncertainty due to the small sample size.\n",
    "Hypothesis Testing:\n",
    "\n",
    "Often used in hypothesis testing when dealing with small samples, especially for comparing means.\n",
    "Confidence Intervals:\n",
    "\n",
    "When constructing confidence intervals for the population mean with small sample sizes."
   ]
  },
  {
   "cell_type": "markdown",
   "id": "7e5adc13-5ddd-464e-bdba-bd23d5173640",
   "metadata": {},
   "source": [
    "## Q12: What is t-statistic? State the formula for t-statistic."
   ]
  },
  {
   "cell_type": "markdown",
   "id": "17e8d960-a3f7-4e40-9cf9-ef9750774c00",
   "metadata": {},
   "source": [
    "The t-statistic is a measure that quantifies the difference between the sample mean and the hypothesized population mean in terms of standard error.\n",
    " \n",
    "    \n",
    "t=  x−μ/s/square root n\n",
    "\n",
    "where:\n",
    "\n",
    "x : sample mean,\n",
    "\n",
    "μ : hypothesized population mean,\n",
    "\n",
    "s : sample standard deviation,\n",
    "\n",
    "n : sample size."
   ]
  },
  {
   "cell_type": "markdown",
   "id": "d2d63055-7d9d-48b8-a404-c1d51b650f59",
   "metadata": {},
   "source": [
    "## Q13. A coffee shop owner wants to estimate the average daily revenue for their shop. They take a random sample of 50 days and find the sample mean revenue to be $500 with a standard deviation of $50. Estimate the population mean revenue with a 95% confidence interval."
   ]
  },
  {
   "cell_type": "code",
   "execution_count": 8,
   "id": "f6e3fb62-2765-45b3-bd41-688c120969d9",
   "metadata": {},
   "outputs": [
    {
     "name": "stdout",
     "output_type": "stream",
     "text": [
      "95% Confidence Interval: ($486.14, $513.86)\n"
     ]
    }
   ],
   "source": [
    "import numpy as np\n",
    "# Given data\n",
    "sample_mean = 500  \n",
    "standard_deviation = 50 \n",
    "sample_size = 50  \n",
    "confidence_level = 0.95 \n",
    "\n",
    "\n",
    "critical_value = 1.96\n",
    "\n",
    "margin_of_error = critical_value * (standard_deviation / np.sqrt(sample_size))\n",
    "\n",
    "\n",
    "lower_bound = sample_mean - margin_of_error\n",
    "upper_bound = sample_mean + margin_of_error\n",
    "\n",
    "print(f\"95% Confidence Interval: (${lower_bound:.2f}, ${upper_bound:.2f})\")"
   ]
  },
  {
   "cell_type": "markdown",
   "id": "5c891e56-e536-4c9a-90e6-cf579e8e177b",
   "metadata": {},
   "source": [
    "## Q14. A researcher hypothesizes that a new drug will decrease blood pressure by 10 mmHg. They conduct a clinical trial with 100 patients and find that the sample mean decrease in blood pressure is 8 mmHg with a standard deviation of 3 mmHg. Test the hypothesis with a significance level of 0.05."
   ]
  },
  {
   "cell_type": "code",
   "execution_count": 10,
   "id": "73390dff-2530-4a38-879d-99005b265170",
   "metadata": {},
   "outputs": [
    {
     "name": "stdout",
     "output_type": "stream",
     "text": [
      "t-Statistic: -6.6667\n",
      "Critical t-Value: 1.9842\n",
      "P-Value: 0.0000\n",
      "Null Hypothesis Rejected: True\n"
     ]
    }
   ],
   "source": [
    "import numpy as np\n",
    "from scipy.stats import t\n",
    "\n",
    "# Given data\n",
    "sample_mean = 8  \n",
    "hypothesized_mean = 10  \n",
    "sample_std_dev = 3 \n",
    "sample_size = 100 \n",
    "significance_level = 0.05\n",
    "\n",
    "t_statistic = (sample_mean - hypothesized_mean) / (sample_std_dev / np.sqrt(sample_size))\n",
    "\n",
    "degrees_of_freedom = sample_size - 1\n",
    "\n",
    "critical_value = t.ppf(1 - significance_level / 2, degrees_of_freedom)\n",
    "\n",
    "p_value = 2 * (1 - t.cdf(np.abs(t_statistic), degrees_of_freedom))\n",
    "\n",
    "reject_null = p_value < significance_level\n",
    "\n",
    "print(f\"t-Statistic: {t_statistic:.4f}\")\n",
    "print(f\"Critical t-Value: {critical_value:.4f}\")\n",
    "print(f\"P-Value: {p_value:.4f}\")\n",
    "print(f\"Null Hypothesis Rejected: {reject_null}\")"
   ]
  },
  {
   "cell_type": "markdown",
   "id": "a08cebcd-6deb-41c9-bce4-a9329622fdfb",
   "metadata": {},
   "source": [
    "## Q15. An electronics company produces a certain type of product with a mean weight of 5 pounds and a standard deviation of 0.5 pounds. A random sample of 25 products is taken, and the sample mean weight is found to be 4.8 pounds. Test the hypothesis that the true mean weight of the products is less than 5 pounds with a significance level of 0.01."
   ]
  },
  {
   "cell_type": "code",
   "execution_count": 11,
   "id": "2a10cb95-b504-4c22-80b4-2203104c9cdb",
   "metadata": {},
   "outputs": [
    {
     "name": "stdout",
     "output_type": "stream",
     "text": [
      "t-Statistic: -2.0000\n",
      "Critical t-Value: -2.4922\n",
      "P-Value: 0.0285\n",
      "Null Hypothesis Rejected: False\n"
     ]
    }
   ],
   "source": [
    "import numpy as np\n",
    "from scipy.stats import t\n",
    "\n",
    "# Given data\n",
    "sample_mean = 4.8 \n",
    "hypothesized_mean = 5  \n",
    "sample_std_dev = 0.5 \n",
    "sample_size = 25 \n",
    "significance_level = 0.01  \n",
    "\n",
    "t_statistic = (sample_mean - hypothesized_mean) / (sample_std_dev / np.sqrt(sample_size))\n",
    "\n",
    "degrees_of_freedom = sample_size - 1\n",
    "\n",
    "critical_value = t.ppf(significance_level, degrees_of_freedom)\n",
    "\n",
    "p_value = t.cdf(t_statistic, degrees_of_freedom)\n",
    "\n",
    "reject_null = p_value < significance_level\n",
    "\n",
    "print(f\"t-Statistic: {t_statistic:.4f}\")\n",
    "print(f\"Critical t-Value: {critical_value:.4f}\")\n",
    "print(f\"P-Value: {p_value:.4f}\")\n",
    "print(f\"Null Hypothesis Rejected: {reject_null}\")"
   ]
  },
  {
   "cell_type": "markdown",
   "id": "4a8184f8-4c85-4bdf-9d0a-cdbfcc252edd",
   "metadata": {},
   "source": [
    "## Q16. Two groups of students are given different study materials to prepare for a test. The first group (n1 =30) has a mean score of 80 with a standard deviation of 10, and the second group (n2 = 40) has a mean score of 75 with a standard deviation of 8. Test the hypothesis that the population means for the two groups are equal with a significance level of 0.01."
   ]
  },
  {
   "cell_type": "code",
   "execution_count": null,
   "id": "0d4b6ee2-d489-4e7b-998b-2a05ed455d2e",
   "metadata": {},
   "outputs": [],
   "source": []
  }
 ],
 "metadata": {
  "kernelspec": {
   "display_name": "Python 3 (ipykernel)",
   "language": "python",
   "name": "python3"
  },
  "language_info": {
   "codemirror_mode": {
    "name": "ipython",
    "version": 3
   },
   "file_extension": ".py",
   "mimetype": "text/x-python",
   "name": "python",
   "nbconvert_exporter": "python",
   "pygments_lexer": "ipython3",
   "version": "3.10.8"
  }
 },
 "nbformat": 4,
 "nbformat_minor": 5
}
