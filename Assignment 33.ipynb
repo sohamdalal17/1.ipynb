{
 "cells": [
  {
   "cell_type": "markdown",
   "id": "7fcf4f4d-d03c-4fc3-90f4-40066ad60ff8",
   "metadata": {},
   "source": [
    "## Q1: What is the difference between a t-test and a z-test? Provide an example scenario where you would use each type of test."
   ]
  },
  {
   "cell_type": "markdown",
   "id": "afe1ad99-3daf-420b-baee-00883684be6b",
   "metadata": {},
   "source": [
    "t-test:\n",
    "\n",
    "Suitable for: Small sample sizes (less than 30) or unknown population standard deviation.\n",
    "\n",
    "Test statistic: Uses the t-distribution, which accounts for the uncertainty associated with estimating the population standard deviation from a small sample.\n",
    "\n",
    "Example: Comparing the average growth rates of two plant groups in a small experiment (n=15 per group).\n",
    "\n",
    "z-test:\n",
    "\n",
    "Suitable for: Large sample sizes (greater than 30) and known population standard deviation.\n",
    "\n",
    "Test statistic: Uses the standard normal distribution, which is more reliable with larger samples and known population parameters.\n",
    "\n",
    "Example: Comparing the average exam scores between two large classes (n=100 each) if the overall standard deviation for exam scores is known.\n",
    "\n",
    "In essence, t-tests are more robust for smaller datasets and uncertain population parameters, while z-tests are efficient for larger samples with known population characteristics."
   ]
  },
  {
   "cell_type": "markdown",
   "id": "a505460f-579d-4c71-888b-e490d0439f3f",
   "metadata": {},
   "source": [
    "## Q2: Differentiate between one-tailed and two-tailed tests."
   ]
  },
  {
   "cell_type": "markdown",
   "id": "d2167c28-d7a1-40dc-a3e7-944d18940695",
   "metadata": {},
   "source": [
    "One-tailed: Tests for a specific direction of difference (e.g., higher, lower)\n",
    "\n",
    "Two-tailed: Tests for any significant difference from the expected outcome"
   ]
  },
  {
   "cell_type": "markdown",
   "id": "497a4fd0-e099-4a13-b27b-c47e8d3bf5c5",
   "metadata": {},
   "source": [
    "## Q3: Explain the concept of Type 1 and Type 2 errors in hypothesis testing. Provide an example scenario for each type of error."
   ]
  },
  {
   "cell_type": "markdown",
   "id": "045f70be-08fd-4ff0-a53b-9bb5f3b4c580",
   "metadata": {},
   "source": [
    "Type 1 Error (False Positive): This occurs when we reject a true null hypothesis. In simpler terms, we mistakenly conclude a difference exists when it truly doesn't.\n",
    "\n",
    "Example: A new drug is tested for its effectiveness in treating a disease. A Type 1 error would occur if we conclude the drug is effective based on the study, but in reality, it has no impact on the disease.\n",
    "\n",
    "Type 2 Error (False Negative): This occurs when we fail to reject a false null hypothesis. In other words, we miss a real difference and wrongly conclude no difference exists.\n",
    "\n",
    "Example: A study investigates the link between air pollution and respiratory illness. A Type 2 error would occur if we fail to find a connection between the two, even though air pollution actually contributes to respiratory problems."
   ]
  },
  {
   "cell_type": "markdown",
   "id": "5b75da5a-af9f-4f0e-9a50-5b2db78211d7",
   "metadata": {},
   "source": [
    "## Q4: Explain Bayes's theorem with an example."
   ]
  },
  {
   "cell_type": "markdown",
   "id": "9b648bc7-b501-469f-a3f4-c84fef322dbf",
   "metadata": {},
   "source": [
    "Bayes' Theorem helps us update our beliefs about an event based on new evidence. Here's how it works:\n",
    "\n",
    "Formula:\n",
    "P(A|B) = [P(B|A) * P(A)] / P(B)\n",
    "\n",
    "Explanation of Terms:\n",
    "\n",
    "P(A): The prior probability of event A happening (our initial belief).\n",
    "P(B): The probability of evidence B occurring.\n",
    "P(A|B): The posterior probability of event A happening given that we've observed evidence B.\n",
    "P(B|A): The likelihood of observing evidence B if event A is true.\n",
    "\n",
    "Example:\n",
    "\n",
    "Evidence: We have a test with a 95% accuracy rate, meaning it correctly identifies people who have the disease 95% of the time (P(positive test | disease) = 0.95), and a 5% false-positive rate (P(positive test | no disease) = 0.05)."
   ]
  },
  {
   "cell_type": "markdown",
   "id": "df5f426a-6485-435d-885d-f5456c7d5fe5",
   "metadata": {},
   "source": [
    "## Q5: What is a confidence interval? How to calculate the confidence interval, explain with an example."
   ]
  },
  {
   "cell_type": "markdown",
   "id": "d0f0c9dc-10ea-4247-bc93-097f9f43b9e6",
   "metadata": {},
   "source": [
    "A range of values within which we believe the true population parameter (e.g., the population mean) is likely to fall.\n",
    "The level of confidence (often 95% or 99%) indicates how certain we are that the interval contains the true value.\n",
    "\n",
    "How to calculate the confidence interval:\n",
    "\n",
    "Sample data: Collect a random sample and calculate its mean (x̄).\n",
    "\n",
    "Standard error: Calculate the standard deviation of the sample (s) and divide it by the square root of the sample size (n) to find the \n",
    "standard error of the mean.\n",
    "\n",
    "Critical value: Determine the critical value from the t-distribution table based on the desired confidence level and degrees of freedom (sample size minus 1).\n",
    "\n",
    "Margin of error: Multiply the critical value by the standard error.\n",
    "\n",
    "Interval construction: Add and subtract the margin of error from the sample mean to get the lower and upper bounds of the confidence interval.\n",
    "\n",
    "Example :\n",
    "\n",
    "Sample of 30 observations with a mean weight of 150 pounds (x̄ = 150).\n",
    "\n",
    "Sample standard deviation of 10 pounds (s = 10).\n",
    "95% confidence level.\n",
    "\n",
    "Standard error: 10 / √30 ≈ 1.83\n",
    "Critical value (95% confidence, df=29): ≈ 2.045\n",
    "\n",
    "Margin of error: 2.045 * 1.83 ≈ 3.74\n",
    "\n",
    "Confidence Interval: 150 ± 3.74 → (146.26, 153.74)\n",
    "\n",
    "Interpretation: We can be 95% confident that the true average weight of the population falls between 146.26 and 153.74 pounds."
   ]
  },
  {
   "cell_type": "markdown",
   "id": "e424e650-0490-4071-b238-ed60083e1b8e",
   "metadata": {},
   "source": [
    "## Q6. Use Bayes' Theorem to calculate the probability of an event occurring given prior knowledge of the event's probability and new evidence. Provide a sample problem and solution."
   ]
  },
  {
   "cell_type": "raw",
   "id": "380355dd-4056-4353-a877-37770aef9b62",
   "metadata": {},
   "source": [
    "Imagine you have a bowl containing 50 red marbles and 50 blue marbles (total 100 marbles). You randomly pick a marble without looking (event A: \"picking a red marble\").\n",
    "\n",
    "Prior knowledge: You know there's an equal chance of picking any marble, so the initial probability of picking a red marble (P(A)) is:\n",
    "P(A) = Number of red marbles / Total marbles = 50 / 100 = 0.5\n",
    "Now, imagine you pick a marble and see it's not red (evidence B: \"not picking a red marble\").\n",
    "\n",
    "New evidence: This new information tells you there are only blue marbles left in the bowl.\n",
    "Question: Given you didn't pick a red marble, what is the probability it was actually a blue marble?\n",
    "\n",
    "Solution using Bayes' Theorem:\n",
    "We need to find P(B|not A), the posterior probability of picking a blue marble (B) given you didn't pick red (not A).\n",
    "\n",
    "Formula:\n",
    "P(B|not A) = [P(not A|B) * P(B)] / P(not A)\n",
    "\n",
    "Step 1: Calculate the probability of not picking red given it's blue (P(not A|B))\n",
    "\n",
    "This scenario (picking a non-red marble when it's actually blue) is impossible, as by definition, a blue marble is not red. So, this probability is 0.\n",
    "\n",
    "Step 2: Calculate the probability of picking a blue marble (P(B))\n",
    "\n",
    "Since there are only blue marbles left, P(B) is 1 (all remaining marbles are blue).\n",
    "\n",
    "Step 3: Calculate the probability of not picking red (P(not A))\n",
    "\n",
    "This is the opposite of the initial probability (P(A)) and is simply 1 - P(A) = 1 - 0.5 = 0.5.\n",
    "\n",
    "Step 4: Apply Bayes' Theorem\n",
    "\n",
    "P(B|not A) = [P(not A|B) * P(B)] / P(not A) = (0 * 1) / 0.5 = 0"
   ]
  },
  {
   "cell_type": "markdown",
   "id": "de4d71aa-ee73-4efd-8e9e-8dbc429af991",
   "metadata": {},
   "source": [
    "## Q7. Calculate the 95% confidence interval for a sample of data with a mean of 50 and a standard deviation of 5. Interpret the results."
   ]
  },
  {
   "cell_type": "markdown",
   "id": "78fade8f-66d7-4819-8328-70c4c596ab8c",
   "metadata": {},
   "source": [
    "Sample size isn't provided"
   ]
  },
  {
   "cell_type": "markdown",
   "id": "27c7cee8-8b84-4d56-bfec-750a6e0de476",
   "metadata": {},
   "source": [
    "## Q8. What is the margin of error in a confidence interval? How does sample size affect the margin of error? Provide an example of a scenario where a larger sample size would result in a smaller margin of error."
   ]
  },
  {
   "cell_type": "raw",
   "id": "1a2331f0-d70f-44b1-b89d-262ae207ddfe",
   "metadata": {},
   "source": [
    "The margin of error (ME) in a confidence interval represents the half-width of the interval, indicating the uncertainty associated with the estimated population parameter (e.g., mean). It essentially tells you how much the sample statistic (e.g., sample mean) might deviate from the true population parameter.\n",
    "\n",
    "Sample size and margin of error:\n",
    "\n",
    "Larger sample size:\n",
    "Leads to a smaller margin of error.\n",
    "With more data points, the estimate of the population parameter becomes more precise, reducing the uncertainty and resulting in a narrower confidence interval.\n",
    "Smaller sample size:\n",
    "Leads to a larger margin of error.\n",
    "With fewer data points, the estimate is less reliable, increasing the uncertainty and resulting in a wider confidence interval.\n",
    "Example:\n",
    "\n",
    "Imagine you want to estimate the average height of students in your university.\n",
    "\n",
    "Scenario 1: You measure the height of 10 students (small sample).\n",
    "\n",
    "The calculated mean height might be, for example, 170 cm.\n",
    "Due to the small sample, the margin of error might be large, say, ±5 cm.\n",
    "This translates to a confidence interval of 165 cm to 175 cm. This means you're 95% confident that the true average height of all students is somewhere between 165 cm and 175 cm, but the range is quite wide due to the uncertainty with a small sample."
   ]
  },
  {
   "cell_type": "markdown",
   "id": "8fb4a37c-92e5-4037-9cbc-c8607e753d6e",
   "metadata": {},
   "source": [
    "## Q9. Calculate the z-score for a data point with a value of 75, a population mean of 70, and a population standard deviation of 5. Interpret the results."
   ]
  },
  {
   "cell_type": "markdown",
   "id": "723f67b8-cc1d-4efb-8402-2494791df5f9",
   "metadata": {},
   "source": [
    "z = (x - μ) / σ\n",
    "z = (75 - 70) / 5\n",
    "z = 1.00\n",
    "\n",
    "Interpretation :\n",
    "\n",
    "The z-score of 1.00 indicates that the data point (75) is 1 standard deviation above the population mean (70). In other words, this data point is higher than 70 by an amount equal to one standard deviation of the population.\n",
    "\n"
   ]
  },
  {
   "cell_type": "markdown",
   "id": "91317ce1-e438-4a2d-a5c2-e272f9e6e2d4",
   "metadata": {},
   "source": [
    "## Q10. In a study of the effectiveness of a new weight loss drug, a sample of 50 participants lost an average of 6 pounds with a standard deviation of 2.5 pounds. Conduct a hypothesis test to determine if the drug is significantly effective at a 95% confidence level using a t-test."
   ]
  },
  {
   "cell_type": "raw",
   "id": "c72ef0c0-c580-4708-858c-0c27326ef1c2",
   "metadata": {},
   "source": [
    "Here's how to conduct a hypothesis test using a t-test for the weight loss drug study:\n",
    "\n",
    "1. Define the null (H0) and alternative (H1) hypotheses:\n",
    "\n",
    "H0: The drug has no significant effect on weight loss (average weight loss is equal to 0 pounds).\n",
    "H1: The drug has a significant effect on weight loss (average weight loss is not equal to 0 pounds).\n",
    "2. Set the significance level (α):\n",
    "\n",
    "α = 0.05 (95% confidence level)\n",
    "3. Determine the appropriate t-test:\n",
    "\n",
    "Since the sample size (n = 50) is less than 30 and the population standard deviation is unknown, we use a one-tailed t-test. We are only interested in whether the drug has a positive effect on weight loss (weight loss greater than 0), hence the one-tailed test.\n",
    "4. Calculate the t-statistic (t):\n",
    "\n",
    "t = (x̄ - μ) / (s / √n)\n",
    "t = (6 - 0) / (2.5 / √50)\n",
    "t ≈ 9.60\n",
    "5. Find the critical t-value:\n",
    "\n",
    "Degrees of freedom (df) = n - 1 = 49\n",
    "Using a t-distribution table or software, find the critical t-value for a one-tailed test with α = 0.05 and df = 49. This value is approximately 1.677.\n",
    "6. Make a decision:\n",
    "\n",
    "Since the calculated t-statistic (9.60) is greater than the critical t-value (1.677), we reject the null hypothesis (H0).\n",
    "7. Conclusion:\n",
    "\n",
    "Based on the t-test and the chosen significance level, we can conclude that there is statistically significant evidence to suggest that the weight loss drug has a positive effect on weight loss at a 95% confidence level."
   ]
  },
  {
   "cell_type": "markdown",
   "id": "e46293ae-2f5f-44fe-b118-9e30d8fec9b8",
   "metadata": {},
   "source": [
    "## Q11. In a survey of 500 people, 65% reported being satisfied with their current job. Calculate the 95% confidence interval for the true proportion of people who are satisfied with their job."
   ]
  },
  {
   "cell_type": "raw",
   "id": "95919ffd-d76a-4c80-8ced-11f4bbe58615",
   "metadata": {},
   "source": [
    "1. Sample proportion (p̂):\n",
    "\n",
    "p̂ = Number of satisfied individuals / Total individuals = 65% / 100 = 0.65\n",
    "2. Critical value (z-score):\n",
    "\n",
    "We need the z-score for a 95% confidence level. You can find this value in a z-table or using statistical software. For a 95% confidence level, the z-score is approximately 1.96.\n",
    "3. Standard error (SE):\n",
    "\n",
    "Since the sample size is large (n = 500), we can use the normal approximation to estimate the standard error:\n",
    "SE = √(p̂ * (1 - p̂) / n)\n",
    "SE = √(0.65 * (1 - 0.65) / 500)\n",
    "SE ≈ 0.024\n",
    "\n",
    "4. Margin of error (ME):\n",
    "\n",
    "ME = z-score * SE\n",
    "ME = 1.96 * 0.024 ≈ 0.048\n",
    "\n",
    "5. Confidence interval:\n",
    "\n",
    "Lower bound = p̂ - ME = 0.65 - 0.048 ≈ 0.602\n",
    "Upper bound = p̂ + ME = 0.65 + 0.048 ≈ 0.698\n",
    "Interpretation:\n",
    "\n",
    "We can be 95% confident that the true proportion of people who are satisfied with their job in the entire population lies somewhere between 60.2% and 69.8%."
   ]
  },
  {
   "cell_type": "markdown",
   "id": "868a3de4-0c6b-48b7-9c1f-00a68d16ee95",
   "metadata": {},
   "source": [
    "## Q12. A researcher is testing the effectiveness of two different teaching methods on student performance. Sample A has a mean score of 85 with a standard deviation of 6, while sample B has a mean score of 82 with a standard deviation of 5. Conduct a hypothesis test to determine if the two teaching methods have a significant difference in student performance using a t-test with a significance level of 0.01."
   ]
  },
  {
   "cell_type": "raw",
   "id": "54e94fa1-107b-4270-8a31-5e1c2150ab99",
   "metadata": {},
   "source": [
    "1. Define the hypotheses:\n",
    "\n",
    "Null hypothesis (H0): There is no significant difference in the mean scores between the two teaching methods (μ₁ = μ₂).\n",
    "Alternative hypothesis (H1): There is a significant difference in the mean scores between the two teaching methods (μ₁ ≠ μ₂).\n",
    "2. Set the significance level (α):\n",
    "\n",
    "α = 0.01 (one-tailed test, as we're interested in a difference in a specific direction - potentially one method being better)\n",
    "3. Determine the appropriate t-test:\n",
    "\n",
    "Since we are comparing means from two independent samples and the population variances are unknown and potentially unequal, we use an independent-samples t-test with unequal variances. This is also known as the Welch's t-test.\n",
    "4. Calculate the test statistic (t):\n",
    "\n",
    "Specific calculations for Welch's t-test involve formulas beyond the scope of a concise response. However, statistical software or online calculators can be used to perform the calculations.\n",
    "5. Find the critical t-value:\n",
    "\n",
    "Degrees of freedom (df) are estimated using Welch's approximation.\n",
    "Using software or online resources, find the critical t-value for a one-tailed test with α = 0.01 and the calculated degrees of freedom.\n",
    "6. Make a decision:\n",
    "\n",
    "Compare the calculated t-statistic with the critical t-value.\n",
    "If the calculated t is greater than the critical t, reject H0.\n",
    "If the calculated t is less than the critical t, fail to reject H0.\n",
    "7. Conclusion:\n",
    "\n",
    "Based on the comparison of the t-statistic and critical t-value, draw a conclusion about the presence of a significant difference in mean scores between the two teaching methods at the chosen significance level."
   ]
  },
  {
   "cell_type": "markdown",
   "id": "ebf0a164-20f0-4d91-9b30-ee63092fbf86",
   "metadata": {},
   "source": [
    "## Q13. A population has a mean of 60 and a standard deviation of 8. A sample of 50 observations has a mean of 65. Calculate the 90% confidence interval for the true population mean."
   ]
  },
  {
   "cell_type": "raw",
   "id": "c5cb24aa-bdae-43eb-bdd7-d365706ee2b7",
   "metadata": {},
   "source": [
    "Calculate the z-score:\n",
    "Using a z-table or statistical software, find the z-score for a 90% confidence level. The z-score is 1.645.\n",
    "\n",
    "Calculate the margin of error:\n",
    "Margin of error = z * (σ / √n)\n",
    "                = 1.645 * (8 / √50)\n",
    "                ≈ 2.13\n",
    "Calculate the confidence interval bounds:\n",
    "Lower bound = μ - margin of error\n",
    "            = 60 - 2.13\n",
    "            = 57.87\n",
    "\n",
    "Upper bound = μ + margin of error\n",
    "            = 60 + 2.13\n",
    "            = 62.13\n",
    "Interpretation:\n",
    "\n",
    "We can be 90% confident that the true population mean falls within the interval (57.87, 62.13). In other words, there is a 90% chance that the average value in the entire population lies between 57.87 and 62.13."
   ]
  },
  {
   "cell_type": "markdown",
   "id": "db4ce130-7611-491f-bfc6-0d3a6000c795",
   "metadata": {},
   "source": [
    "## Q14. In a study of the effects of caffeine on reaction time, a sample of 30 participants had an average reaction time of 0.25 seconds with a standard deviation of 0.05 seconds. Conduct a hypothesis test to determine if the caffeine has a significant effect on reaction time at a 90% confidence level using a t-test."
   ]
  }
 ],
 "metadata": {
  "kernelspec": {
   "display_name": "Python 3 (ipykernel)",
   "language": "python",
   "name": "python3"
  },
  "language_info": {
   "codemirror_mode": {
    "name": "ipython",
    "version": 3
   },
   "file_extension": ".py",
   "mimetype": "text/x-python",
   "name": "python",
   "nbconvert_exporter": "python",
   "pygments_lexer": "ipython3",
   "version": "3.10.8"
  }
 },
 "nbformat": 4,
 "nbformat_minor": 5
}
