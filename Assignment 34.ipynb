{
 "cells": [
  {
   "cell_type": "markdown",
   "id": "b00c36dc-8192-4ed7-890f-ed125f441ca5",
   "metadata": {},
   "source": [
    "## Q1. Calculate the 95% confidence interval for a sample of data with a mean of 50 and a standard deviation of 5 using Python. Interpret the results."
   ]
  },
  {
   "cell_type": "code",
   "execution_count": 1,
   "id": "e39c6719-a8c1-4b07-b67e-837ff204ff20",
   "metadata": {},
   "outputs": [
    {
     "name": "stdout",
     "output_type": "stream",
     "text": [
      "95% confidence interval: (40.20, 59.80)\n",
      "We can be 95% confident that the true population mean lies between 40.20 and 59.80.\n"
     ]
    }
   ],
   "source": [
    "import numpy as np\n",
    "from scipy import stats\n",
    "\n",
    "sample_mean = 50\n",
    "sample_std = 5\n",
    "confidence_level = 0.95\n",
    "\n",
    "z_score = stats.norm.ppf(1 - (1 - confidence_level) / 2) \n",
    "\n",
    "margin_of_error = z_score * sample_std\n",
    "\n",
    "lower_bound = sample_mean - margin_of_error\n",
    "upper_bound = sample_mean + margin_of_error\n",
    "\n",
    "print(f\"95% confidence interval: ({lower_bound:.2f}, {upper_bound:.2f})\")\n",
    "\n",
    "print(f\"We can be 95% confident that the true population mean lies between {lower_bound:.2f} and {upper_bound:.2f}.\")"
   ]
  },
  {
   "cell_type": "markdown",
   "id": "986a526e-0146-4699-a13a-c529ca945845",
   "metadata": {},
   "source": [
    "## Q2. Conduct a chi-square goodness of fit test to determine if the distribution of colors of M&Ms in a bag matches the expected distribution of 20% blue, 20% orange, 20% green, 10% yellow, 10% red, and 20% brown. Use Python to perform the test with a significance level of 0.05."
   ]
  },
  {
   "cell_type": "code",
   "execution_count": null,
   "id": "40cbae84-aeae-49e0-939e-2d393d36dc91",
   "metadata": {},
   "outputs": [],
   "source": [
    "import pandas as pd\n",
    "from scipy.stats import chi2_contingency\n",
    "\n",
    "expected_distribution = [0.2, 0.2, 0.2, 0.1, 0.1, 0.2]\n",
    "\n",
    "data = {\n",
    "    \"Color\": [\"Blue\", \"Orange\", \"Green\", \"Yellow\", \"Red\", \"Brown\"] * 10,\n",
    "    \"Count\": [2, 3, 2, 1, 1, 4] * 10\n",
    "}\n",
    "\n",
    "df = pd.DataFrame(data)\n",
    "\n",
    "observed_distribution = df.groupby(\"Color\")[\"Count\"].sum().reset_index()\n",
    "\n",
    "observed_counts = list(observed_distribution[\"Count\"])\n",
    "expected_counts = [int(p * len(observed_counts)) for p in expected_distribution]\n",
    "\n",
    "chi2_statistic, p_value, degrees_of_freedom, expected_counts = chi2_contingency([observed_counts, expected_counts])\n",
    "\n",
    "alpha = 0.05\n",
    "\n",
    "print(f\"Chi-square statistic: {chi2_statistic:.2f}\")\n",
    "print(f\"p-value: {p_value:.4f}\")\n",
    "\n",
    "if p_value > alpha:\n",
    "    print(\"Fail to reject the null hypothesis. The observed distribution of colors matches the expected distribution at a significance level of {alpha}.\")\n",
    "else:\n",
    "    print(\"Reject the null hypothesis. The observed distribution of colors does not match the expected distribution at a significance level of {alpha}.\")"
   ]
  },
  {
   "cell_type": "markdown",
   "id": "dea62812-d645-449a-8942-9b22740ce500",
   "metadata": {},
   "source": [
    "## Q3. Use Python to calculate the chi-square statistic and p-value for a contingency table with the following data:\n"
   ]
  },
  {
   "cell_type": "code",
   "execution_count": 2,
   "id": "57dc258b-f0b6-4599-bb14-0c3f0defc60a",
   "metadata": {},
   "outputs": [
    {
     "name": "stdout",
     "output_type": "stream",
     "text": [
      "Chi-square statistic: 5.83\n",
      "p-value: 0.0541\n"
     ]
    }
   ],
   "source": [
    "from scipy.stats import chi2_contingency\n",
    "\n",
    "data = [[20, 15], [10, 25], [15, 20]]\n",
    "\n",
    "chi2_statistic, p_value, degrees_of_freedom, expected_counts = chi2_contingency(data)\n",
    "\n",
    "print(f\"Chi-square statistic: {chi2_statistic:.2f}\")\n",
    "print(f\"p-value: {p_value:.4f}\")"
   ]
  },
  {
   "cell_type": "markdown",
   "id": "54cbe98c-ded3-42de-9d41-5b68e12e25a8",
   "metadata": {},
   "source": [
    "Interpretation:\n",
    "\n",
    "Since the p-value is greater than the significance level (α), we fail to reject the null hypothesis (H0). In this context, the null hypothesis typically states that there is no association between the variables in the contingency table (Group A and Group B do not have different distributions across Outcome 1, 2, and 3)."
   ]
  },
  {
   "cell_type": "markdown",
   "id": "81559b29-d975-48d1-8782-3b150fe427ab",
   "metadata": {},
   "source": [
    "## Q4. A study of the prevalence of smoking in a population of 500 individuals found that 60 individuals smoked. Use Python to calculate the 95% confidence interval for the true proportion of individuals in the population who smoke."
   ]
  },
  {
   "cell_type": "code",
   "execution_count": 3,
   "id": "8b004be2-d6c1-483b-9eb6-ffee472b2449",
   "metadata": {},
   "outputs": [
    {
     "name": "stdout",
     "output_type": "stream",
     "text": [
      "95% confidence interval: (0.1090, 0.1310)\n",
      "We can be 95% confident that the true proportion of individuals who smoke in the population lies between 0.1090 and 0.1310.\n"
     ]
    }
   ],
   "source": [
    "import numpy as np\n",
    "\n",
    "population_size = 500\n",
    "smokers = 60\n",
    "\n",
    "sample_proportion = smokers / population_size\n",
    "\n",
    "confidence_level = 0.95\n",
    "\n",
    "z_score = np.sqrt(1 - (confidence_level ** 2) / 2) / np.sqrt(confidence_level)  # Uses normal approximation\n",
    "\n",
    "standard_error = np.sqrt(sample_proportion * (1 - sample_proportion) / population_size)\n",
    "\n",
    "margin_of_error = z_score * standard_error\n",
    "\n",
    "lower_bound = sample_proportion - margin_of_error\n",
    "upper_bound = sample_proportion + margin_of_error\n",
    "\n",
    "print(f\"95% confidence interval: ({lower_bound:.4f}, {upper_bound:.4f})\")\n",
    "\n",
    "print(f\"We can be 95% confident that the true proportion of individuals who smoke in the population lies between {lower_bound:.4f} and {upper_bound:.4f}.\")"
   ]
  },
  {
   "cell_type": "markdown",
   "id": "bc117d03-60a5-4d27-a784-78f21f517cb0",
   "metadata": {},
   "source": [
    "## Q5. Calculate the 90% confidence interval for a sample of data with a mean of 75 and a standard deviation of 12 using Python. Interpret the results."
   ]
  },
  {
   "cell_type": "code",
   "execution_count": 4,
   "id": "2579da2c-fd82-472f-beb0-8db624b93b2e",
   "metadata": {},
   "outputs": [
    {
     "name": "stdout",
     "output_type": "stream",
     "text": [
      "90% confidence interval: (55.26, 94.74)\n",
      "We can be 90% confident that the true population mean lies between 55.26 and 94.74.\n"
     ]
    }
   ],
   "source": [
    "import numpy as np\n",
    "from scipy import stats\n",
    "\n",
    "sample_mean = 75\n",
    "sample_std = 12\n",
    "confidence_level = 0.9\n",
    "\n",
    "z_score = stats.norm.ppf(1 - (1 - confidence_level) / 2) \n",
    "\n",
    "margin_of_error = z_score * sample_std\n",
    "\n",
    "lower_bound = sample_mean - margin_of_error\n",
    "upper_bound = sample_mean + margin_of_error\n",
    "\n",
    "print(f\"90% confidence interval: ({lower_bound:.2f}, {upper_bound:.2f})\")\n",
    "\n",
    "print(f\"We can be 90% confident that the true population mean lies between {lower_bound:.2f} and {upper_bound:.2f}.\")"
   ]
  },
  {
   "cell_type": "markdown",
   "id": "c87a61e3-4a42-4a14-9d3f-85c5623e671c",
   "metadata": {},
   "source": [
    "## Q6. Use Python to plot the chi-square distribution with 10 degrees of freedom. Label the axes and shade the area corresponding to a chi-square statistic of 15."
   ]
  },
  {
   "cell_type": "code",
   "execution_count": 5,
   "id": "626b0a8d-16bb-4352-b136-ddf3f7740262",
   "metadata": {},
   "outputs": [
    {
     "data": {
      "image/png": "[encoded data removed]",
      "text/plain": [
       "<Figure size 640x480 with 1 Axes>"
      ]
     },
     "metadata": {},
     "output_type": "display_data"
    }
   ],
   "source": [
    "import matplotlib.pyplot as plt\n",
    "from scipy.stats import chi2\n",
    "\n",
    "df = 10\n",
    "chi2_stat = 15\n",
    "\n",
    "x = np.linspace(0, df + 5, 1000)\n",
    "\n",
    "pdf = chi2.pdf(x, df)\n",
    "\n",
    "plt.plot(x, pdf, label=\"Chi-Square Distribution (df=10)\")\n",
    "\n",
    "plt.fill_between(x, pdf, where=x > chi2_stat, alpha=0.2, color=\"red\", label=\"Area > 15\")\n",
    "\n",
    "plt.xlabel(\"Chi-Square Statistic\")\n",
    "plt.ylabel(\"Probability Density\")\n",
    "plt.title(\"Chi-Square Distribution (df=10)\")\n",
    "\n",
    "plt.legend()\n",
    "\n",
    "plt.show()"
   ]
  },
  {
   "cell_type": "markdown",
   "id": "194e34ee-cc3e-4730-9a6d-abb09986a71f",
   "metadata": {},
   "source": [
    "## Q7. A random sample of 1000 people was asked if they preferred Coke or Pepsi. Of the sample, 520 preferred Coke. Calculate a 99% confidence interval for the true proportion of people in the population who prefer Coke."
   ]
  },
  {
   "cell_type": "code",
   "execution_count": 6,
   "id": "fb72e831-c49f-4ba5-a1a5-0f55571dd25b",
   "metadata": {},
   "outputs": [
    {
     "name": "stdout",
     "output_type": "stream",
     "text": [
      "99% confidence interval: (0.5087, 0.5313)\n",
      "We can be 99% confident that the true proportion of people in the population who prefer Coke lies between 0.5087 and 0.5313.\n"
     ]
    }
   ],
   "source": [
    "import numpy as np\n",
    "\n",
    "population_size = 1000\n",
    "prefers_coke = 520\n",
    "\n",
    "sample_proportion = prefers_coke / population_size\n",
    "\n",
    "confidence_level = 0.99\n",
    "\n",
    "z_score = np.sqrt(1 - (confidence_level ** 2) / 2) / np.sqrt(confidence_level)  \n",
    "standard_error = np.sqrt(sample_proportion * (1 - sample_proportion) / population_size)\n",
    "\n",
    "margin_of_error = z_score * standard_error\n",
    "\n",
    "lower_bound = sample_proportion - margin_of_error\n",
    "upper_bound = sample_proportion + margin_of_error\n",
    "\n",
    "print(f\"99% confidence interval: ({lower_bound:.4f}, {upper_bound:.4f})\")\n",
    "\n",
    "print(f\"We can be 99% confident that the true proportion of people in the population who prefer Coke lies between {lower_bound:.4f} and {upper_bound:.4f}.\")"
   ]
  },
  {
   "cell_type": "markdown",
   "id": "3670be05-719e-456a-be7b-795023ffd87d",
   "metadata": {},
   "source": [
    "## Q8. A researcher hypothesizes that a coin is biased towards tails. They flip the coin 100 times and observe 45 tails. Conduct a chi-square goodness of fit test to determine if the observed frequencies match the expected frequencies of a fair coin. Use a significance level of 0.05."
   ]
  },
  {
   "cell_type": "code",
   "execution_count": 7,
   "id": "079df620-fbc2-4ff1-b56d-ded8b365b32f",
   "metadata": {},
   "outputs": [
    {
     "name": "stdout",
     "output_type": "stream",
     "text": [
      "Chi-square statistic: 0.32\n",
      "p-value: 0.5711\n",
      "Fail to reject the null hypothesis. The observed distribution of coin flips matches the expected distribution of a fair coin at a significance level of {alpha}.\n"
     ]
    }
   ],
   "source": [
    "from scipy.stats import chi2_contingency\n",
    "\n",
    "expected_distribution = [50, 50]  \n",
    "observed_distribution = [55, 45]  \n",
    "\n",
    "chi2_statistic, p_value, degrees_of_freedom, expected_counts = chi2_contingency(\n",
    "    [observed_distribution, expected_distribution]\n",
    ")\n",
    "\n",
    "alpha = 0.05\n",
    "\n",
    "print(f\"Chi-square statistic: {chi2_statistic:.2f}\")\n",
    "print(f\"p-value: {p_value:.4f}\")\n",
    "\n",
    "if p_value <= alpha:\n",
    "    print(\"Reject the null hypothesis. The observed distribution of coin flips does not match the expected distribution of a fair coin at a significance level of {alpha}.\")\n",
    "else:\n",
    "    print(\"Fail to reject the null hypothesis. The observed distribution of coin flips matches the expected distribution of a fair coin at a significance level of {alpha}.\")"
   ]
  },
  {
   "cell_type": "markdown",
   "id": "db64d946-6e03-4736-b0b9-400bcbb075ba",
   "metadata": {},
   "source": [
    "## Q9. A study was conducted to determine if there is an association between smoking status (smoker or non-smoker) and lung cancer diagnosis (yes or no). The results are shown in the contingency table below. Conduct a chi-square test for independence to determine if there is a significant association between smoking status and lung cancer diagnosis."
   ]
  },
  {
   "cell_type": "code",
   "execution_count": 8,
   "id": "4323b4df-bbb0-4cf8-bac6-2fc7b223ffc8",
   "metadata": {},
   "outputs": [
    {
     "name": "stdout",
     "output_type": "stream",
     "text": [
      "Chi-square statistic: 12.06\n",
      "p-value: 0.0005\n",
      "Reject the null hypothesis. There is a significant association between smoking status and lung cancer diagnosis at a significance level of {alpha}.\n"
     ]
    }
   ],
   "source": [
    "from scipy.stats import chi2_contingency\n",
    "\n",
    "data = [[60, 140], [30, 170]]\n",
    "\n",
    "chi2_statistic, p_value, degrees_of_freedom, expected_counts = chi2_contingency(data)\n",
    "\n",
    "alpha = 0.05\n",
    "\n",
    "print(f\"Chi-square statistic: {chi2_statistic:.2f}\")\n",
    "print(f\"p-value: {p_value:.4f}\")\n",
    "\n",
    "if p_value <= alpha:\n",
    "    print(\"Reject the null hypothesis. There is a significant association between smoking status and lung cancer diagnosis at a significance level of {alpha}.\")\n",
    "else:\n",
    "    print(\"Fail to reject the null hypothesis. There is no significant association between smoking status and lung cancer diagnosis at a significance level of {alpha}.\")"
   ]
  },
  {
   "cell_type": "markdown",
   "id": "98186035-24e3-45ee-9560-2c9be1d7b873",
   "metadata": {},
   "source": [
    "## Q10. A study was conducted to determine if the proportion of people who prefer milk chocolate, dark chocolate, or white chocolate is different in the U.S. versus the U.K. A random sample of 500 people from the U.S. and a random sample of 500 people from the U.K. were surveyed. The results are shown in the contingency table below. Conduct a chi-square test for independence to determine if there is a significant association between chocolate preference and country of origin."
   ]
  },
  {
   "cell_type": "code",
   "execution_count": null,
   "id": "57dcc107-6fa9-4684-a3f1-f050fb55bb58",
   "metadata": {},
   "outputs": [],
   "source": []
  }
 ],
 "metadata": {
  "kernelspec": {
   "display_name": "Python 3 (ipykernel)",
   "language": "python",
   "name": "python3"
  },
  "language_info": {
   "codemirror_mode": {
    "name": "ipython",
    "version": 3
   },
   "file_extension": ".py",
   "mimetype": "text/x-python",
   "name": "python",
   "nbconvert_exporter": "python",
   "pygments_lexer": "ipython3",
   "version": "3.10.8"
  }
 },
 "nbformat": 4,
 "nbformat_minor": 5
}
