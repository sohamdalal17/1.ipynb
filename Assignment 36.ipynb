{
 "cells": [
  {
   "cell_type": "markdown",
   "id": "c9bcbdf9-b1f5-47f0-90cb-d8d5f7c63a32",
   "metadata": {},
   "source": [
    "## Q1. Write a Python function that takes in two arrays of data and calculates the F-value for a variance ratio  test. The function should return the F-value and the corresponding p-value for the test."
   ]
  },
  {
   "cell_type": "code",
   "execution_count": 1,
   "id": "339a111b-be8a-479c-930d-a8fc3d0d6a23",
   "metadata": {},
   "outputs": [
    {
     "name": "stdout",
     "output_type": "stream",
     "text": [
      "F-value: 25.0\n",
      "p-value: 0.0010528257933665396\n"
     ]
    }
   ],
   "source": [
    "from scipy.stats import f_oneway\n",
    "\n",
    "def f_test(data1, data2):\n",
    " \n",
    "  if not data1 or not data2:\n",
    "    raise ValueError(\"Data arrays cannot be empty.\")\n",
    "\n",
    "  f_statistic, p_value = f_oneway(data1, data2)\n",
    "\n",
    "  return f_statistic, p_value\n",
    "\n",
    "data1 = [1, 2, 3, 4, 5]\n",
    "data2 = [6, 7, 8, 9, 10]\n",
    "\n",
    "f_value, p_value = f_test(data1, data2)\n",
    "\n",
    "print(\"F-value:\", f_value)\n",
    "print(\"p-value:\", p_value)"
   ]
  },
  {
   "cell_type": "markdown",
   "id": "b6f07e86-fc17-4228-820a-83f1f6ef6ccc",
   "metadata": {},
   "source": [
    "## Q2. Given a significance level of 0.05 and the degrees of freedom for the numerator and denominator of an F-distribution, write a Python function that returns the critical F-value for a two-tailed test."
   ]
  },
  {
   "cell_type": "code",
   "execution_count": 2,
   "id": "5e3a0932-c149-4156-9c87-eeaafe606700",
   "metadata": {},
   "outputs": [
    {
     "name": "stdout",
     "output_type": "stream",
     "text": [
      "Critical F-value: 4.236085668188633\n"
     ]
    }
   ],
   "source": [
    "from scipy.stats import f\n",
    "\n",
    "def critical_f_value(alpha, df1, df2):\n",
    "\n",
    "  if alpha <= 0 or alpha >= 1:\n",
    "    raise ValueError(\"Significance level (alpha) must be between 0 and 1.\")\n",
    "  if df1 <= 0 or df2 <= 0:\n",
    "    raise ValueError(\"Degrees of freedom (df1 and df2) must be positive integers.\")\n",
    "\n",
    "  return f.ppf(1 - alpha / 2, df1, df2)\n",
    "\n",
    "alpha = 0.05\n",
    "df1 = 5\n",
    "df2 = 10\n",
    "\n",
    "critical_f = critical_f_value(alpha, df1, df2)\n",
    "\n",
    "print(\"Critical F-value:\", critical_f)"
   ]
  },
  {
   "cell_type": "markdown",
   "id": "6d0d9cef-9fe3-475e-b65f-275aa53fbb8a",
   "metadata": {},
   "source": [
    "## Q3. Write a Python program that generates random samples from two normal distributions with known variances and uses an F-test to determine if the variances are equal. The program should output the F-value, degrees of freedom, and p-value for the test."
   ]
  },
  {
   "cell_type": "code",
   "execution_count": 3,
   "id": "3fffadc8-2215-47f6-a828-06cabb5afa5f",
   "metadata": {},
   "outputs": [
    {
     "name": "stdout",
     "output_type": "stream",
     "text": [
      "F-value: 12.78033427131287\n",
      "Degrees of freedom: 29 29\n",
      "p-value: 0.0007139673308352275\n",
      "Reject null hypothesis: Variances are significantly different.\n"
     ]
    }
   ],
   "source": [
    "import numpy as np\n",
    "from scipy.stats import f_oneway\n",
    "\n",
    "mu1 = 50 \n",
    "mu2 = 60 \n",
    "sigma1 = 10  \n",
    "sigma2 = 15 \n",
    "n1 = 30 \n",
    "n2 = 30 \n",
    "\n",
    "data1 = np.random.normal(mu1, sigma1, n1)\n",
    "data2 = np.random.normal(mu2, sigma2, n2)\n",
    "\n",
    "f_value, p_value = f_oneway(data1, data2)\n",
    "df1 = n1 - 1  \n",
    "df2 = n2 - 1 \n",
    "\n",
    "print(\"F-value:\", f_value)\n",
    "print(\"Degrees of freedom:\", df1, df2)\n",
    "print(\"p-value:\", p_value)\n",
    "\n",
    "if p_value < 0.05:\n",
    "  print(\"Reject null hypothesis: Variances are significantly different.\")\n",
    "else:\n",
    "  print(\"Fail to reject null hypothesis: Variances may not be significantly different.\")"
   ]
  },
  {
   "cell_type": "markdown",
   "id": "82efdd50-d0be-4178-8c26-f006e0709e3f",
   "metadata": {},
   "source": [
    "## Q4.The variances of two populations are known to be 10 and 15. A sample of 12 observations is taken from each population. Conduct an F-test at the 5% significance level to determine if the variances are significantly different."
   ]
  },
  {
   "cell_type": "markdown",
   "id": "2cf42c6d-b09f-478b-ade9-1e56250cbb9b",
   "metadata": {},
   "source": [
    "1. Define parameters:\n",
    "\n",
    "Population variances: σ₁² = 10, σ₂² = 15\n",
    "Sample sizes: n₁ = n₂ = 12\n",
    "Significance level (alpha): α = 0.05\n",
    "\n",
    "2. Perform the F-test:\n",
    "\n",
    "We don't have the actual sample data, but we can still conduct the F-test using the known population variances and sample sizes. The F-statistic can be calculated as:\n",
    "\n",
    "F = (σ₂² / σ₁²) = (15 / 10) = 1.5\n",
    "\n",
    "3. Determine critical F-value:\n",
    "\n",
    "Since we know the degrees of freedom for both numerator (df₁ = n₁ - 1 = 11) and denominator (df₂ = n₂ - 1 = 11) and the significance level is 0.05 (two-tailed test), we can find the critical F-value using a table or statistical software.\n",
    "\n",
    "4. Interpretation:\n",
    "\n",
    "Look up the critical F-value for df₁ = 11 and df₂ = 11 at α = 0.05 (two-tailed test) in an F-distribution table. This value will be around 2.06.\n",
    "Compare the calculated F-value (1.5) with the critical F-value (2.06).\n",
    "\n",
    "5. Conclusion:\n",
    "\n",
    "Since the calculated F-value (1.5) is less than the critical F-value (2.06), we fail to reject the null hypothesis. This means there is not enough evidence to conclude that the variances of the two populations are significantly different at the 5% significance level."
   ]
  },
  {
   "cell_type": "markdown",
   "id": "9502773b-1372-432f-beda-a5d1db9b1c9f",
   "metadata": {},
   "source": [
    "## Q5. A manufacturer claims that the variance of the diameter of a certain product is 0.005. A sample of 25 products is taken, and the sample variance is found to be 0.006. Conduct an F-test at the 1% significance level to determine if the claim is justified."
   ]
  },
  {
   "cell_type": "markdown",
   "id": "06f442c0-1b71-4dfe-8379-12e008951979",
   "metadata": {},
   "source": [
    "1. Define parameters:\n",
    "\n",
    "Claimed population variance (σ²): 0.005\n",
    "Sample variance (s²): 0.006\n",
    "Sample size (n): 25\n",
    "Significance level (α): 0.01\n",
    "\n",
    "2. Formulate the hypothesis:\n",
    "\n",
    "Null hypothesis (H₀): The population variance (σ²) is equal to the claimed value (0.005).\n",
    "Alternative hypothesis (H₁): The population variance (σ²) is not equal to the claimed value (0.005).\n",
    "\n",
    "3. Perform the F-test:\n",
    "\n",
    "Calculate the F-statistic:\n",
    "F = (s² / σ²) = (0.006 / 0.005) = 1.2\n",
    "\n",
    "4. Determine critical F-value:\n",
    "\n",
    "Degrees of freedom for numerator (df₁): n - 1 = 25 - 1 = 24\n",
    "Degrees of freedom for denominator (df₂): 1 (since the claimed variance represents the entire population)\n",
    "Look up the critical F-value for df₁ = 24 and df₂ = 1 at α = 0.01 (one-tailed test) using an F-distribution table or statistical software. This value will be around 4.07.\n",
    "\n",
    "5. Interpretation:\n",
    "\n",
    "Compare the calculated F-value (1.2) with the critical F-value (4.07).\n",
    "Since the calculated F-value (1.2) is less than the critical F-value (4.07), we fail to reject the null hypothesis.\n",
    "\n",
    "6. Conclusion:\n",
    "\n",
    "Based on the F-test at the 1% significance level, there is not enough evidence to reject the manufacturer's claim. The data does not provide a statistically significant indication that the actual population variance is different from the claimed value of 0.005."
   ]
  },
  {
   "cell_type": "markdown",
   "id": "9829b9bc-ad54-4028-a754-bb95382540bb",
   "metadata": {},
   "source": [
    "## Q6. Write a Python function that takes in the degrees of freedom for the numerator and denominator of an F-distribution and calculates the mean and variance of the distribution. The function should return the mean and variance as a tuple."
   ]
  },
  {
   "cell_type": "code",
   "execution_count": 4,
   "id": "3e9da7c3-5e96-46a6-9c76-576d1bc4e313",
   "metadata": {},
   "outputs": [
    {
     "name": "stdout",
     "output_type": "stream",
     "text": [
      "Mean: 1.1538461538461537\n",
      "Variance: 0.29047875201721357\n"
     ]
    }
   ],
   "source": [
    "from scipy.stats import f\n",
    "\n",
    "def f_moments(df1, df2):\n",
    "  \n",
    "  if df1 <= 0 or df2 <= 0:\n",
    "    raise ValueError(\"Degrees of freedom (df1 and df2) must be positive integers.\")\n",
    "\n",
    "  mean = df2 / (df2 - 2) if df2 > 2 else float('inf')\n",
    "  variance = 2 * df2**2 * (df1 + 2) / ((df1 * (df2 - 2)**2) * (df2 - 4)) if df2 > 4 else float('inf')\n",
    "\n",
    "  return mean, variance\n",
    "\n",
    "df1 = 10\n",
    "df2 = 15\n",
    "\n",
    "mean, variance = f_moments(df1, df2)\n",
    "\n",
    "print(\"Mean:\", mean)\n",
    "print(\"Variance:\", variance)"
   ]
  },
  {
   "cell_type": "markdown",
   "id": "02f5d1ca-0d2b-4a0e-b883-2b64a2a12295",
   "metadata": {},
   "source": [
    "## Q7. A random sample of 10 measurements is taken from a normal population with unknown variance. The sample variance is found to be 25. Another random sample of 15 measurements is taken from another normal population with unknown variance, and the sample variance is found to be 20. Conduct an F-test at the 10% significance level to determine if the variances are significantly different."
   ]
  },
  {
   "cell_type": "markdown",
   "id": "4532925b-6d87-41ec-8e70-f6ecb0aa5615",
   "metadata": {},
   "source": [
    "1. Define parameters:\n",
    "\n",
    "Sample size for population 1 (n₁): 10\n",
    "Sample variance for population 1 (s₁²): 25\n",
    "Sample size for population 2 (n₂): 15\n",
    "Sample variance for population 2 (s₂²): 20\n",
    "Significance level (α): 0.1\n",
    "\n",
    "2. Perform the F-test:\n",
    "\n",
    "Calculate the F-statistic:\n",
    "F = (s₁² / s₂²) = (25 / 20) = 1.25\n",
    "\n",
    "3. Determine critical F-value:\n",
    "\n",
    "Degrees of freedom for numerator (df₁): n₁ - 1 = 10 - 1 = 9\n",
    "Degrees of freedom for denominator (df₂): n₂ - 1 = 15 - 1 = 14\n",
    "Look up the critical F-value for df₁ = 9 and df₂ = 14 at α = 0.1 (two-tailed test) using an F-distribution table or statistical software. This value will be around 2.09.\n",
    "\n",
    "4. Interpretation:\n",
    "\n",
    "Compare the calculated F-value (1.25) with the critical F-value (2.09).\n",
    "Since the calculated F-value (1.25) is less than the critical F-value (2.09), we fail to reject the null hypothesis.\n",
    "\n",
    "5. Conclusion:\n",
    "\n",
    "Based on the F-test at the 10% significance level, there is not enough evidence to conclude that the variances of the two populations are significantly different.\n",
    "This suggests that the variances may, in fact, be similar, although we cannot definitively claim that with this level of significance."
   ]
  },
  {
   "cell_type": "markdown",
   "id": "7ed58f70-026b-428b-848f-a9137ef95a51",
   "metadata": {},
   "source": [
    "## Q8. The following data represent the waiting times in minutes at two different restaurants on a Saturday night: Restaurant A: 24, 25, 28, 23, 22, 20, 27; Restaurant B: 31, 33, 35, 30, 32, 36. Conduct an F-test at the 5% significance level to determine if the variances are significantly different."
   ]
  },
  {
   "cell_type": "markdown",
   "id": "1124ac66-fde7-41de-a56d-e1b731f0cc8f",
   "metadata": {},
   "source": [
    "Data:\n",
    "\n",
    "Restaurant A: 24, 25, 28, 23, 22, 20, 27\n",
    "Restaurant B: 31, 33, 35, 30, 32, 36\n",
    "Significance level (α): 0.05\n",
    "\n",
    "1. Calculate sample variances:\n",
    "\n",
    "Restaurant A: s1² = ((24-24.71)^2 + (25-24.71)^2 + ... + (27-24.71)^2) / (7-1) = 7.29\n",
    "Restaurant B: s2² = ((31-32.33)^2 + (33-32.33)^2 + ... + (36-32.33)^2) / (6-1) = 14.44\n",
    "\n",
    "2. Perform the F-test:\n",
    "\n",
    "F-statistic: F = s2² / s1² = 14.44 / 7.29 = 1.98\n",
    "\n",
    "3. Determine critical F-value:\n",
    "\n",
    "Degrees of freedom for numerator (df1): n1 - 1 = 7 - 1 = 6\n",
    "Degrees of freedom for denominator (df2): n2 - 1 = 6 - 1 = 5\n",
    "Look up the critical F-value for df1 = 6 and df2 = 5 at α = 0.05 (two-tailed test). This value is approximately 5.14.\n",
    "\n",
    "4. Interpretation:\n",
    "\n",
    "Calculated F-value (1.98) is less than the critical F-value (5.14).\n",
    "\n",
    "5. Conclusion:\n",
    "\n",
    "Fail to reject the null hypothesis. At the 5% significance level, there is not enough evidence to conclude that the variances of waiting times in the two restaurants are significantly different."
   ]
  },
  {
   "cell_type": "markdown",
   "id": "206134a3-3305-4224-b296-bb0bd983c707",
   "metadata": {},
   "source": [
    "## Q9. The following data represent the test scores of two groups of students: Group A: 80, 85, 90, 92, 87, 83; Group B: 75, 78, 82, 79, 81, 84. Conduct an F-test at the 1% significance level to determine if the variances are significantly different."
   ]
  },
  {
   "cell_type": "markdown",
   "id": "e4c78018-743c-4c99-8594-13d1c2d468a3",
   "metadata": {},
   "source": [
    "Data:\n",
    "\n",
    "Group A: 80, 85, 90, 92, 87, 83\n",
    "Group B: 75, 78, 82, 79, 81, 84\n",
    "Significance level (α): 0.01\n",
    "\n",
    "1. Calculate sample variances:\n",
    "\n",
    "Group A: s₁² = ((80 - 85.83)^2 + (85 - 85.83)^2 + ... + (83 - 85.83)^2) / (6 - 1) = 10.67\n",
    "Group B: s₂² = ((75 - 79.33)^2 + (78 - 79.33)^2 + ... + (84 - 79.33)^2) / (6 - 1) = 7.67\n",
    "\n",
    "2. Perform the F-test:\n",
    "\n",
    "F-statistic: F = s₂² / s₁² = 7.67 / 10.67 = 0.72\n",
    "\n",
    "3. Determine critical F-value:\n",
    "\n",
    "Degrees of freedom for numerator (df₁): n₁ - 1 = 6 - 1 = 5\n",
    "Degrees of freedom for denominator (df₂): n₂ - 1 = 6 - 1 = 5\n",
    "Look up the critical F-value for df₁ = 5 and df₂ = 5 at α = 0.01 (two-tailed test). This value is approximately 10.96.\n",
    "\n",
    "4. Interpretation:\n",
    "\n",
    "Calculated F-value (0.72) is less than the critical F-value (10.96).\n",
    "\n",
    "5. Conclusion:\n",
    "\n",
    "Fail to reject the null hypothesis. At the 1% significance level, there is not enough evidence to conclude that the variances of test scores in the two groups are significantly different. The groups appear to have similar variances in test scores."
   ]
  },
  {
   "cell_type": "code",
   "execution_count": 5,
   "id": "7dd18c02-008e-4954-8144-33cf1368eb26",
   "metadata": {},
   "outputs": [],
   "source": [
    "#"
   ]
  },
  {
   "cell_type": "code",
   "execution_count": null,
   "id": "edd9a119-5d5c-4231-b784-4ed00301efd9",
   "metadata": {},
   "outputs": [],
   "source": []
  }
 ],
 "metadata": {
  "kernelspec": {
   "display_name": "Python 3 (ipykernel)",
   "language": "python",
   "name": "python3"
  },
  "language_info": {
   "codemirror_mode": {
    "name": "ipython",
    "version": 3
   },
   "file_extension": ".py",
   "mimetype": "text/x-python",
   "name": "python",
   "nbconvert_exporter": "python",
   "pygments_lexer": "ipython3",
   "version": "3.10.8"
  }
 },
 "nbformat": 4,
 "nbformat_minor": 5
}
