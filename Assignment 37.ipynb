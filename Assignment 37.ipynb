{
 "cells": [
  {
   "cell_type": "markdown",
   "id": "6138d75b-bf0d-4cae-bebe-a5fe6037741e",
   "metadata": {},
   "source": [
    "## Q1: Explain the following with an example\n",
    "1) Artificial Intelligence\n",
    "2) Machine Learning,\n",
    "3) Deep Learning"
   ]
  },
  {
   "cell_type": "markdown",
   "id": "8122068f-032f-4f69-8654-e8e6ad50c6eb",
   "metadata": {},
   "source": [
    "Artificial Intelligence (AI): Creating intelligent machines that can think and act like humans.\n",
    "\n",
    "Example: Self-driving cars use AI to navigate without human input, combining machine learning, vision, and decision-making algorithms.\n",
    "\n",
    "Machine Learning (ML): Machines learn from data without being explicitly programmed.\n",
    "\n",
    "Example: Recommendation systems analyze your past purchases to suggest similar products you might like.\n",
    "\n",
    "Deep Learning (DL): A type of ML using artificial neural networks for complex tasks.\n",
    "\n",
    "Example: Facial recognition software analyzes features to identify individuals in images, using deep learning for high accuracy."
   ]
  },
  {
   "cell_type": "markdown",
   "id": "39544bd7-ff44-49d9-a596-6af4a9d5ceb6",
   "metadata": {},
   "source": [
    "## Q.2- What is supervised learning? List some examples of supervised learning."
   ]
  },
  {
   "cell_type": "markdown",
   "id": "4c0578d7-c385-4c54-ab24-d54826a0ecb9",
   "metadata": {},
   "source": [
    "Supervised learning is a type of machine learning where algorithms are trained using labeled data. This data consists of input features and corresponding labels (outputs). The model learns the relationship between features and labels, enabling it to predict labels for unseen data.\n",
    "\n",
    "examples of supervised learning:\n",
    "\n",
    "Classification: Predicting email spam, image object recognition (e.g., identifying cats in pictures), classifying customer sentiment in \n",
    "reviews.\n",
    "\n",
    "Regression: Predicting house prices based on size, location, and other factors, forecasting sales trends, estimating customer churn."
   ]
  },
  {
   "cell_type": "markdown",
   "id": "ca5ee1d6-761b-4b51-a715-e54a67413a23",
   "metadata": {},
   "source": [
    "## Q3- What is unsupervised learning? List some examples of unsupervised learning."
   ]
  },
  {
   "cell_type": "markdown",
   "id": "2a7d53a1-8f13-499d-aef2-ada55a1630f8",
   "metadata": {},
   "source": [
    "Unsupervised learning, in contrast to supervised learning, involves finding patterns and structures in unlabeled data, meaning the data doesn't have predefined categories or labels. The model essentially \"learns by itself\" to uncover hidden insights and relationships within the data.\n",
    "\n",
    "examples of unsupervised learning:\n",
    "\n",
    "Clustering: Grouping customers based on purchase history, segmenting social media users by interests, identifying anomalies in network traffic.\n",
    "\n",
    "Dimensionality reduction: Compressing data with high dimensionality into a lower-dimensional space for easier visualization and analysis, such as summarizing customer preferences from numerous product attributes.\n",
    "\n",
    "Association rule learning: Discovering frequent patterns in data, like recommending products based on previous purchases in online stores."
   ]
  },
  {
   "cell_type": "markdown",
   "id": "e81128ca-6a22-4e3e-b7e6-ba9c4f07b06f",
   "metadata": {},
   "source": [
    "## Q4: What is the difference between AI, ML, DL, and DS?"
   ]
  },
  {
   "cell_type": "markdown",
   "id": "402ec31e-8447-45f5-aa21-440ce71b9abc",
   "metadata": {},
   "source": [
    "AI (broadest): Creating intelligent machines (think, learn, act).\n",
    "\n",
    "ML (subset of AI): Algorithms learn from data to improve (supervised, unsupervised, etc.).\n",
    "\n",
    "DL (subset of ML): Uses deep neural networks for complex patterns (e.g., image recognition).\n",
    "\n",
    "DS (interdisciplinary): Extracts insights from data using various techniques (including ML/DL)."
   ]
  },
  {
   "cell_type": "markdown",
   "id": "a806065a-c2fb-451c-95f9-b83505bed692",
   "metadata": {},
   "source": [
    "## Q5- What are the main differences betwKen supervised, unsupervised, and semi-supervised learning?"
   ]
  },
  {
   "cell_type": "markdown",
   "id": "9e545ac2-8d2b-493f-9020-50dc6aba0b42",
   "metadata": {},
   "source": [
    "Supervised learning:\n",
    "\n",
    "Uses labeled data with both input features and corresponding outputs (labels).\n",
    "\n",
    "Learns the mapping between features and labels to predict outputs for unseen data.\n",
    "\n",
    "Examples: classifying emails as spam/not spam, predicting house prices.\n",
    "\n",
    "Unsupervised learning:\n",
    "\n",
    "Uses unlabeled data with only input features, no predefined labels.\n",
    "\n",
    "Discovers hidden patterns and structures within the data.\n",
    "\n",
    "Examples: grouping customers based on purchase history, identifying anomalies in network traffic.\n",
    "\n",
    "Semi-supervised learning:\n",
    "\n",
    "Utilizes a combination of labeled and unlabeled data, typically with more unlabeled data.\n",
    "\n",
    "Leverages the labeled data to learn a model and then uses it to label some unlabeled data (pseudo-labeling).\n",
    "\n",
    "Integrates both supervised and unsupervised learning approaches.\n",
    "\n",
    "Examples: sentiment analysis of social media posts, image classification with limited labeled data."
   ]
  },
  {
   "cell_type": "markdown",
   "id": "0fd3021d-cfa8-48ba-8293-707cb8b4451d",
   "metadata": {},
   "source": [
    "## Q6- What is train, test and validation split? Eeplain the importance of each term."
   ]
  },
  {
   "cell_type": "markdown",
   "id": "9a2a8cfa-e7d3-4c95-9413-d5469bb0c8cf",
   "metadata": {},
   "source": [
    "Train, test, and validation split is a crucial technique in machine learning used to evaluate and prevent overfitting in models. It involves dividing your dataset into three distinct subsets           \n",
    "\n",
    "Importance of Each Term:\n",
    "\n",
    "Training Set: Provides the foundation for the model's learning process.\n",
    "\n",
    "Validation Set: Helps prevent overfitting and optimize hyperparameters for better performance.\n",
    "\n",
    "Test Set: Offers an unbiased evaluation of the model's generalizability, ensuring its reliability for real-world use cases."
   ]
  },
  {
   "cell_type": "markdown",
   "id": "1dec1928-7e70-4a8e-af0e-6ae3421b7f54",
   "metadata": {},
   "source": [
    "## Q7- How can unsupervised learning be used in anomaly detection?"
   ]
  },
  {
   "cell_type": "markdown",
   "id": "93bae243-02d6-495b-ab13-a0e83d9da1a4",
   "metadata": {},
   "source": [
    "Unsupervised learning for anomaly detection:\n",
    "\n",
    "Model learns normal behavior from unlabeled data.\n",
    "\n",
    "Identifies data points deviating significantly from learned patterns as anomalies.\n",
    "\n",
    "Useful when labeled data (known anomalies) is scarce.\n",
    "\n",
    "Adapts to changing patterns and applicable in various domains.\n",
    "\n",
    "Limitations: false positives and difficulty interpreting anomalies."
   ]
  },
  {
   "cell_type": "markdown",
   "id": "23986210-8027-4568-86ba-c7c61cbe2b0b",
   "metadata": {},
   "source": [
    "## Q8- List down some commonly used supervised learning algorithms and unsupervisKd learning algorithms."
   ]
  },
  {
   "cell_type": "markdown",
   "id": "5499a3d5-52dd-4617-9dec-8ac82e3bd80f",
   "metadata": {},
   "source": [
    "Supervised Learning:\n",
    "Classification: Logistic Regression, Support Vector Machines (SVM), Decision Trees, Random Forests, Naive Bayes.\n",
    "Regression: Linear Regression, Polynomial Regression, Support Vector Regression, Random Forest Regression.\n",
    "Unsupervised Learning:\n",
    "Clustering: K-means, Hierarchical Clustering, Density-Based Spatial Clustering of Applications with Noise (DBSCAN).\n",
    "Dimensionality Reduction: Principal Component Analysis (PCA), Singular Value Decomposition (SVD).\n",
    "Association rule learning: Apriori algorithm."
   ]
  }
 ],
 "metadata": {
  "kernelspec": {
   "display_name": "Python 3 (ipykernel)",
   "language": "python",
   "name": "python3"
  },
  "language_info": {
   "codemirror_mode": {
    "name": "ipython",
    "version": 3
   },
   "file_extension": ".py",
   "mimetype": "text/x-python",
   "name": "python",
   "nbconvert_exporter": "python",
   "pygments_lexer": "ipython3",
   "version": "3.10.8"
  }
 },
 "nbformat": 4,
 "nbformat_minor": 5
}
