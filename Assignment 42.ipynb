{
 "cells": [
  {
   "cell_type": "markdown",
   "id": "d71437f3-a2bb-4f5c-983e-50f6acb7440f",
   "metadata": {},
   "source": [
    "## Q1. What is data encoding? How is it useful in data science?"
   ]
  },
  {
   "cell_type": "markdown",
   "id": "74a5fe30-cc03-47db-9140-3d48d075c027",
   "metadata": {},
   "source": [
    "Data encoding is the process of converting data from one format to another, typically for analysis or storage. In data science, it's crucial because most machine learning algorithms only work with numerical data.\n",
    "\n",
    "Encoding allows us to represent categorical or textual data (e.g., colors, sizes, customer names) in a numerical format that algorithms can understand and process effectively. This enables us to use this data for tasks like:\n",
    "\n",
    "Building predictive models\n",
    "\n",
    "Identifying patterns and trends\n",
    "\n",
    "Performing statistical analysis"
   ]
  },
  {
   "cell_type": "markdown",
   "id": "34393fba-b588-4dd1-885c-2d39ef747850",
   "metadata": {},
   "source": [
    "## Q2. What is nominal encoding? Provide an example of how you would use it in a real-world scenario."
   ]
  },
  {
   "cell_type": "markdown",
   "id": "afc3558b-bdd3-422e-b389-db75b9887c02",
   "metadata": {},
   "source": [
    "Nominal encoding is a technique used for categorical data that has no inherent order or ranking. It represents each unique category with a unique numerical value. There is no mathematical meaning to the assigned numbers, they simply act as labels.\n",
    "\n",
    "Example: Imagine a dataset analyzing customer purchases, where a \"shirt_color\" column has categories like \"red,\" \"blue,\" and \"green.\"\n",
    "\n",
    "In nominal encoding, we could assign \"red\" = 1, \"blue\" = 2, and \"green\" = 3.\n",
    "This allows algorithms to recognize different colors without assuming any order between them (e.g., \"red\" is not \"better\" than \"blue\")."
   ]
  },
  {
   "cell_type": "markdown",
   "id": "1966b553-d10c-4068-a151-a8cb56b122a4",
   "metadata": {},
   "source": [
    "## Q3. In what situations is nominal encoding preferred over one-hot encoding? Provide a practical example."
   ]
  },
  {
   "cell_type": "markdown",
   "id": "afb926c2-a72b-4947-a15a-68b06278dda3",
   "metadata": {},
   "source": [
    "Large number of categories: One-hot encoding creates a new column for each unique category, leading to very wide datasets with lots of sparse (mostly zero) values when the number of categories is large.  Nominal encoding keeps the dataset smaller and potentially less computationally expensive.\n",
    "\n",
    "Tree-based models: Decision trees and random forests often handle nominal encoding directly, while one-hot encoding can sometimes lead to overfitting if the number of categories is large.\n",
    "\n",
    "Practical example:\n",
    "\n",
    "Imagine analyzing different types of housing sales with a \"property_type\" column that has diverse categories (\"house\", \"apartment\", \"condo\", \"townhouse\", \"bungalow\", etc.).\n",
    "\n",
    "Using nominal encoding for this column would be more efficient than creating a large number of new columns as with one-hot encoding.\n",
    "If using tree-based models for analysis, nominal encoding might be a straightforward fit for the algorithm."
   ]
  },
  {
   "cell_type": "markdown",
   "id": "84ad138d-4bee-440e-9f5b-ea9c33d6a73f",
   "metadata": {},
   "source": [
    "## Q4. Suppose you have a dataset containing categorical data with 5 unique values. Which encoding technique would you use to transform this data into a format suitable for machine learning algorithms? Explain why you made this choice."
   ]
  },
  {
   "cell_type": "markdown",
   "id": "3874a58c-d5d2-40f3-aa0b-45cf6c3e9fbe",
   "metadata": {},
   "source": [
    "For a dataset containing only 5 unique categorical values, both nominal encoding and one-hot encoding could be suitable options for machine learning algorithms. However, I would generally recommend nominal encoding in this case for the following reasons:\n",
    "\n",
    "Efficiency: With only 5 categories, nominal encoding will require fewer additional columns compared to one-hot encoding, which creates a new column for each unique value. This keeps the dataset more compact and potentially reduces computational costs.\n",
    "\n",
    "Interpretability: Nominal encoding can be slightly easier to interpret for humans, as the assigned numerical values still somewhat reflect the original categories. This can be helpful for understanding the impact of the categorical variable on models.\n",
    "\n",
    "Tree-based models: If you plan to use tree-based algorithms like decision trees or random forests, these models often handle nominal encoding directly without requiring additional processing like one-hot encoding."
   ]
  },
  {
   "cell_type": "markdown",
   "id": "75bc4332-e253-4de7-911b-c45cd5c7a2c9",
   "metadata": {},
   "source": [
    "## Q5. In a machine learning project, you have a dataset with 1000 rows and 5 columns. Two of the columns are categorical, and the remaining three columns are numerical. If you were to use nominal encoding to transform the categorical data, how many new columns would be created? Show your calculations."
   ]
  },
  {
   "cell_type": "markdown",
   "id": "43222c00-a796-44dc-86f8-2263e81cbf8d",
   "metadata": {},
   "source": [
    "Identify the number of unique values in each categorical column: We don't have this information in the prompt, so let's call the number of unique values in each column \"x.\"\n",
    "\n",
    "Calculate the number of new columns per categorical column: Using nominal encoding, each unique value in a column gets assigned a unique numerical value. Therefore, the number of new columns for each categorical column will be x.\n",
    "\n",
    "Calculate the total number of new columns: Since we have two categorical columns, the total number of new columns will be the sum of the new columns for each individual column: Total new columns = x (column 1) + x (column 2).\n",
    "\n",
    "Since we don't have the exact values of x, we can't provide a specific number of new columns. However, the formula above shows that the number of new columns will depend on the number of unique values in each categorical column."
   ]
  },
  {
   "cell_type": "markdown",
   "id": "31152ab6-0cbf-4b70-aaa2-cf77c57350f7",
   "metadata": {},
   "source": [
    "## Q6. You are working with a dataset containing information about different types of animals, including their species, habitat, and diet. Which encoding technique would you use to transform the categorical data into a format suitable for machine learning algorithms? Justify your answer."
   ]
  },
  {
   "cell_type": "markdown",
   "id": "16c4949d-8ec3-4c2f-82b5-5e536cd4e6b9",
   "metadata": {},
   "source": [
    "In this scenario, the most suitable encoding technique for the categorical data (species, habitat, diet) would be a combination of nominal encoding and one-hot encoding, depending on the specific characteristics of each feature:\n",
    "\n",
    "Species: This feature likely has a large number of unique categories representing diverse animal species. Using nominal encoding would be a better choice here to:\n",
    "\n",
    "Maintain efficiency: Avoid creating a large number of new columns with one-hot encoding, keeping the dataset size manageable.\n",
    "Preserve interpretability: Nominal encoding allows some interpretability as assigned values might still loosely reflect the original species names.\n",
    "\n",
    "Habitat and Diet: These features might have a fewer number of unique categories compared to species (e.g., aquatic, terrestrial, herbivore, carnivore). Here, one-hot encoding could be considered:\n",
    "\n",
    "Handle potential order: While the categories might not have a strict numerical order, one-hot encoding can be used if there's a natural ordering within each feature (e.g., aquatic, terrestrial, aerial for habitat).\n",
    "\n",
    "Sparsity is manageable: Since the number of categories is likely smaller, the increase in columns from one-hot encoding might be acceptable and potentially beneficial for algorithms sensitive to nominal encoding (e.g., logistic regression)"
   ]
  },
  {
   "cell_type": "markdown",
   "id": "0ee027ea-f81d-4473-9a58-f74a179dd9b8",
   "metadata": {},
   "source": [
    "## Q7.You are working on a project that involves predicting customer churn for a telecommunications company. You have a dataset with 5 features, including the customer's gender, age, contract type, monthly charges, and tenure. Which encoding technique(s) would you use to transform the categorical data into numerical data? Provide a step-by-step explanation of how you would implement the encoding."
   ]
  },
  {
   "cell_type": "markdown",
   "id": "4436885e-77b3-4e55-be64-7bd63a6ad6ac",
   "metadata": {},
   "source": [
    "1. Identify the categorical features:\n",
    "\n",
    "In this case, the categorical features are:\n",
    "\n",
    "Gender: This has two categories (e.g., male, female)\n",
    "Contract type: This likely has several categories depending on the company's offerings (e.g., monthly, yearly, family plan)\n",
    "2. Choose the appropriate encoding technique for each feature:\n",
    "\n",
    "Gender: Due to the limited number of categories (2), we can use label encoding. This assigns a unique numerical value (e.g., 0 for male, 1 for female) to each category.\n",
    "\n",
    "Contract type: Since the number of categories might be larger and the categories might not have a natural inherent order, nominal encoding is preferred. This assigns a unique numerical value (e.g., 1, 2, 3, etc.) to each unique contract type, preserving some interpretability while keeping the dataset efficient.\n",
    "\n",
    "3. Implementation steps:"
   ]
  },
  {
   "cell_type": "code",
   "execution_count": null,
   "id": "650ccfb3-3d98-4312-b55a-2bf77be48bd4",
   "metadata": {},
   "outputs": [],
   "source": []
  }
 ],
 "metadata": {
  "kernelspec": {
   "display_name": "Python 3 (ipykernel)",
   "language": "python",
   "name": "python3"
  },
  "language_info": {
   "codemirror_mode": {
    "name": "ipython",
    "version": 3
   },
   "file_extension": ".py",
   "mimetype": "text/x-python",
   "name": "python",
   "nbconvert_exporter": "python",
   "pygments_lexer": "ipython3",
   "version": "3.10.8"
  }
 },
 "nbformat": 4,
 "nbformat_minor": 5
}
