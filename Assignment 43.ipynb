{
 "cells": [
  {
   "cell_type": "markdown",
   "id": "2d94f450-e2ab-4a73-855b-921fdff8e75c",
   "metadata": {},
   "source": [
    "## Q1. What is the difference between Ordinal Encoding and Label Encoding? Provide an example of when you might choose one over the other."
   ]
  },
  {
   "cell_type": "markdown",
   "id": "0c66e81c-f446-4f25-9613-9e6b16d97e52",
   "metadata": {},
   "source": [
    "Ordinal Encoding: Preserves the order of categories (e.g., \"low\", \"medium\", \"high\"). Useful when order matters (e.g., customer satisfaction levels).\n",
    "\n",
    "Label Encoding: Assigns unique numerical labels to categories without preserving order (e.g., \"color\": red = 0, blue = 1, green = 2). Suitable for nominal data with no inherent order (e.g., shirt sizes)."
   ]
  },
  {
   "cell_type": "markdown",
   "id": "ad9ada21-9ea0-4adf-81c2-18a754598044",
   "metadata": {},
   "source": [
    "## Q2. Explain how Target Guided Ordinal Encoding works and provide an example of when you might use it in a machine learning project."
   ]
  },
  {
   "cell_type": "markdown",
   "id": "baa606e9-9367-4b8f-99db-c66a8d0fd1f5",
   "metadata": {},
   "source": [
    "Target Guided Ordinal Encoding:\n",
    "\n",
    "Sorts categories based on the target variable's average value for each category (e.g., average income for different job titles).\n",
    "Assigns ordinal numbers (ranks) based on the sorted order.\n",
    "Use case: When the order of categories might be related to the target variable (e.g., predicting house prices based on different neighborhood categories)."
   ]
  },
  {
   "cell_type": "markdown",
   "id": "a17dfc61-5af2-4742-8359-61db8fa5fa77",
   "metadata": {},
   "source": [
    "## Q3. Define covariance and explain why it is important in statistical analysis. How is covariance calculated?"
   ]
  },
  {
   "cell_type": "markdown",
   "id": "2517b418-879a-4f70-b7d8-68a07da522f6",
   "metadata": {},
   "source": [
    "Covariance is a statistical measure that indicates the extent to which two variables change together. It's important because it helps us understand:\n",
    "\n",
    "Direction of relationship: A positive covariance means variables tend to increase/decrease together, while a negative covariance means they move oppositely.\n",
    "\n",
    "Strength of linear relationship: A larger absolute value of covariance indicates a stronger linear relationship.\n",
    "\n",
    "Calculation:\n",
    "\n",
    "Calculate the mean of each variable.\n",
    "\n",
    "Subtract the mean from each data point for both variables.\n",
    "\n",
    "Multiply the corresponding deviations from the mean.\n",
    "\n",
    "Average these products over the dataset."
   ]
  },
  {
   "cell_type": "markdown",
   "id": "2c9a006b-2f63-4c65-a7e1-4024dc55fd91",
   "metadata": {},
   "source": [
    "## Q4. For a dataset with the following categorical variables: Color (red, green, blue), Size (small, medium, large), and Material (wood, metal, plastic), perform label encoding using Python's scikit-learn library. Show your code and explain the output."
   ]
  },
  {
   "cell_type": "code",
   "execution_count": 1,
   "id": "e6f46a60-4fb4-48fa-a62a-c5804b5d0c9b",
   "metadata": {},
   "outputs": [
    {
     "name": "stdout",
     "output_type": "stream",
     "text": [
      "Original dataset:\n",
      "    Color    Size Material\n",
      "0    red   small     wood\n",
      "1  green  medium    metal\n",
      "2   blue   large  plastic\n",
      "3    red  medium    metal\n",
      "4  green   small     wood\n",
      "\n",
      "Encoded dataset:\n",
      "    Color_encoded  Size_encoded  Material_encoded\n",
      "0              2             2                 2\n",
      "1              1             1                 0\n",
      "2              0             0                 1\n",
      "3              2             1                 0\n",
      "4              1             2                 2\n"
     ]
    }
   ],
   "source": [
    "from sklearn.preprocessing import LabelEncoder\n",
    "import pandas as pd\n",
    "\n",
    "data = {'Color': ['red', 'green', 'blue', 'red', 'green'],\n",
    "        'Size': ['small', 'medium', 'large', 'medium', 'small'],\n",
    "        'Material': ['wood', 'metal', 'plastic', 'metal', 'wood']}\n",
    "\n",
    "df = pd.DataFrame(data)\n",
    "\n",
    "label_encoder = LabelEncoder()\n",
    "\n",
    "df['Color_encoded'] = label_encoder.fit_transform(df['Color'])\n",
    "df['Size_encoded'] = label_encoder.fit_transform(df['Size'])\n",
    "df['Material_encoded'] = label_encoder.fit_transform(df['Material'])\n",
    "\n",
    "print(\"Original dataset:\\n\", df[['Color', 'Size', 'Material']])\n",
    "print(\"\\nEncoded dataset:\\n\", df[['Color_encoded', 'Size_encoded', 'Material_encoded']])"
   ]
  },
  {
   "cell_type": "markdown",
   "id": "9829deec-ef01-484c-88a2-c757aca1bf9b",
   "metadata": {},
   "source": [
    "## Q5. Calculate the covariance matrix for the following variables in a dataset: Age, Income, and Education level. Interpret the results."
   ]
  },
  {
   "cell_type": "code",
   "execution_count": 2,
   "id": "da0a7f75-c1e0-4d0e-97e6-b317670bf797",
   "metadata": {},
   "outputs": [
    {
     "name": "stdout",
     "output_type": "stream",
     "text": [
      "Covariance Matrix:\n",
      " [[6.25e+01 1.25e+05 2.25e+01]\n",
      " [1.25e+05 2.55e+08 4.25e+04]\n",
      " [2.25e+01 4.25e+04 1.00e+01]]\n"
     ]
    }
   ],
   "source": [
    "import numpy as np\n",
    "import pandas as pd\n",
    "\n",
    "data = {'Age': [25, 30, 35, 40, 45],\n",
    "        'Income': [50000, 60000, 75000, 80000, 90000],\n",
    "        'EducationLevel': [12, 16, 14, 18, 20]}\n",
    "\n",
    "df = pd.DataFrame(data)\n",
    "\n",
    "covariance_matrix = np.cov(df, rowvar=False)\n",
    "\n",
    "print(\"Covariance Matrix:\\n\", covariance_matrix)"
   ]
  },
  {
   "cell_type": "markdown",
   "id": "cc4d2323-3fbf-4879-8ca7-91223b31976b",
   "metadata": {},
   "source": [
    "## Q6. You are working on a machine learning project with a dataset containing several categorical variables, including \"Gender\" (Male/Female), \"Education Level\" (High School/Bachelor's/Master's/PhD), and \"Employment Status\" (Unemployed/Part-Time/Full-Time). Which encoding method would you use for each variable, and why?"
   ]
  },
  {
   "cell_type": "markdown",
   "id": "c6187a66-8e66-4964-8266-ca00f18f15d9",
   "metadata": {},
   "source": [
    "1. Gender (Male/Female):\n",
    "\n",
    "Method: Label encoding.\n",
    "\n",
    "Justification: This is a suitable choice because \"Gender\" has only two categories with no inherent order, and label encoding efficiently \n",
    "assigns unique numerical labels to each category.\n",
    "\n",
    "2. Education Level (High School/Bachelor's/Master's/PhD):\n",
    "\n",
    "Method: Ordinal encoding.\n",
    "\n",
    "Justification: While there are multiple categories, \"Education Level\" has a clear inherent order. Ordinal encoding preserves this order, potentially benefiting models that can leverage such information (e.g., decision trees).\n",
    "\n",
    "3. Employment Status (Unemployed/Part-Time/Full-Time):\n",
    "\n",
    "Method: Label encoding.\n",
    "\n",
    "Justification: Similar to \"Gender,\" there are a limited number of categories with no inherent order. Label encoding efficiently assigns unique numerical labels while ignoring potential order assumptions."
   ]
  },
  {
   "cell_type": "markdown",
   "id": "cefcdd7d-d13f-491c-a395-a5b6497eb489",
   "metadata": {},
   "source": [
    "## Q7. You are analyzing a dataset with two continuous variables, \"Temperature\" and \"Humidity\", and two categorical variables, \"Weather Condition\" (Sunny/Cloudy/Rainy) and \"Wind Direction\" (North/South/ East/West). Calculate the covariance between each pair of variables and interpret the results."
   ]
  },
  {
   "cell_type": "code",
   "execution_count": 4,
   "id": "1fa6a935-9dfb-4d62-a370-ea968ddea7b8",
   "metadata": {},
   "outputs": [
    {
     "name": "stdout",
     "output_type": "stream",
     "text": [
      "Covariance Matrix for Continuous Variables:\n",
      " [[ 17.  -42.5]\n",
      " [-42.5 107.5]]\n",
      "\n",
      "Covariance Matrix for All Variables:\n",
      " [[ 1.700e+01 -4.250e+01 -1.250e+00  7.500e-01  5.000e-01  1.250e+00\n",
      "   7.500e-01 -7.500e-01 -1.250e+00]\n",
      " [-4.250e+01  1.075e+02  2.750e+00 -1.750e+00 -1.000e+00 -3.500e+00\n",
      "  -1.750e+00  2.000e+00  3.250e+00]\n",
      " [-1.250e+00  2.750e+00  3.000e-01 -1.000e-01 -2.000e-01  5.000e-02\n",
      "  -1.000e-01 -1.000e-01  1.500e-01]\n",
      " [ 7.500e-01 -1.750e+00 -1.000e-01  2.000e-01 -1.000e-01 -1.000e-01\n",
      "   2.000e-01 -5.000e-02 -5.000e-02]\n",
      " [ 5.000e-01 -1.000e+00 -2.000e-01 -1.000e-01  3.000e-01  5.000e-02\n",
      "  -1.000e-01  1.500e-01 -1.000e-01]\n",
      " [ 1.250e+00 -3.500e+00  5.000e-02 -1.000e-01  5.000e-02  3.000e-01\n",
      "  -1.000e-01 -1.000e-01 -1.000e-01]\n",
      " [ 7.500e-01 -1.750e+00 -1.000e-01  2.000e-01 -1.000e-01 -1.000e-01\n",
      "   2.000e-01 -5.000e-02 -5.000e-02]\n",
      " [-7.500e-01  2.000e+00 -1.000e-01 -5.000e-02  1.500e-01 -1.000e-01\n",
      "  -5.000e-02  2.000e-01 -5.000e-02]\n",
      " [-1.250e+00  3.250e+00  1.500e-01 -5.000e-02 -1.000e-01 -1.000e-01\n",
      "  -5.000e-02 -5.000e-02  2.000e-01]]\n"
     ]
    }
   ],
   "source": [
    "import numpy as np\n",
    "import pandas as pd\n",
    "\n",
    "data = {'Temperature': [25, 28, 22, 20, 30],\n",
    "        'Humidity': [60, 55, 70, 75, 50],\n",
    "        'Weather Condition': ['Sunny', 'Cloudy', 'Rainy', 'Sunny', 'Rainy'],\n",
    "        'Wind Direction': ['North', 'South', 'East', 'West', 'North']}\n",
    "\n",
    "df = pd.DataFrame(data)\n",
    "\n",
    "continuous_variables = df[['Temperature', 'Humidity']]\n",
    "\n",
    "covariance_matrix_continuous = np.cov(continuous_variables, rowvar=False)\n",
    "\n",
    "print(\"Covariance Matrix for Continuous Variables:\\n\", covariance_matrix_continuous)\n",
    "\n",
    "df_encoded = pd.get_dummies(df, columns=['Weather Condition', 'Wind Direction'])\n",
    "\n",
    "all_variables = df_encoded[['Temperature', 'Humidity', 'Weather Condition_Sunny', 'Weather Condition_Cloudy', 'Weather Condition_Rainy', 'Wind Direction_North', 'Wind Direction_South', 'Wind Direction_East', 'Wind Direction_West']]\n",
    "\n",
    "covariance_matrix_all = np.cov(all_variables, rowvar=False)\n",
    "\n",
    "print(\"\\nCovariance Matrix for All Variables:\\n\", covariance_matrix_all)"
   ]
  },
  {
   "cell_type": "code",
   "execution_count": 5,
   "id": "01a502cf-c9c4-4249-a795-43658d0a29ad",
   "metadata": {},
   "outputs": [],
   "source": [
    "#"
   ]
  },
  {
   "cell_type": "code",
   "execution_count": 6,
   "id": "3200ea49-a5fe-4880-b3ae-cd436d90f4df",
   "metadata": {},
   "outputs": [],
   "source": [
    "#"
   ]
  },
  {
   "cell_type": "code",
   "execution_count": null,
   "id": "f2791ff3-a873-4df3-9749-67317b83540c",
   "metadata": {},
   "outputs": [],
   "source": []
  }
 ],
 "metadata": {
  "kernelspec": {
   "display_name": "Python 3 (ipykernel)",
   "language": "python",
   "name": "python3"
  },
  "language_info": {
   "codemirror_mode": {
    "name": "ipython",
    "version": 3
   },
   "file_extension": ".py",
   "mimetype": "text/x-python",
   "name": "python",
   "nbconvert_exporter": "python",
   "pygments_lexer": "ipython3",
   "version": "3.10.8"
  }
 },
 "nbformat": 4,
 "nbformat_minor": 5
}
