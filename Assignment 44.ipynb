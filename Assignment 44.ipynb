{
 "cells": [
  {
   "cell_type": "markdown",
   "id": "ae34a53d-bc41-4c3b-a249-1280c1018fea",
   "metadata": {},
   "source": [
    "## Q1. Pearson correlation coefficient is a measure of the linear relationship between two variables. Suppose you have collected data on the amount of time students spend studying for an exam and their final exam scores. Calculate the Pearson correlation coefficient between these two variables and interpret the result."
   ]
  },
  {
   "cell_type": "markdown",
   "id": "79b77b25-bf2c-45f2-851d-678fbd8677b8",
   "metadata": {},
   "source": [
    "Gather the data: You'll need data on both study time and exam scores for a group of students. This data can be hypothetical or from a real study.\n",
    "\n",
    "Calculate the Pearson correlation coefficient: This can be done using statistical software like Excel, Python libraries (like Pandas), or online calculators.\n",
    "\n",
    "Interpret the result: The Pearson correlation coefficient (r) ranges from -1 to +1.\n",
    "\n",
    "A positive value close to 1 indicates a strong positive linear relationship, meaning as study time increases, exam scores tend to increase as well.\n",
    "\n",
    "A negative value close to -1 indicates a strong negative linear relationship, meaning as study time increases, exam scores tend to decrease.\n",
    "\n",
    "A value close to 0 indicates a weak or no linear relationship."
   ]
  },
  {
   "cell_type": "markdown",
   "id": "3e94c170-f186-4209-9cf4-d238423e5f41",
   "metadata": {},
   "source": [
    "## Q2. Spearman's rank correlation is a measure of the monotonic relationship between two variables. Suppose you have collected data on the amount of sleep individuals get each night and their overall job satisfaction level on a scale of 1 to 10. Calculate the Spearman's rank correlation between these two variables and interpret the result."
   ]
  },
  {
   "cell_type": "code",
   "execution_count": 1,
   "id": "6c003b75-ac01-441f-9c88-cc0fb74f21e9",
   "metadata": {},
   "outputs": [
    {
     "data": {
      "text/plain": [
       "\"Spearman's rank correlation coefficient (ρ) measures the monotonic relationship between two variables. Unlike the Pearson correlation coefficient, it doesn't assume linearity but assesses the direction and strength of the relationship based on the ranks of the data.\\n\\nFormula:\\n\\nρ = 1 - 6 * Σ(d_i)^2 / (n * (n^2 - 1))\\nwhere:\\n\\nρ: Spearman's rank correlation coefficient\\nΣ(d_i)^2: Sum of squared differences between ranks for each data point (i)\\nn: Number of data points\\nSteps to Calculate:\\n\\nRank the data: Assign ranks to each variable separately, handling ties appropriately (e.g., averaging ranks for tied values).\\nCalculate squared differences: For each data point, subtract the corresponding ranks of the other variable and square the result.\\nSum the squared differences: Add up the squared differences for all data points.\\nApply the formula: Use the sum of squared differences, number of data points (n), and the formula to calculate ρ.\\nInterpretation:\\n\\nρ = +1: Perfect positive monotonic relationship (as one variable increases, the other always increases).\\nρ = 0: No monotonic relationship.\\nρ = -1: Perfect negative monotonic relationship (as one variable increases, the other always decreases).\\nValues closer to ±1: Stronger monotonic relationship (positive or negative).\\nValues closer to 0: Weaker or no monotonic relationship.\\nImportant Note:\\n\\nSpearman's rank correlation only indicates the direction and strength of the relationship, not necessarily causality.\\nExample:\\n\\nImagine data on sleep hours (X) and job satisfaction (Y):\\n\\n\\nX (Sleep Hours)\\tY (Job Satisfaction)\\tRank(X)\\tRank(Y)\\td_i\\td_i^2\\n7\\t8\\t4\\t5\\t1\\t1\\n8\\t9\\t6.5\\t7.5\\t1\\t1\\n6\\t7\\t2\\t4\\t2\\t4\\n9\\t10\\t8\\t8\\t0\\t0\\n5\\t6\\t1\\t3\\t2\\t4\\n8\\t9\\t6.5\\t7.5\\t1\\t1\\n7\\t8\\t4\\t5\\t1\\t1\\n6\\t7\\t2\\t4\\t2\\t4\\nApplying the steps mentioned above:\\n\\nΣ(d_i)^2 = 22.5\\nn = 8\\nρ = 1 - 6 * 22.5 / (8 * (8^2 - 1)) ≈ 0.778\""
      ]
     },
     "execution_count": 1,
     "metadata": {},
     "output_type": "execute_result"
    }
   ],
   "source": [
    "'''Spearman's rank correlation coefficient (ρ) measures the monotonic relationship between two variables. Unlike the Pearson correlation coefficient, it doesn't assume linearity but assesses the direction and strength of the relationship based on the ranks of the data.\n",
    "\n",
    "Formula:\n",
    "\n",
    "ρ = 1 - 6 * Σ(d_i)^2 / (n * (n^2 - 1))\n",
    "where:\n",
    "\n",
    "ρ: Spearman's rank correlation coefficient\n",
    "Σ(d_i)^2: Sum of squared differences between ranks for each data point (i)\n",
    "n: Number of data points\n",
    "Steps to Calculate:\n",
    "\n",
    "Rank the data: Assign ranks to each variable separately, handling ties appropriately (e.g., averaging ranks for tied values).\n",
    "Calculate squared differences: For each data point, subtract the corresponding ranks of the other variable and square the result.\n",
    "Sum the squared differences: Add up the squared differences for all data points.\n",
    "Apply the formula: Use the sum of squared differences, number of data points (n), and the formula to calculate ρ.\n",
    "Interpretation:\n",
    "\n",
    "ρ = +1: Perfect positive monotonic relationship (as one variable increases, the other always increases).\n",
    "ρ = 0: No monotonic relationship.\n",
    "ρ = -1: Perfect negative monotonic relationship (as one variable increases, the other always decreases).\n",
    "Values closer to ±1: Stronger monotonic relationship (positive or negative).\n",
    "Values closer to 0: Weaker or no monotonic relationship.\n",
    "Important Note:\n",
    "\n",
    "Spearman's rank correlation only indicates the direction and strength of the relationship, not necessarily causality.\n",
    "Example:\n",
    "\n",
    "Imagine data on sleep hours (X) and job satisfaction (Y):\n",
    "\n",
    "\n",
    "X (Sleep Hours)\tY (Job Satisfaction)\tRank(X)\tRank(Y)\td_i\td_i^2\n",
    "7\t8\t4\t5\t1\t1\n",
    "8\t9\t6.5\t7.5\t1\t1\n",
    "6\t7\t2\t4\t2\t4\n",
    "9\t10\t8\t8\t0\t0\n",
    "5\t6\t1\t3\t2\t4\n",
    "8\t9\t6.5\t7.5\t1\t1\n",
    "7\t8\t4\t5\t1\t1\n",
    "6\t7\t2\t4\t2\t4\n",
    "Applying the steps mentioned above:\n",
    "\n",
    "Σ(d_i)^2 = 22.5\n",
    "n = 8\n",
    "ρ = 1 - 6 * 22.5 / (8 * (8^2 - 1)) ≈ 0.778'''"
   ]
  },
  {
   "cell_type": "markdown",
   "id": "3f83b9a2-27a1-4828-b4fa-a5d9d70aef14",
   "metadata": {},
   "source": [
    "## Q3. Suppose you are conducting a study to examine the relationship between the number of hours of exercise per week and body mass index (BMI) in a sample of adults. You collected data on both variables for 50 participants. Calculate the Pearson correlation coefficient and the Spearman's rank correlation between these two variables and compare the results."
   ]
  },
  {
   "cell_type": "code",
   "execution_count": 2,
   "id": "c8b4cd67-6ea7-4415-9b05-8e23b5879ac4",
   "metadata": {},
   "outputs": [
    {
     "data": {
      "text/plain": [
       "\"\\nCalculating Correlation Coefficients:\\n\\nTo assess the relationship between two variables, you can calculate either the Pearson correlation coefficient (r) or Spearman's rank correlation coefficient (ρ). Here's a breakdown of both methods:\\n\\nPearson Correlation Coefficient (r):\\n\\nThis method measures the linear relationship between two variables.\\n\\nFormula:\\n\\nr = ∑(Xi - X̅) * (Yi - Y̅) / √(∑(Xi - X̅)^2 * ∑(Yi - Y̅)^2)\\nExplanation:\\n\\nXi and Yi represent individual data points for variables X and Y, respectively.\\nX̅ and Y̅ represent the means of variables X and Y, respectively.\\nSpearman's Rank Correlation Coefficient (ρ):\\n\\nThis method measures the monotonic relationship between two variables (whether the relationship increases or decreases together, not necessarily linearly).\\n\\nFormula:\\n\\nρ = 1 - 6 * ∑di^2 / n(n^2 - 1)\\nExplanation:\\n\\ndi represents the difference between the ranks of the paired data points.\\nn represents the number of data points.\\nExample:\\n\\nSuppose you have data on exercise hours (X) and body mass index (BMI) (Y) for 50 participants. To calculate both coefficients:\\n\\n1. Pearson correlation coefficient (r):\\n\\nUse statistical software or online calculators to calculate r based on the formula and your data.\\n2. Spearman's rank correlation coefficient (ρ):\\n\\nRank both exercise hours and BMI data separately, assigning the same rank to tied values.\\nCalculate the squared difference (di^2) between ranks for each participant.\\nSum the squared differences (∑di^2).\\nUse the formula ρ = 1 - 6 * ∑di^2 / (n * (n^2 - 1)) to calculate ρ.\\n3. Compare the results:\\n\\nAnalyze both r and ρ to understand the relationship between exercise hours and BMI.\\nInterpretation:\\nSimilar values of r and ρ suggest a relatively linear relationship.\\nSignificant differences might indicate a stronger monotonic relationship captured by the coefficient closer to the extreme values (-1 or +1).\\nRemember, correlation doesn't imply causation. \""
      ]
     },
     "execution_count": 2,
     "metadata": {},
     "output_type": "execute_result"
    }
   ],
   "source": [
    "'''\n",
    "Calculating Correlation Coefficients:\n",
    "\n",
    "To assess the relationship between two variables, you can calculate either the Pearson correlation coefficient (r) or Spearman's rank correlation coefficient (ρ). Here's a breakdown of both methods:\n",
    "\n",
    "Pearson Correlation Coefficient (r):\n",
    "\n",
    "This method measures the linear relationship between two variables.\n",
    "\n",
    "Formula:\n",
    "\n",
    "r = ∑(Xi - X̅) * (Yi - Y̅) / √(∑(Xi - X̅)^2 * ∑(Yi - Y̅)^2)\n",
    "Explanation:\n",
    "\n",
    "Xi and Yi represent individual data points for variables X and Y, respectively.\n",
    "X̅ and Y̅ represent the means of variables X and Y, respectively.\n",
    "Spearman's Rank Correlation Coefficient (ρ):\n",
    "\n",
    "This method measures the monotonic relationship between two variables (whether the relationship increases or decreases together, not necessarily linearly).\n",
    "\n",
    "Formula:\n",
    "\n",
    "ρ = 1 - 6 * ∑di^2 / n(n^2 - 1)\n",
    "Explanation:\n",
    "\n",
    "di represents the difference between the ranks of the paired data points.\n",
    "n represents the number of data points.\n",
    "Example:\n",
    "\n",
    "Suppose you have data on exercise hours (X) and body mass index (BMI) (Y) for 50 participants. To calculate both coefficients:\n",
    "\n",
    "1. Pearson correlation coefficient (r):\n",
    "\n",
    "Use statistical software or online calculators to calculate r based on the formula and your data.\n",
    "2. Spearman's rank correlation coefficient (ρ):\n",
    "\n",
    "Rank both exercise hours and BMI data separately, assigning the same rank to tied values.\n",
    "Calculate the squared difference (di^2) between ranks for each participant.\n",
    "Sum the squared differences (∑di^2).\n",
    "Use the formula ρ = 1 - 6 * ∑di^2 / (n * (n^2 - 1)) to calculate ρ.\n",
    "3. Compare the results:\n",
    "\n",
    "Analyze both r and ρ to understand the relationship between exercise hours and BMI.\n",
    "Interpretation:\n",
    "Similar values of r and ρ suggest a relatively linear relationship.\n",
    "Significant differences might indicate a stronger monotonic relationship captured by the coefficient closer to the extreme values (-1 or +1).\n",
    "Remember, correlation doesn't imply causation. '''"
   ]
  },
  {
   "cell_type": "markdown",
   "id": "a1f68666-415a-4240-b876-7f7fa39476f1",
   "metadata": {},
   "source": [
    "## Q4. A researcher is interested in examining the relationship between the number of hours individuals spend watching television per day and their level of physical activity. The researcher collected data on both variables from a sample of 50 participants. Calculate the Pearson correlation coefficient between these two variables."
   ]
  },
  {
   "cell_type": "code",
   "execution_count": 3,
   "id": "43531c06-7c37-482a-aca6-ae7a185fdcb0",
   "metadata": {},
   "outputs": [
    {
     "data": {
      "text/plain": [
       "'\\n1. Gather Data:\\n\\nCollect data on the number of hours spent watching television per day (X) and level of physical activity (Y) for each of the 50 participants.\\n\\n2. Use Statistical Tools:\\n\\nInstead of manually calculating the coefficient, leverage statistical software or online calculators. Some options include:\\n\\nSpreadsheet software (like Excel): Use the PEARSON function.\\nStatistical online calculators: Search for \"Pearson correlation coefficient calculator\" and input your data.\\nProgramming libraries (like Python\\'s Pandas): Use libraries like pandas to calculate the coefficient.\\n3. Interpretation:\\n\\nThe calculated Pearson correlation coefficient (r) will range between -1 and +1:\\n\\nPositive value close to 1: Indicates a strong positive linear relationship. As TV watching hours increase, physical activity tends to decrease.\\nNegative value close to -1: Indicates a strong negative linear relationship. As TV watching hours increase, physical activity tends to increase.\\nValue close to 0: Indicates a weak or no linear relationship.\\nImportant Note:\\n\\nCorrelation doesn\\'t imply causation. Just because there\\'s a correlation (positive or negative) between TV watching and physical activity, it doesn\\'t necessarily mean that one causes the other.\\n'"
      ]
     },
     "execution_count": 3,
     "metadata": {},
     "output_type": "execute_result"
    }
   ],
   "source": [
    "'''\n",
    "1. Gather Data:\n",
    "\n",
    "Collect data on the number of hours spent watching television per day (X) and level of physical activity (Y) for each of the 50 participants.\n",
    "\n",
    "2. Use Statistical Tools:\n",
    "\n",
    "Instead of manually calculating the coefficient, leverage statistical software or online calculators. Some options include:\n",
    "\n",
    "Spreadsheet software (like Excel): Use the PEARSON function.\n",
    "Statistical online calculators: Search for \"Pearson correlation coefficient calculator\" and input your data.\n",
    "Programming libraries (like Python's Pandas): Use libraries like pandas to calculate the coefficient.\n",
    "3. Interpretation:\n",
    "\n",
    "The calculated Pearson correlation coefficient (r) will range between -1 and +1:\n",
    "\n",
    "Positive value close to 1: Indicates a strong positive linear relationship. As TV watching hours increase, physical activity tends to decrease.\n",
    "Negative value close to -1: Indicates a strong negative linear relationship. As TV watching hours increase, physical activity tends to increase.\n",
    "Value close to 0: Indicates a weak or no linear relationship.\n",
    "Important Note:\n",
    "\n",
    "Correlation doesn't imply causation. Just because there's a correlation (positive or negative) between TV watching and physical activity, it doesn't necessarily mean that one causes the other.\n",
    "'''"
   ]
  },
  {
   "cell_type": "markdown",
   "id": "57824e3f-5124-410e-8d45-fcb89b8367f7",
   "metadata": {},
   "source": [
    "## Q5. A survey was conducted to examine the relationship between age and preference for a particular brand of soft drink. The survey results are shown below:"
   ]
  },
  {
   "cell_type": "markdown",
   "id": "6903c4bc-9f61-4b2b-bc5a-35ad6e839240",
   "metadata": {},
   "source": [
    "Data limitations:\n",
    "\n",
    "The data provided is limited, with only 6 participants and no information about the sample selection process (random, convenience, etc.). This makes it difficult to draw any generalizable conclusions about the entire population.\n",
    "Observations:\n",
    "\n",
    "There are 3 preferred drinks: Coke, Pepsi, and Mountain Dew.\n",
    "The ages of the participants range from 19 to 42 years old.\n",
    "No clear pattern emerges between age and preference:\n",
    "Younger individuals (19 and 25) prefer Coke.\n",
    "An older individual (42) prefers Pepsi.\n",
    "Preferences for other drinks are spread across different age groups.\n",
    "Conclusion:\n",
    "\n",
    "With this limited data, it's impossible to determine a definitive relationship between age and soft drink preference. A larger, more representative sample and potentially additional information (e.g., gender, location) would be necessary to conduct a more meaningful analysis."
   ]
  },
  {
   "cell_type": "markdown",
   "id": "67ebde4c-b722-49e2-918f-2f487094ae6e",
   "metadata": {},
   "source": [
    "## Q6. A company is interested in examining the relationship between the number of sales calls made per day and the number of sales made per week. The company collected data on both variables from a sample of 30 sales representatives. Calculate the Pearson correlation coefficient between these two variables."
   ]
  },
  {
   "cell_type": "raw",
   "id": "3b289807-2156-4a5d-8d3c-b40a5ca81daf",
   "metadata": {},
   "source": []
  }
 ],
 "metadata": {
  "kernelspec": {
   "display_name": "Python 3 (ipykernel)",
   "language": "python",
   "name": "python3"
  },
  "language_info": {
   "codemirror_mode": {
    "name": "ipython",
    "version": 3
   },
   "file_extension": ".py",
   "mimetype": "text/x-python",
   "name": "python",
   "nbconvert_exporter": "python",
   "pygments_lexer": "ipython3",
   "version": "3.10.8"
  }
 },
 "nbformat": 4,
 "nbformat_minor": 5
}
