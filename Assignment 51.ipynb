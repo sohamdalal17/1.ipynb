{
 "cells": [
  {
   "cell_type": "markdown",
   "id": "960c6cef-646b-4353-a012-50ced5fe2d84",
   "metadata": {},
   "source": [
    "Q1. Explain the difference between linear regression and logistic regression models. Provide an example of\n",
    "a scenario where logistic regression would be more appropriate.\n",
    "\n",
    "Q2. What is the cost function used in logistic regression, and how is it optimized?\n",
    "\n",
    "Q3. Explain the concept of regularization in logistic regression and how it helps prevent overfitting.\n",
    "\n",
    "Q4. What is the ROC curve, and how is it used to evaluate the performance of the logistic regression\n",
    "model?\n",
    "\n",
    "Q5. What are some common techniques for feature selection in logistic regression? How do these\n",
    "techniques help improve the model's performance?\n",
    "\n",
    "Q6. How can you handle imbalanced datasets in logistic regression? What are some strategies for dealing\n",
    "with class imbalance?\n",
    "\n",
    "Q7. Can you discuss some common issues and challenges that may arise when implementing logistic\n",
    "regression, and how they can be addressed? For example, what can be done if there is multicollinearity\n",
    "among the independent variables?"
   ]
  },
  {
   "cell_type": "markdown",
   "id": "bdbe09cb-0907-4332-b54c-460d482251ab",
   "metadata": {},
   "source": [
    "## Answers"
   ]
  },
  {
   "cell_type": "markdown",
   "id": "b0cb311d-9290-400a-8f22-a69dda5a454e",
   "metadata": {},
   "source": [
    "Q1. Linear regression predicts continuous outcomes, while logistic regression predicts probabilities for binary outcomes. Logistic regression is more suitable for scenarios like predicting whether a customer will buy a product (yes/no).\n",
    "\n",
    "Q2. The cost function in logistic regression is the log-likelihood function, and optimization is typically done using gradient descent or other optimization algorithms.\n",
    "\n",
    "Q3. Regularization in logistic regression involves adding a penalty term to the cost function to prevent overfitting. It helps control the complexity of the model by penalizing large coefficients.\n",
    "\n",
    "Q4. The ROC curve (Receiver Operating Characteristic) is a graphical representation of the trade-off between true positive rate and false positive rate. It helps evaluate the performance of a logistic regression model in classification tasks.\n",
    "\n",
    "Q5. Common techniques for feature selection in logistic regression include forward or backward selection, L1 regularization (Lasso), and recursive feature elimination. These techniques help improve the model's performance by selecting the most relevant features.\n",
    "\n",
    "Q6. To handle imbalanced datasets in logistic regression, techniques include resampling (oversampling minority or undersampling majority class), using different evaluation metrics (precision, recall), or employing advanced methods like SMOTE (Synthetic Minority Over-sampling Technique).\n",
    "\n",
    "Q7. Common issues in logistic regression include multicollinearity, which can be addressed by removing correlated variables or using regularization. Other challenges include outliers, which may require robust methods or data transformation, and model interpretation, where caution is needed due to the nonlinear transformation of probabilities."
   ]
  }
 ],
 "metadata": {
  "kernelspec": {
   "display_name": "Python 3 (ipykernel)",
   "language": "python",
   "name": "python3"
  },
  "language_info": {
   "codemirror_mode": {
    "name": "ipython",
    "version": 3
   },
   "file_extension": ".py",
   "mimetype": "text/x-python",
   "name": "python",
   "nbconvert_exporter": "python",
   "pygments_lexer": "ipython3",
   "version": "3.10.8"
  }
 },
 "nbformat": 4,
 "nbformat_minor": 5
}
