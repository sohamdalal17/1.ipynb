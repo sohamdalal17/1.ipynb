{
 "cells": [
  {
   "cell_type": "markdown",
   "id": "9d446fa2-6bd9-464c-b7b6-1c6141f5944d",
   "metadata": {},
   "source": [
    "Q1. A company conducted a survey of its employees and found that 70% of the employees use the\n",
    "company's health insurance plan, while 40% of the employees who use the plan are smokers. What is the\n",
    "probability that an employee is a smoker given that he/she uses the health insurance plan?\n",
    "\n",
    "Q2. What is the difference between Bernoulli Naive Bayes and Multinomial Naive Bayes?\n",
    "\n",
    "Q3. How does Bernoulli Naive Bayes handle missing values?\n",
    "\n",
    "Q4. Can Gaussian Naive Bayes be used for multi-class classification?\n",
    "\n",
    "Q5. Assignment:\n",
    "\n",
    "Data preparation:\n",
    "Download the \"Spambase Data Set\" from the UCI Machine Learning Repository (https://archive.ics.uci.edu/ml/\n",
    "datasets/Spambase). This dataset contains email messages, where the goal is to predict whether a message\n",
    "is spam or not based on several input features.\n",
    "\n",
    "Implementation:\n",
    "\n",
    "Implement Bernoulli Naive Bayes, Multinomial Naive Bayes, and Gaussian Naive Bayes classifiers using the\n",
    "scikit-learn library in Python. Use 10-fold cross-validation to evaluate the performance of each classifier on the\n",
    "dataset. You should use the default hyperparameters for each classifier.\n",
    "\n",
    "Results:\n",
    "\n",
    "Report the following performance metrics for each classifier:\n",
    "Accuracy\n",
    "Precision\n",
    "Recall\n",
    "F1 score\n",
    "\n",
    "Discussion:\n",
    "\n",
    "Discuss the results you obtained. Which variant of Naive Bayes performed the best? Why do you think that is\n",
    "the case? Are there any limitations of Naive Bayes that you observed?\n",
    "\n",
    "Conclusion:\n",
    "Summarise your findings and provide some suggestions for future work."
   ]
  },
  {
   "cell_type": "markdown",
   "id": "320c6e40-3348-4ca4-9acd-86bd82946aa1",
   "metadata": {},
   "source": [
    "## Answers"
   ]
  },
  {
   "cell_type": "markdown",
   "id": "26efb6b2-576c-4aa9-818b-88901947fa11",
   "metadata": {},
   "source": [
    "Q1. Smoker Probability:\n",
    "\n",
    "This question uses Bayes' theorem. We need to find P(Smoker | Health Insurance), given P(Health Insurance) = 0.7 and P(Smoker | !Health Insurance) is unknown (not provided in the question). We don't have enough information to solve this completely.\n",
    "\n",
    "Q2. Bernoulli vs. Multinomial Naive Bayes:\n",
    "\n",
    "Bernoulli Naive Bayes: Assumes features are binary (e.g., presence or absence of a word in a document).\n",
    "\n",
    "Multinomial Naive Bayes: Assumes features have discrete values and represent counts (e.g., word frequency in a document).\n",
    "\n",
    "Q3. Missing Values in Bernoulli Naive Bayes:\n",
    "\n",
    "Common approaches:\n",
    "\n",
    "Imputation: Fill missing values with estimated values (e.g., mean or median).\n",
    "\n",
    "Smoothing: Adjust probabilities to account for missing values.\n",
    "\n",
    "Q4. Gaussian Naive Bayes for Multi-Class:\n",
    "\n",
    "Yes, with extensions:\n",
    "\n",
    "One-vs-Rest (OvR): Train separate models for each class vs. rest.\n",
    "\n",
    "Multinomial Naive Bayes with a multinomial distribution for each class."
   ]
  },
  {
   "cell_type": "markdown",
   "id": "abbda678-9fcd-4be7-ad7e-37c267f9e7d5",
   "metadata": {},
   "source": [
    "Q5. Naive Bayes Classifiers on Spambase:\n",
    "\n",
    "Data Preparation:\n",
    "\n",
    "Download the Spambase dataset from UCI Machine Learning Repository."
   ]
  },
  {
   "cell_type": "code",
   "execution_count": null,
   "id": "2f2e0aa2-d49e-423e-b57e-66f0656f1d2f",
   "metadata": {},
   "outputs": [],
   "source": [
    "#Implementation\n",
    "from sklearn.naive_bayes import BernoulliNB, MultinomialNB, GaussianNB\n",
    "from sklearn.model_selection import cross_val_score\n",
    "\n",
    "classifiers = [BernoulliNB(), MultinomialNB(), GaussianNB()]\n",
    "\n",
    "for clf in classifiers:\n",
    "    accuracy = cross_val_score(clf, X_train, y_train, scoring='accuracy', cv=10).mean()\n",
    "    precision = cross_val_score(clf, X_train, y_train, scoring='precision', cv=10).mean()\n",
    "    recall = cross_val_score(clf, X_train, y_train, scoring='recall', cv=10).mean()\n",
    "    f1_score = cross_val_score(clf, X_train, y_train, scoring='f1', cv=10).mean()\n",
    "    print(f\"\\nClassifier: {clf.__class__.__name__}\")\n",
    "    print(f\"Accuracy: {accuracy:.4f}\")\n",
    "    print(f\"Precision: {precision:.4f}\")\n",
    "    print(f\"Recall: {recall:.4f}\")\n",
    "    print(f\"F1-score: {f1_score:.4f}\")"
   ]
  },
  {
   "cell_type": "markdown",
   "id": "e8fc3da9-74f0-4e33-bdb7-c9c6ac3e39d0",
   "metadata": {},
   "source": [
    "Results:\n",
    "\n",
    "The output will vary based on specific data processing and the random seed used for cross-validation. However, you can compare the performance metrics (accuracy, precision, recall, F1-score) for each classifier."
   ]
  },
  {
   "cell_type": "markdown",
   "id": "ab5f8a8c-18e8-4888-8d4a-efd0d46b4af6",
   "metadata": {},
   "source": [
    "## Note : Provided link for the dataset on opening and downloading the zip folder for the dataset it does not include any dataset so i have not loaded the dataset and written the remaining code.  Kindly take note"
   ]
  },
  {
   "cell_type": "code",
   "execution_count": null,
   "id": "453df937-e562-4d1a-a134-b50d1bdaef37",
   "metadata": {},
   "outputs": [],
   "source": []
  }
 ],
 "metadata": {
  "kernelspec": {
   "display_name": "Python 3 (ipykernel)",
   "language": "python",
   "name": "python3"
  },
  "language_info": {
   "codemirror_mode": {
    "name": "ipython",
    "version": 3
   },
   "file_extension": ".py",
   "mimetype": "text/x-python",
   "name": "python",
   "nbconvert_exporter": "python",
   "pygments_lexer": "ipython3",
   "version": "3.10.8"
  }
 },
 "nbformat": 4,
 "nbformat_minor": 5
}
