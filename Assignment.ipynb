{
 "cells": [
  {
   "cell_type": "markdown",
   "id": "472c36eb-0679-4cf1-959e-afb146898cc9",
   "metadata": {},
   "source": [
    "Q1, Create a vehicle class with an init method having instance variables as name_of_vehicle, max_speed\n",
    "and average_of_vehicle."
   ]
  },
  {
   "cell_type": "code",
   "execution_count": 21,
   "id": "37e42fcc-ed88-4a8b-a165-20c63558c54d",
   "metadata": {},
   "outputs": [
    {
     "name": "stdout",
     "output_type": "stream",
     "text": [
      "Vehicle Name: Toyota Camry\n",
      "Maximum Speed: 200 km/h\n",
      "Average Speed: 80 km/h\n"
     ]
    }
   ],
   "source": [
    "class Vehicle:\n",
    "    def __init__(self, name_of_vehicle, max_speed, average_speed):\n",
    "        self.name_of_vehicle = name_of_vehicle\n",
    "        self.max_speed = max_speed\n",
    "        self.average_speed = average_speed\n",
    "\n",
    "    def vehicle_info(self):\n",
    "        return f\"Vehicle Name: {self.name_of_vehicle}\\nMaximum Speed: {self.max_speed} km/h\\nAverage Speed: {self.average_speed} km/h\"\n",
    "\n",
    "my_car =Vehicle(\"Toyota Camry\", 200, 80)\n",
    "print(my_car.vehicle_info())"
   ]
  },
  {
   "cell_type": "markdown",
   "id": "b2ec3cf1-2a16-4167-9985-5b73901a6758",
   "metadata": {},
   "source": [
    "Q2. Create a child class car from the vehicle class created in Que 1, which will inherit the vehicle class.\n",
    "Create a method named seating_capacity which takes capacity as an argument and returns the name of\n",
    "the vehicle and its seating capacity."
   ]
  },
  {
   "cell_type": "code",
   "execution_count": 22,
   "id": "acaf4056-52e3-48f4-9c99-320207bac4e9",
   "metadata": {},
   "outputs": [
    {
     "name": "stdout",
     "output_type": "stream",
     "text": [
      "Toyota Camry has a seating capacity of 5 passengers\n"
     ]
    }
   ],
   "source": [
    "# Child class\n",
    "class Car(Vehicle):\n",
    "    def __init__(self, name_of_vehicle, max_speed, average_speed, capacity):\n",
    "        super().__init__(name_of_vehicle, max_speed, average_speed)\n",
    "        self.capacity = capacity\n",
    "\n",
    "    def seating_capacity(self):\n",
    "        return f\"{self.name_of_vehicle} has a seating capacity of {self.capacity} passengers\"\n",
    "\n",
    "# Create an instance of the Car class\n",
    "my_car = Car(\"Toyota Camry\", 200, 80, 5)\n",
    "print(my_car.seating_capacity())"
   ]
  },
  {
   "cell_type": "markdown",
   "id": "24b602b5-6bc0-4d48-9516-b195bffc44c8",
   "metadata": {},
   "source": [
    "Q3. What is multiple inheritance? Write a python code to demonstrate multiple inheritance."
   ]
  },
  {
   "cell_type": "markdown",
   "id": "50907837-6d17-4548-8f6f-4e78b77b35f9",
   "metadata": {},
   "source": [
    "When a class is derived from more than one base class it is called multiple Inheritance. The derived class inherits all the features of the base case."
   ]
  },
  {
   "cell_type": "code",
   "execution_count": 23,
   "id": "d8553421-5396-4109-ac3a-5d9f95514388",
   "metadata": {},
   "outputs": [
    {
     "name": "stdout",
     "output_type": "stream",
     "text": [
      "In Class2\n"
     ]
    }
   ],
   "source": [
    "class Class1:\n",
    "\tdef m(self):\n",
    "\t\tprint(\"In Class1\")\n",
    "\t\n",
    "class Class2(Class1):\n",
    "\tdef m(self):\n",
    "\t\tprint(\"In Class2\")\n",
    "\n",
    "class Class3(Class1):\n",
    "\tdef m(self):\n",
    "\t\tprint(\"In Class3\")\n",
    "\t\t\n",
    "class Class4(Class2, Class3):\n",
    "\tpass\n",
    "\t\n",
    "obj = Class4()\n",
    "obj.m()"
   ]
  },
  {
   "cell_type": "markdown",
   "id": "458b934d-fec6-4052-839e-c1c817a04869",
   "metadata": {},
   "source": [
    "Q4. What are getter and setter in python? Create a class and create a getter and a setter method in this\n",
    "class."
   ]
  },
  {
   "cell_type": "markdown",
   "id": "717e6f72-e23a-43c9-8d98-140ae68de228",
   "metadata": {},
   "source": [
    "Getters are the methods that are used in Object-Oriented Programming (OOPS) to access a class's private attributes. The setattr() function in Python corresponds to the getattr() function in Python. It alters an object's attribute values.\n"
   ]
  },
  {
   "cell_type": "markdown",
   "id": "57fa05ab-1615-4c64-9a18-36a21439dc48",
   "metadata": {},
   "source": [
    "The setter is a method that is used to set the property's value. It is very useful in object-oriented programming to set the value of private attributes in a class."
   ]
  },
  {
   "cell_type": "code",
   "execution_count": 24,
   "id": "7dfdd221-c843-4693-9a3c-7cb7d476ace8",
   "metadata": {},
   "outputs": [
    {
     "name": "stdout",
     "output_type": "stream",
     "text": [
      "19\n",
      "19\n"
     ]
    }
   ],
   "source": [
    "class Javatpoint:   \n",
    "    def __init__(self, age = 0):   \n",
    "         self._age = age   \n",
    "        \n",
    "    def get_age(self):   \n",
    "        return self._age   \n",
    "        \n",
    "    def set_age(self, a):   \n",
    "        self._age = a   \n",
    "    \n",
    "John = Javatpoint()   \n",
    "    \n",
    "  \n",
    "John.set_age(19)   \n",
    "    \n",
    " \n",
    "print(John.get_age())   \n",
    "    \n",
    "print(John._age)  "
   ]
  },
  {
   "cell_type": "markdown",
   "id": "32cf575a-ed37-4ef3-871f-f56e338ee054",
   "metadata": {},
   "source": [
    "Q5.What is method overriding in python? Write a python code to demonstrate method overriding."
   ]
  },
  {
   "cell_type": "code",
   "execution_count": null,
   "id": "95577bd1-885d-4aa6-8a58-3a9f4ca9deae",
   "metadata": {},
   "outputs": [],
   "source": []
  }
 ],
 "metadata": {
  "kernelspec": {
   "display_name": "Python 3 (ipykernel)",
   "language": "python",
   "name": "python3"
  },
  "language_info": {
   "codemirror_mode": {
    "name": "ipython",
    "version": 3
   },
   "file_extension": ".py",
   "mimetype": "text/x-python",
   "name": "python",
   "nbconvert_exporter": "python",
   "pygments_lexer": "ipython3",
   "version": "3.10.8"
  }
 },
 "nbformat": 4,
 "nbformat_minor": 5
}
