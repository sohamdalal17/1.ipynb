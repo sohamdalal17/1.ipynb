{
 "cells": [
  {
   "cell_type": "markdown",
   "id": "7336a644-cd52-4e70-8dc6-d258cbbb035a",
   "metadata": {},
   "source": [
    "Q1. What is multiprocessing in python? Why is it useful?"
   ]
  },
  {
   "cell_type": "markdown",
   "id": "0720f814-8bc3-4b4a-8f33-299ce29c8e56",
   "metadata": {},
   "source": [
    "Multiprocessing refers to the ability of a system to support more than one processor at the same time. In Python, the multiprocessing module includes a very simple and intuitive API for dividing work between multiple processes.\n",
    "Multiprocessing is essential to perform the multiple tasks within the Computer system.Therefore, multiprocessing is essential to perform several task at the same time without interruption."
   ]
  },
  {
   "cell_type": "markdown",
   "id": "da7484b6-cec0-44d0-a16d-75435283585d",
   "metadata": {},
   "source": [
    "Q2. What are the differences between multiprocessing and multithreading?"
   ]
  },
  {
   "cell_type": "markdown",
   "id": "423cc907-4ce5-46ec-bca6-55eed8c470a2",
   "metadata": {},
   "source": [
    "1. Multiprocessing : In Multiprocessing, Many processes are executed simultaneously.\n",
    "                     Process creation is a time-consuming process.\n",
    "                     Every process owned a separate address space.\n",
    "                     Requires large number of resources.\n",
    "\n",
    "2. Multithreading : In multithreading, many threads of a process are executed simultaneously.\n",
    "                    Process creation is according to economical.\n",
    "                    A common address space is shared by all the threads.\n",
    "                    Requires few resources to create."
   ]
  },
  {
   "cell_type": "markdown",
   "id": "e6d9719b-de5c-4a3a-adbb-0cad0d9edd31",
   "metadata": {},
   "source": [
    "Q3. Write a python code to create a process using the multiprocessing module."
   ]
  },
  {
   "cell_type": "code",
   "execution_count": 1,
   "id": "ca3c1234-1675-4e37-bb28-456e30d48704",
   "metadata": {},
   "outputs": [
    {
     "name": "stdout",
     "output_type": "stream",
     "text": [
      "The square of 5 is 25\n"
     ]
    }
   ],
   "source": [
    "import multiprocessing\n",
    "\n",
    "def calculate_square(number):\n",
    "    result = number ** 2\n",
    "    print(f\"The square of {number} is {result}\")\n",
    "\n",
    "if __name__ == \"__main__\":\n",
    "   \n",
    "    process = multiprocessing.Process(target=calculate_square, args=(5,))\n",
    "    \n",
    "    process.start()"
   ]
  },
  {
   "cell_type": "markdown",
   "id": "b3622215-6167-4eb0-8fd0-a79a234b0dc3",
   "metadata": {},
   "source": [
    "Q4. What is a multiprocessing pool in python? Why is it used?"
   ]
  },
  {
   "cell_type": "markdown",
   "id": "e81bf29c-66d0-4af8-a14d-c3817f4f6c37",
   "metadata": {},
   "source": [
    " A multiprocessing pool is a high-level abstraction provided by the multiprocessing module for parallel processing. It is used to manage a pool of worker processes, allowing you to distribute tasks to these processes efficiently. "
   ]
  },
  {
   "cell_type": "markdown",
   "id": "12b8bb5f-3ccb-4fe6-95c3-bb8274233fb3",
   "metadata": {},
   "source": [
    "Q5. How can we create a pool of worker processes in python using the multiprocessing module?"
   ]
  },
  {
   "cell_type": "markdown",
   "id": "1feca3b6-2f27-4548-a374-7b9f51c7399c",
   "metadata": {},
   "source": [
    "To create a pool of worker processes in Python using the multiprocessing module, you can use the Pool class from the module. The Pool class provides a convenient way to parallelize the execution of a function across multiple processes.\n",
    "We can configure the number of worker processes in the multiprocessing.pool.Pool by setting the processes argument in the constructor."
   ]
  },
  {
   "cell_type": "code",
   "execution_count": null,
   "id": "3d39186e-f3ed-4723-af58-424381e4972a",
   "metadata": {},
   "outputs": [],
   "source": []
  }
 ],
 "metadata": {
  "kernelspec": {
   "display_name": "Python 3 (ipykernel)",
   "language": "python",
   "name": "python3"
  },
  "language_info": {
   "codemirror_mode": {
    "name": "ipython",
    "version": 3
   },
   "file_extension": ".py",
   "mimetype": "text/x-python",
   "name": "python",
   "nbconvert_exporter": "python",
   "pygments_lexer": "ipython3",
   "version": "3.10.8"
  }
 },
 "nbformat": 4,
 "nbformat_minor": 5
}
