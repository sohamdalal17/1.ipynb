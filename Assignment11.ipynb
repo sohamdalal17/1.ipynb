{
 "cells": [
  {
   "cell_type": "markdown",
   "id": "70ba7d43-14b9-49e1-8402-c16147861f87",
   "metadata": {},
   "source": [
    "Q1. What is a database? Differentiate between SQL and NoSQL databases."
   ]
  },
  {
   "cell_type": "markdown",
   "id": "694ca4e5-74a9-43b6-9adf-adcb33c866ca",
   "metadata": {},
   "source": [
    "Database : A database is a systematic or organized collection of related information that is stored electronically in a computer system in              such a way that it can be easily accessed, retrieved, managed, and updated. \n",
    "\n",
    "SQL Databases :   1.SQL databases define and manipulate data-based structured query language (SQL)\n",
    "                  2.SQL databases are primarily called Relational Databases (RDBMS)\n",
    "                  3.SQL databases are table-based\n",
    "                  4.SQL is a good choice when working with related data\n",
    "                  5.Examples: MySQL, PostgreSQL, Oracle, MS-SQL Server, etc.\n",
    "\n",
    "NoSQL Databases : 1.Not Only SQL\n",
    "                  2.NoSQL databases are primarily called non-relational or distributed databases\n",
    "                  3.NoSQL databases are either key-value pairs, document-based, graph databases, or wide-column stores\n",
    "                  4.NoSQL is also a wise choice when dealing with large or constantly changing data sets, flexible data models, or                               requirements that don’t fit into a relational model\n",
    "                  5.Examples: MongoDB, GraphQL, HBase, Neo4j, Cassandra, etc."
   ]
  },
  {
   "cell_type": "markdown",
   "id": "cb3c3673-3130-4eb7-b642-d218c69cb1da",
   "metadata": {},
   "source": [
    "Q2. What is DDL? Explain why CREATE, DROP, ALTER, and TRUNCATE are used with an example."
   ]
  },
  {
   "cell_type": "markdown",
   "id": "01314150-181c-492a-a18c-63be982dd5c7",
   "metadata": {},
   "source": [
    "DDL : Data Definition Language(DDL) is a subset of SQL and a part of DBMS(Database Management System). DDL consist of Commands to commands         like CREATE, ALTER, TRUNCATE and DROP. These commands are used to create or modify the tables in SQL.\n",
    "\n",
    "1. CREATE : It is used to create a new database(table).\n",
    "\n",
    "e.g. \n",
    "CREATE TABLE Student_info\n",
    "(\n",
    "College_Id number(2),\n",
    "College_name varchar(30),\n",
    "Branch varchar(10)\n",
    ");\n",
    "\n",
    "This will create a table with columns College_Id,College_name and Branch.\n",
    "\n",
    "2. DROP : This command is used to remove an existing table along with its structure from the Database.\n",
    "\n",
    "e.g. DROP TABLE Student_info;\n",
    "\n",
    "This will drop the entire Student_info table.\n",
    "\n",
    "3. ALTER : This command is used to add, delete or change columns in the existing table.\n",
    "\n",
    "e.g. \n",
    "ALTER TABLE Student_info\n",
    "ADD CGPA number;\n",
    "\n",
    "This will add CGPA number to the Student_info table.\n",
    "\n",
    "4. TRUNCATE : This command is used to remove all rows from the table, but the structure of the table still exists.\n",
    "\n",
    "e.g.\n",
    "TRUNCATE TABLE Student_info;\n",
    "\n",
    "This will remove all the data from the Student_info table."
   ]
  },
  {
   "cell_type": "markdown",
   "id": "3fcf846a-553c-42d0-ad33-71d40effe644",
   "metadata": {},
   "source": [
    "Q3. What is DML? Explain INSERT, UPDATE, and DELETE with an example."
   ]
  },
  {
   "cell_type": "markdown",
   "id": "17376a59-2f6d-40c4-8478-48c02780817c",
   "metadata": {},
   "source": [
    "DML : DML stands for Data Manipulation Language. DML is a way to inform a database precisely what we want it to do by conversing in a manner       that it has been built to comprehend from scratch.\n",
    "\n",
    "1. INSERT :  This command is used to enter the information or values into a row.\n",
    "\n",
    "e.g.\n",
    "INSERT INTO students ('stu_id' int, 'stu_name' varchar(20), 'city' varchar(20))\n",
    "VALUES ('1', 'Nirmit', 'Gorakhpur'); \n",
    "\n",
    "This will insert these values in the particular columns of the students table.\n",
    "\n",
    "2. UPDATE : This command is used to alter existing table records. Within a table, it modifies data from one or more records.\n",
    "\n",
    "e.g.\n",
    "UPDATE students\n",
    "SET due_fees = 20000\n",
    "WHERE stu_name = 'Mini'; \n",
    "\n",
    "It will update the rows of due_fees column where student name is 'Mini' in student table.\n",
    "\n",
    "3. DELETE : It deletes all archives from a table.\n",
    "\n",
    "e.g.\n",
    "DELETE FROM students\n",
    "WHERE stu_id = '001'; \n",
    "\n",
    "It will delete rows in students where student id is '001'."
   ]
  },
  {
   "cell_type": "markdown",
   "id": "05f89504-8565-410a-b91a-c5ed25023bb9",
   "metadata": {},
   "source": [
    "Q4. What is DQL? Explain SELECT with an example."
   ]
  },
  {
   "cell_type": "markdown",
   "id": "663eefd4-dab1-41f7-a640-4f2904eb1d9c",
   "metadata": {},
   "source": [
    "DQL : DQL statements are used for performing queries on the data within schema objects. The purpose of the DQL Command is to get some schema       relation based on the query passed to it.\n",
    "\n",
    "SELECT: It is used to retrieve data from the database.\n",
    "\n",
    "e.g. SELECT * FROM table_name;  "
   ]
  },
  {
   "cell_type": "markdown",
   "id": "b56a0325-22bd-4846-9f37-8f986f44e047",
   "metadata": {},
   "source": [
    "Q5. Explain Primary Key and Foreign Key."
   ]
  },
  {
   "cell_type": "markdown",
   "id": "64fa19fc-01fa-40c8-9f73-433c0c776cfe",
   "metadata": {},
   "source": [
    "Primary Key : A column or columns is called PRIMARY KEY that uniquely identifies each row in the table.\n",
    "              If you want to create a primary key, you should define a PRIMARY KEY constraint when you create or modify a table.\n",
    "            \n",
    "Foreign key : A foreign key is a column or group of columns in a relational database table that provides a link between data in two tables.               It is a column (or columns) that references a column (most often the primary key) of another table."
   ]
  },
  {
   "cell_type": "markdown",
   "id": "3395e3b7-3b6f-4e65-b2c2-f1762044f20a",
   "metadata": {},
   "source": [
    "Q6. Write a python code to connect MySQL to python. Explain the cursor() and execute() method."
   ]
  },
  {
   "cell_type": "code",
   "execution_count": null,
   "id": "5a74a09f-32c4-482d-9644-3c7d672a9df6",
   "metadata": {},
   "outputs": [],
   "source": [
    "import mysql.connector\n",
    "mydb = mysql.connector.connect(\n",
    "  host=\"localhost\",\n",
    "  user=\"abc\",\n",
    "  password=\"password\"\n",
    ")\n",
    "print(mydb)\n",
    "mycursor = mydb.cursor()\n",
    "mycursor.execute(\"SHOW DATABASES\")\n",
    "for x in mycursor:\n",
    "  print(x)"
   ]
  },
  {
   "cell_type": "markdown",
   "id": "1c9b3513-5d2c-43ab-94ee-512da5773c69",
   "metadata": {},
   "source": [
    "cursor() : The cursor() method is used to create a cursor object that allows you to interact with the database. A cursor is like a pointer              or handle to the result set of a query. \n",
    "\n",
    "execute() : The execute() method is used to execute an SQL query on the database using the cursor object."
   ]
  },
  {
   "cell_type": "markdown",
   "id": "532051c6-b86c-4e99-90dc-300fea9e0470",
   "metadata": {},
   "source": [
    "Q7. Give the order of execution of SQL clauses in an SQL query."
   ]
  },
  {
   "cell_type": "markdown",
   "id": "5d09a0aa-6496-4add-8d4c-544d94b8c11c",
   "metadata": {},
   "source": [
    "1. FROM\n",
    "2. JOIN \n",
    "3. WHERE\n",
    "4. GROUP BY\n",
    "5. HAVING\n",
    "6. SELECT\n",
    "7. DISTINCT\n",
    "8. ORDER BY\n",
    "9. LIMIT"
   ]
  }
 ],
 "metadata": {
  "kernelspec": {
   "display_name": "Python 3 (ipykernel)",
   "language": "python",
   "name": "python3"
  },
  "language_info": {
   "codemirror_mode": {
    "name": "ipython",
    "version": 3
   },
   "file_extension": ".py",
   "mimetype": "text/x-python",
   "name": "python",
   "nbconvert_exporter": "python",
   "pygments_lexer": "ipython3",
   "version": "3.10.8"
  }
 },
 "nbformat": 4,
 "nbformat_minor": 5
}
