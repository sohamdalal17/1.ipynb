{
 "cells": [
  {
   "cell_type": "markdown",
   "id": "e3636cce-0692-4c6f-add8-2e632fe5bd9e",
   "metadata": {},
   "source": [
    "Q1. Explain Class and Object with respect to Object-Oriented Programming. Give a suitable example."
   ]
  },
  {
   "cell_type": "raw",
   "id": "3528865a-cad6-4f3d-842b-a7c3af2f81db",
   "metadata": {},
   "source": [
    "CLass : It is a user defined data type . Class has its own data members and method, we can create many objects from a class.\n",
    "\n",
    "Object : It is instance of a class . It is used to access data members and methods.\n",
    "        "
   ]
  },
  {
   "cell_type": "code",
   "execution_count": 8,
   "id": "d893df32-d0b2-4637-b30a-d5be5dc46021",
   "metadata": {},
   "outputs": [],
   "source": [
    "# example of creating class\n",
    "class MyClass:\n",
    "  x = 5"
   ]
  },
  {
   "cell_type": "code",
   "execution_count": 9,
   "id": "5487f074-b17a-49a9-8300-32e0e20ec21f",
   "metadata": {},
   "outputs": [
    {
     "name": "stdout",
     "output_type": "stream",
     "text": [
      "5\n"
     ]
    }
   ],
   "source": [
    "# example of creating object\n",
    "p1 = MyClass()\n",
    "print(p1.x)"
   ]
  },
  {
   "cell_type": "code",
   "execution_count": 7,
   "id": "ac8bd564-e5c5-42d7-866d-bc553211fadc",
   "metadata": {},
   "outputs": [
    {
     "name": "stdout",
     "output_type": "stream",
     "text": [
      "John\n",
      "36\n"
     ]
    }
   ],
   "source": [
    "class Person:\n",
    "  def __init__(self, name, age):\n",
    "    self.name = name\n",
    "    self.age = age\n",
    "\n",
    "p1 = Person(\"John\", 36)\n",
    "\n",
    "print(p1.name)\n",
    "print(p1.age)"
   ]
  },
  {
   "cell_type": "markdown",
   "id": "5291c385-e48f-4a1f-8b9f-ec79ccb7b0e5",
   "metadata": {},
   "source": [
    "Q2. Name the four pillars of OOPs."
   ]
  },
  {
   "cell_type": "markdown",
   "id": "89de2a0c-488c-4690-822b-fe4052afdbcd",
   "metadata": {},
   "source": [
    "The four pillars of OOPs are :\n",
    "Polymorphism\n",
    "Encapsulation\n",
    "Inheritance\n",
    "Abstraction"
   ]
  },
  {
   "cell_type": "markdown",
   "id": "29959658-e0fa-4d49-931e-162d73b9f44f",
   "metadata": {},
   "source": [
    "Q3. Explain why the __init__() function is used. Give a suitable example."
   ]
  },
  {
   "cell_type": "markdown",
   "id": "ceebb213-029d-447a-ab75-7767f1b56575",
   "metadata": {},
   "source": [
    "The init() function is used to initialize instance variable of an object.\n",
    "It runs as soon as object is created."
   ]
  },
  {
   "cell_type": "code",
   "execution_count": 12,
   "id": "7146c4e0-5e79-4086-897e-2e9cbe24807c",
   "metadata": {},
   "outputs": [
    {
     "name": "stdout",
     "output_type": "stream",
     "text": [
      "Hello, my name is Nikhil\n"
     ]
    }
   ],
   "source": [
    "class Person:\n",
    "\n",
    "\tdef __init__(self, name):\n",
    "\t\tself.name = name\n",
    "\n",
    "\t\n",
    "\tdef say_hi(self):\n",
    "\t\tprint('Hello, my name is', self.name)\n",
    "\n",
    "\n",
    "p = Person('Nikhil')\n",
    "p.say_hi()\n"
   ]
  },
  {
   "cell_type": "markdown",
   "id": "afb56f76-9ab0-430a-92ce-8cd26c7db4b8",
   "metadata": {},
   "source": [
    "Q4. Why self is used in OOPs?"
   ]
  },
  {
   "cell_type": "markdown",
   "id": "4cc7ee67-1573-4856-823e-344315ac6b48",
   "metadata": {},
   "source": [
    "Self represents the instance of the class. By using the “self”  we can access the attributes and methods of the class in Python. It binds the attributes with the given arguments.Python does not use the @ syntax to refer to instance attributes."
   ]
  },
  {
   "cell_type": "markdown",
   "id": "871fb7b8-ff6d-483d-bfd7-0273f6b7c45e",
   "metadata": {},
   "source": [
    "Q5. What is inheritance? Give an example for each type of inheritance."
   ]
  },
  {
   "cell_type": "markdown",
   "id": "8adf08da-1015-4ae3-8aed-719065954a49",
   "metadata": {},
   "source": [
    "Inheritance is defined as the mechanism of inheriting the properties of the base class to the child class. "
   ]
  },
  {
   "cell_type": "code",
   "execution_count": 14,
   "id": "6752d22b-a36c-4d5d-9822-75c208103c55",
   "metadata": {},
   "outputs": [
    {
     "name": "stdout",
     "output_type": "stream",
     "text": [
      "This function is in parent class.\n",
      "This function is in child class.\n"
     ]
    }
   ],
   "source": [
    "#Single Inheritance\n",
    "class Parent:\n",
    "\tdef func1(self):\n",
    "\t\tprint(\"This function is in parent class.\")\n",
    "\n",
    "class Child(Parent):\n",
    "\tdef func2(self):\n",
    "\t\tprint(\"This function is in child class.\")\n",
    "        \n",
    "object = Child()\n",
    "object.func1()\n",
    "object.func2()"
   ]
  },
  {
   "cell_type": "code",
   "execution_count": 15,
   "id": "863554d1-5435-4424-b342-fdce8e6c8b40",
   "metadata": {},
   "outputs": [
    {
     "name": "stdout",
     "output_type": "stream",
     "text": [
      "Father : RAM\n",
      "Mother : SITA\n"
     ]
    }
   ],
   "source": [
    "#Multilevel Inheritance\n",
    "class Mother:\n",
    "\tmothername = \"\"\n",
    "\n",
    "\tdef mother(self):\n",
    "\t\tprint(self.mothername)\n",
    "\n",
    "class Father:\n",
    "\tfathername = \"\"\n",
    "\n",
    "\tdef father(self):\n",
    "\t\tprint(self.fathername)\n",
    "\n",
    "class Son(Mother, Father):\n",
    "\tdef parents(self):\n",
    "\t\tprint(\"Father :\", self.fathername)\n",
    "\t\tprint(\"Mother :\", self.mothername)\n",
    "\n",
    "s1 = Son()\n",
    "s1.fathername = \"RAM\"\n",
    "s1.mothername = \"SITA\"\n",
    "s1.parents()"
   ]
  },
  {
   "cell_type": "code",
   "execution_count": null,
   "id": "23a4cc00-a2f0-4205-9ff1-2190d57fb0fb",
   "metadata": {},
   "outputs": [],
   "source": []
  }
 ],
 "metadata": {
  "kernelspec": {
   "display_name": "Python 3 (ipykernel)",
   "language": "python",
   "name": "python3"
  },
  "language_info": {
   "codemirror_mode": {
    "name": "ipython",
    "version": 3
   },
   "file_extension": ".py",
   "mimetype": "text/x-python",
   "name": "python",
   "nbconvert_exporter": "python",
   "pygments_lexer": "ipython3",
   "version": "3.10.8"
  }
 },
 "nbformat": 4,
 "nbformat_minor": 5
}
