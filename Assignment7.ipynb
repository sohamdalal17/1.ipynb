{
 "cells": [
  {
   "cell_type": "markdown",
   "id": "6640e87b-b617-46f0-8d40-f541fdc9e1af",
   "metadata": {},
   "source": [
    "Q1. What is an Exception in python? Write the difference between Exceptions and Syntax errors."
   ]
  },
  {
   "cell_type": "markdown",
   "id": "56f81f7c-e012-426a-b94b-77de5918f951",
   "metadata": {},
   "source": [
    "When in the runtime an error that occurs after passing the syntax test is called exception. Syntax Errors are the problems in a program due to which the program will stop the execution. On the other hand, exceptions are raised when some internal events occur which changes the normal flow of the program."
   ]
  },
  {
   "cell_type": "markdown",
   "id": "ba2ad236-8725-445f-83f8-e24578b02fae",
   "metadata": {},
   "source": [
    "Q2. What happens when an exception is not handled in python? explain with an example."
   ]
  },
  {
   "cell_type": "markdown",
   "id": "84c314af-409a-431d-90c5-53cc2c7cd21c",
   "metadata": {},
   "source": [
    "When an exception is not handled in a Python program, the program terminates abruptly with an error."
   ]
  },
  {
   "cell_type": "code",
   "execution_count": 3,
   "id": "f2abac8a-c0a8-4b8f-bf5b-e18daece10cf",
   "metadata": {},
   "outputs": [
    {
     "ename": "ZeroDivisionError",
     "evalue": "division by zero",
     "output_type": "error",
     "traceback": [
      "\u001b[0;31m---------------------------------------------------------------------------\u001b[0m",
      "\u001b[0;31mZeroDivisionError\u001b[0m                         Traceback (most recent call last)",
      "Cell \u001b[0;32mIn[3], line 4\u001b[0m\n\u001b[1;32m      1\u001b[0m \u001b[38;5;28;01mdef\u001b[39;00m \u001b[38;5;21mdivide\u001b[39m(a, b):\n\u001b[1;32m      2\u001b[0m     \u001b[38;5;28;01mreturn\u001b[39;00m a \u001b[38;5;241m/\u001b[39m b\n\u001b[0;32m----> 4\u001b[0m result \u001b[38;5;241m=\u001b[39m \u001b[43mdivide\u001b[49m\u001b[43m(\u001b[49m\u001b[38;5;241;43m10\u001b[39;49m\u001b[43m,\u001b[49m\u001b[43m \u001b[49m\u001b[38;5;241;43m0\u001b[39;49m\u001b[43m)\u001b[49m\n\u001b[1;32m      5\u001b[0m \u001b[38;5;28mprint\u001b[39m(result)\n",
      "Cell \u001b[0;32mIn[3], line 2\u001b[0m, in \u001b[0;36mdivide\u001b[0;34m(a, b)\u001b[0m\n\u001b[1;32m      1\u001b[0m \u001b[38;5;28;01mdef\u001b[39;00m \u001b[38;5;21mdivide\u001b[39m(a, b):\n\u001b[0;32m----> 2\u001b[0m     \u001b[38;5;28;01mreturn\u001b[39;00m \u001b[43ma\u001b[49m\u001b[43m \u001b[49m\u001b[38;5;241;43m/\u001b[39;49m\u001b[43m \u001b[49m\u001b[43mb\u001b[49m\n",
      "\u001b[0;31mZeroDivisionError\u001b[0m: division by zero"
     ]
    }
   ],
   "source": [
    "def divide(a, b):\n",
    "    return a / b\n",
    "\n",
    "result = divide(10, 0)\n",
    "print(result)\n"
   ]
  },
  {
   "cell_type": "markdown",
   "id": "695d670a-b161-4d42-8835-89bd7acae1f2",
   "metadata": {},
   "source": [
    "Q3. Which Python statements are used to catch and handle exceptions? Explain with an example."
   ]
  },
  {
   "cell_type": "markdown",
   "id": "e8ac9756-9f66-47ee-934b-e10bbed81807",
   "metadata": {},
   "source": [
    "The different python statements that are used to catch and handle exceptions are"
   ]
  },
  {
   "cell_type": "markdown",
   "id": "8802d015-357c-411b-9dda-f0d0fdeb0ff0",
   "metadata": {},
   "source": [
    "Try and Except handling"
   ]
  },
  {
   "cell_type": "code",
   "execution_count": 5,
   "id": "ac59ca48-4089-4460-a123-4759297ec223",
   "metadata": {},
   "outputs": [
    {
     "name": "stdout",
     "output_type": "stream",
     "text": [
      "Second element = 2\n",
      "An error occurred\n"
     ]
    }
   ],
   "source": [
    "a = [1, 2, 3]\n",
    "try:\n",
    "\tprint (\"Second element = %d\" %(a[1]))\n",
    "\n",
    "\tprint (\"Fourth element = %d\" %(a[3]))\n",
    "\n",
    "except:\n",
    "\tprint (\"An error occurred\")"
   ]
  },
  {
   "cell_type": "markdown",
   "id": "519a9ecd-8146-476e-aaf4-9b83e78239b2",
   "metadata": {},
   "source": [
    "Custom exception handling"
   ]
  },
  {
   "cell_type": "code",
   "execution_count": 8,
   "id": "5710f947-3590-463f-b7f7-0ed9cefcd39f",
   "metadata": {},
   "outputs": [
    {
     "name": "stdin",
     "output_type": "stream",
     "text": [
      "enter your age -2234\n"
     ]
    }
   ],
   "source": [
    "age = int(input(\"enter your age\"))"
   ]
  },
  {
   "cell_type": "code",
   "execution_count": 9,
   "id": "933b3fde-10d4-42c4-a225-4206efee0d15",
   "metadata": {},
   "outputs": [],
   "source": [
    "class validateage(Exception) : \n",
    "    def __init__(self, msg) :\n",
    "        self.msg = msg"
   ]
  },
  {
   "cell_type": "code",
   "execution_count": 10,
   "id": "1d2e0e7e-b3a0-4297-ad47-c966216a106a",
   "metadata": {},
   "outputs": [],
   "source": [
    "def validate_age(age) : \n",
    "    if age < 0 : \n",
    "        raise validateage(\"age should not be lesser then zero \" )\n",
    "    elif age > 200 : \n",
    "        raise validateage(\"age is too high \" )\n",
    "        \n",
    "    else :\n",
    "        print(\"age is valid\" )"
   ]
  },
  {
   "cell_type": "code",
   "execution_count": 11,
   "id": "e24c0cbf-1fb8-4df3-b072-f7899c42cd44",
   "metadata": {},
   "outputs": [
    {
     "name": "stdin",
     "output_type": "stream",
     "text": [
      "enter your age -2234\n"
     ]
    },
    {
     "name": "stdout",
     "output_type": "stream",
     "text": [
      "age should not be lesser then zero \n"
     ]
    }
   ],
   "source": [
    "try : \n",
    "    age = int(input(\"enter your age\"))\n",
    "    validate_age(age)\n",
    "except validateage as e : \n",
    "    print(e)"
   ]
  },
  {
   "cell_type": "raw",
   "id": "9335ecdb-ec82-449b-bfbf-cb6ccd7b2d99",
   "metadata": {},
   "source": [
    "Q4. Explain with an example:\n",
    "\n",
    "a.try and else\n",
    "b.finally\n",
    "c.raise"
   ]
  },
  {
   "cell_type": "markdown",
   "id": "a3dac413-2d48-4956-9842-8361d4137aa7",
   "metadata": {},
   "source": [
    "Try and else : The code enters the else block only if the try clause does not raise an exception."
   ]
  },
  {
   "cell_type": "code",
   "execution_count": 13,
   "id": "93732ab6-458a-4f7e-80a1-601390cd8744",
   "metadata": {},
   "outputs": [
    {
     "name": "stdout",
     "output_type": "stream",
     "text": [
      "Yeah ! Your answer is : 1\n",
      "Sorry ! You are dividing by zero \n"
     ]
    }
   ],
   "source": [
    "def divide(x, y):\n",
    "\ttry:\n",
    "        \n",
    "\t\tresult = x // y\n",
    "\texcept ZeroDivisionError:\n",
    "\t\tprint(\"Sorry ! You are dividing by zero \")\n",
    "\telse:\n",
    "\t\tprint(\"Yeah ! Your answer is :\", result)\n",
    "\n",
    "divide(3, 2)\n",
    "divide(3, 0)"
   ]
  },
  {
   "cell_type": "markdown",
   "id": "2ca7b570-5fa9-45f6-8d50-8c1a8e205c4a",
   "metadata": {},
   "source": [
    "Finally : It will try to execute itself always"
   ]
  },
  {
   "cell_type": "code",
   "execution_count": 15,
   "id": "39db17df-3f05-41d5-b9b1-20c65ff49af6",
   "metadata": {},
   "outputs": [
    {
     "name": "stdout",
     "output_type": "stream",
     "text": [
      "Yeah ! Your answer is : 1\n",
      "This is always executed\n",
      "Sorry ! You are dividing by zero \n",
      "This is always executed\n"
     ]
    }
   ],
   "source": [
    "\n",
    "def divide(x, y):\n",
    "\ttry:\n",
    "\t\t result = x // y\n",
    "\texcept ZeroDivisionError:\n",
    "\t\tprint(\"Sorry ! You are dividing by zero \")\n",
    "\telse:\n",
    "\t\tprint(\"Yeah ! Your answer is :\", result)\n",
    "\tfinally:\n",
    "\t\t\n",
    "\t\tprint('This is always executed')\n",
    "\n",
    "divide(3, 2)\n",
    "divide(3, 0)"
   ]
  },
  {
   "cell_type": "markdown",
   "id": "a10e1453-3e7c-4a34-9793-9789fc930dc6",
   "metadata": {},
   "source": [
    "Raise : The raise keyword raises a specific exception when a condition is met or the code encounters an error."
   ]
  },
  {
   "cell_type": "code",
   "execution_count": 16,
   "id": "28646080-e60e-4971-9673-80cc914690be",
   "metadata": {},
   "outputs": [
    {
     "ename": "Exception",
     "evalue": "Sorry, no numbers below zero",
     "output_type": "error",
     "traceback": [
      "\u001b[0;31m---------------------------------------------------------------------------\u001b[0m",
      "\u001b[0;31mException\u001b[0m                                 Traceback (most recent call last)",
      "Cell \u001b[0;32mIn[16], line 4\u001b[0m\n\u001b[1;32m      1\u001b[0m x \u001b[38;5;241m=\u001b[39m \u001b[38;5;241m-\u001b[39m\u001b[38;5;241m1\u001b[39m\n\u001b[1;32m      3\u001b[0m \u001b[38;5;28;01mif\u001b[39;00m x \u001b[38;5;241m<\u001b[39m \u001b[38;5;241m0\u001b[39m:\n\u001b[0;32m----> 4\u001b[0m   \u001b[38;5;28;01mraise\u001b[39;00m \u001b[38;5;167;01mException\u001b[39;00m(\u001b[38;5;124m\"\u001b[39m\u001b[38;5;124mSorry, no numbers below zero\u001b[39m\u001b[38;5;124m\"\u001b[39m)\n",
      "\u001b[0;31mException\u001b[0m: Sorry, no numbers below zero"
     ]
    }
   ],
   "source": [
    "x = -1\n",
    "\n",
    "if x < 0:\n",
    "  raise Exception(\"Sorry, no numbers below zero\")"
   ]
  },
  {
   "cell_type": "markdown",
   "id": "433042ad-db6f-439c-ad92-9be66cc45438",
   "metadata": {},
   "source": [
    "Q5. What are Custom Exceptions in python? Why do we need Custom Exceptions? Explain with an example."
   ]
  },
  {
   "cell_type": "markdown",
   "id": "a4c4b20f-ee0e-4d51-bcb4-92c17ce179e0",
   "metadata": {},
   "source": [
    "Custom exceptions, also known as user-defined exceptions, are exceptions that you create in Python to represent specific error conditions or exceptional situations that are not adequately covered by the built-in exception classes. We need custom exceptions for Specific Error Handling, Custom behavior and Consistency"
   ]
  },
  {
   "cell_type": "code",
   "execution_count": 19,
   "id": "83ca9f89-b988-4cb5-98b0-bb29e1310206",
   "metadata": {},
   "outputs": [
    {
     "name": "stdout",
     "output_type": "stream",
     "text": [
      "An unexpected error occurred: name 'os' is not defined\n"
     ]
    }
   ],
   "source": [
    "class FileSizeLimitExceeded(Exception):\n",
    "    def __init__(self, file_name, max_size):\n",
    "        self.file_name = file_name\n",
    "        self.max_size = max_size\n",
    "        super().__init__(f\"File '{file_name}' exceeds the maximum allowed size of {max_size} bytes.\")\n",
    "\n",
    "def process_file(file_name):\n",
    "    max_allowed_size = 1024  # 1 KB\n",
    "\n",
    "    try:\n",
    "        file_size = os.path.getsize(file_name)\n",
    "        if file_size > max_allowed_size:\n",
    "            raise FileSizeLimitExceeded(file_name, max_allowed_size)\n",
    "        # Process the file\n",
    "    except FileSizeLimitExceeded as e:\n",
    "        print(f\"Error: {e}\")\n",
    "     \n",
    "    except FileNotFoundError:\n",
    "        print(f\"Error: File '{file_name}' not found.\")\n",
    "    except Exception as e:\n",
    "        print(f\"An unexpected error occurred: {e}\")\n",
    "\n",
    "\n",
    "try:\n",
    "    process_file(\"large_file.txt\")\n",
    "except KeyboardInterrupt:\n",
    "    print(\"Operation aborted by the user.\")"
   ]
  },
  {
   "cell_type": "markdown",
   "id": "92116c05-6db5-4e03-970b-361ac83650ec",
   "metadata": {},
   "source": [
    "Q6. Create custom exception class. Use this class to handle an exception."
   ]
  },
  {
   "cell_type": "code",
   "execution_count": null,
   "id": "984b91fd-9781-4ad3-896d-ec84c016ae79",
   "metadata": {},
   "outputs": [],
   "source": []
  }
 ],
 "metadata": {
  "kernelspec": {
   "display_name": "Python 3 (ipykernel)",
   "language": "python",
   "name": "python3"
  },
  "language_info": {
   "codemirror_mode": {
    "name": "ipython",
    "version": 3
   },
   "file_extension": ".py",
   "mimetype": "text/x-python",
   "name": "python",
   "nbconvert_exporter": "python",
   "pygments_lexer": "ipython3",
   "version": "3.10.8"
  }
 },
 "nbformat": 4,
 "nbformat_minor": 5
}
