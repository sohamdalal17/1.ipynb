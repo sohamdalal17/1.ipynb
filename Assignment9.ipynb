{
 "cells": [
  {
   "cell_type": "markdown",
   "id": "2c6776ae-6921-46ea-9f1e-6c63a824b15a",
   "metadata": {},
   "source": [
    "Q1. What is multithreading in python? Why is it used? Name the module used to handle threads in python."
   ]
  },
  {
   "cell_type": "raw",
   "id": "b14f7a3d-0c3b-4210-84d8-79de0a62293c",
   "metadata": {},
   "source": [
    "In Python, the threading module provides a very simple and intuitive API for spawning multiple threads in a program.\n",
    "The multithreading is used to Execute multiple threads concurrently i.e. in simple words, run the same function multiple times with different inputs.\n",
    "The module used to handle threads in Python is called threading."
   ]
  },
  {
   "cell_type": "markdown",
   "id": "31bd9e6f-2e60-4bd7-9045-d93d1c620e3a",
   "metadata": {},
   "source": [
    "Q2. Why threading module used? Write the use of the following functions :\n",
    "\n",
    "1. activeCount()\n",
    "2. currentThread()\n",
    "3. enumerate()"
   ]
  },
  {
   "cell_type": "markdown",
   "id": "a41a9ec3-c363-4f23-b3d0-2ca0bf47ad4a",
   "metadata": {},
   "source": [
    "Threading module is use to create, manage, and work with threads in multithreaded program.\n",
    "\n",
    "1. activateCount() : It returns the number of Thread objects currently alive (i.e., the number of active threads) within the current Python process.\n",
    "\n",
    "2. currentThread() : It returns a reference to the currently executing Thread object.\n",
    "\n",
    "3. enumerate() : It returns a list of all Thread objects currently alive (active)."
   ]
  },
  {
   "cell_type": "markdown",
   "id": "7388d0ec-d17d-4a17-aaea-cf97181668ba",
   "metadata": {},
   "source": [
    "Q3. Explain the following functions\n",
    "\n",
    "1. run()\n",
    "2. start()\n",
    "3. join()\n",
    "4. isAlive()"
   ]
  },
  {
   "cell_type": "markdown",
   "id": "fdf7e44e-210b-4483-bb1c-6f822877c0da",
   "metadata": {},
   "source": [
    "1. run() − The run() method is the entry point for a thread, it is a method that override in your custom thread class when you create a thread using              Python's threading module.\n",
    "\n",
    "2.start() − The start() method starts a thread by calling the run method, it used to start the execution of a thread.\n",
    "\n",
    "3.join() − The join() waits for threads to terminate, it is used to block the execution of the calling thread until the thread on which it is called              has completed.\n",
    "\n",
    "4.isAlive() − The isAlive() method checks whether a thread is still executing, it  is used to check whether a thread is currently running (alive) or                 has already completed its execution."
   ]
  },
  {
   "cell_type": "markdown",
   "id": "1044bdea-3988-4d1e-82a7-2c0080b79931",
   "metadata": {},
   "source": [
    "Q4. Write a python program to create two threads. Thread one must print the list of squares and thread\n",
    "two must print the list of cubes"
   ]
  },
  {
   "cell_type": "code",
   "execution_count": 1,
   "id": "9a577aca-a4f4-4e1b-a7eb-31e6a434c2d1",
   "metadata": {},
   "outputs": [
    {
     "name": "stdout",
     "output_type": "stream",
     "text": [
      "Square of 1: 1\n",
      "Square of 2: 4\n",
      "Square of 3: 9\n",
      "Square of 4: 16\n",
      "Square of 5: 25\n",
      "Cube of 1: 1\n",
      "Cube of 2: 8\n",
      "Cube of 3: 27\n",
      "Cube of 4: 64\n",
      "Cube of 5: 125\n",
      "Both threads have completed.\n"
     ]
    }
   ],
   "source": [
    "import threading\n",
    "\n",
    "def print_squares():\n",
    "    for i in range(1, 6):\n",
    "        print(f\"Square of {i}: {i**2}\")\n",
    "\n",
    "def print_cubes():\n",
    "    for i in range(1, 6):\n",
    "        print(f\"Cube of {i}: {i**3}\")\n",
    "\n",
    "# Create two threads\n",
    "thread1 = threading.Thread(target=print_squares)\n",
    "thread2 = threading.Thread(target=print_cubes)\n",
    "\n",
    "# Start both threads\n",
    "thread1.start()\n",
    "thread2.start()\n",
    "\n",
    "# Wait for both threads to finish\n",
    "thread1.join()\n",
    "thread2.join()\n",
    "\n",
    "print(\"Both threads have completed.\")\n"
   ]
  },
  {
   "cell_type": "markdown",
   "id": "beb6314f-2917-4988-b609-5faad7c52cc5",
   "metadata": {},
   "source": [
    "Q5. State advantages and disadvantages of multithreading."
   ]
  },
  {
   "cell_type": "markdown",
   "id": "55758e27-d97b-45df-9b8d-16851c35b148",
   "metadata": {},
   "source": [
    "Advantages :\n",
    "    \n",
    "1. With the help of the multithreading Simultaneous access to multiple applications\n",
    "2. Reduced number of required servers, because one server can dispatch multiple service threads, the number of servers to start for your application is reduced.\n",
    "3. Improved performance and concurrency, for certain applications, performance and concurrency can be improved by using multithreading.\n",
    "\n",
    "Disadvantages :\n",
    "    \n",
    "1. It is difficult to write code, Multithreaded codes are not easy to write onnly experienced programmers should undertake coding for these types of      applications.\n",
    "2. It is difficult to manage concurrency,the task of managing concurrency among threads is difficult and has the potential to introduce new problems      into an application.\n",
    "3. Difficulty of testing, testing a multithreaded application is more difficult than testing a single-threaded application because defects are often      timing-related and more difficult to reproduce."
   ]
  },
  {
   "cell_type": "markdown",
   "id": "79a2d9fb-26df-4e39-a3b3-7de1634ab661",
   "metadata": {},
   "source": [
    "Q6. Explain deadlocks and race conditions."
   ]
  },
  {
   "cell_type": "markdown",
   "id": "121c66bb-ae1b-4cd0-8658-76fdeb9ff4e6",
   "metadata": {},
   "source": [
    "Deadlocks : When two processes are waiting for each other directly or indirectly, it is called deadlock. It is a form of impasse or standstill in the             execution of a program.\n",
    "\n",
    "Race Conditions : When two processes are competing with each other causing data corruption. A race condition occurs when the behavior of a program                       depends on the relative timing or order of execution of threads or processes."
   ]
  },
  {
   "cell_type": "code",
   "execution_count": null,
   "id": "2bf9a286-1feb-41ab-85e3-a74b4bebe691",
   "metadata": {},
   "outputs": [],
   "source": []
  }
 ],
 "metadata": {
  "kernelspec": {
   "display_name": "Python 3 (ipykernel)",
   "language": "python",
   "name": "python3"
  },
  "language_info": {
   "codemirror_mode": {
    "name": "ipython",
    "version": 3
   },
   "file_extension": ".py",
   "mimetype": "text/x-python",
   "name": "python",
   "nbconvert_exporter": "python",
   "pygments_lexer": "ipython3",
   "version": "3.10.8"
  }
 },
 "nbformat": 4,
 "nbformat_minor": 5
}
