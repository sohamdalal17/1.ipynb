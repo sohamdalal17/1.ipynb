{
 "cells": [
  {
   "cell_type": "code",
   "execution_count": 1,
   "id": "de445ba8-2dc0-459e-ae89-6bcda8deff91",
   "metadata": {},
   "outputs": [
    {
     "name": "stdout",
     "output_type": "stream",
     "text": [
      "11\n"
     ]
    }
   ],
   "source": [
    "# Q.11. Add Numbers\n",
    "def add_numbers(num1, num2):\n",
    "  \n",
    "  return num1 + num2\n",
    "\n",
    "result = add_numbers(5, 6)\n",
    "print(result)"
   ]
  },
  {
   "cell_type": "code",
   "execution_count": 2,
   "id": "6d84e54a-6fc5-4d95-9730-d65c055e5529",
   "metadata": {},
   "outputs": [
    {
     "name": "stdin",
     "output_type": "stream",
     "text": [
      "Enter a number:  23\n"
     ]
    },
    {
     "name": "stdout",
     "output_type": "stream",
     "text": [
      "The square root of 23.0 is 4.80\n"
     ]
    }
   ],
   "source": [
    "# Q.22. Square Root\n",
    "import math\n",
    "\n",
    "number = float(input(\"Enter a number: \"))\n",
    "square_root = math.sqrt(number)\n",
    "print(f\"The square root of {number} is {square_root:.2f}\") "
   ]
  },
  {
   "cell_type": "code",
   "execution_count": 3,
   "id": "a7c496f2-6264-474a-90e6-df19843dbe13",
   "metadata": {},
   "outputs": [
    {
     "name": "stdout",
     "output_type": "stream",
     "text": [
      "Prime numbers between 0 and 50: [2, 3, 5, 7, 11, 13, 17, 19, 23, 29, 31, 37, 41, 43, 47]\n"
     ]
    }
   ],
   "source": [
    "# Q.3. Prime Numbers\n",
    "def is_prime(num):\n",
    " \n",
    "  if num <= 1:\n",
    "    return False\n",
    "  for i in range(2, int(num**0.5) + 1):\n",
    "    if num % i == 0:\n",
    "      return False\n",
    "  return True\n",
    "\n",
    "primes = []\n",
    "for num in range(0, 51):\n",
    "  if is_prime(num):\n",
    "    primes.append(num)\n",
    "\n",
    "print(\"Prime numbers between 0 and 50:\", primes)"
   ]
  },
  {
   "cell_type": "code",
   "execution_count": 4,
   "id": "15c6dda3-bb2c-4705-982a-7a11851c07cf",
   "metadata": {},
   "outputs": [
    {
     "name": "stdout",
     "output_type": "stream",
     "text": [
      "a = 9, b = 5, c = 8\n"
     ]
    }
   ],
   "source": [
    "# Q.4. Swap Three Variables\n",
    "a = 5\n",
    "b = 8\n",
    "c = 9\n",
    "\n",
    "a, b, c = c, a, b\n",
    "\n",
    "print(f\"a = {a}, b = {b}, c = {c}\")"
   ]
  },
  {
   "cell_type": "code",
   "execution_count": 5,
   "id": "9f6d9ed3-34aa-4e63-bbba-4bc969bd201a",
   "metadata": {},
   "outputs": [
    {
     "name": "stdin",
     "output_type": "stream",
     "text": [
      "Enter a number:  34\n"
     ]
    },
    {
     "name": "stdout",
     "output_type": "stream",
     "text": [
      "Positive\n"
     ]
    }
   ],
   "source": [
    "# Q.5. Number Nature\n",
    "number = int(input(\"Enter a number: \"))\n",
    "\n",
    "if number > 0:\n",
    "  print(\"Positive\")\n",
    "elif number < 0:\n",
    "  print(\"Negative\")\n",
    "else:\n",
    "  print(\"Zero\")"
   ]
  },
  {
   "cell_type": "code",
   "execution_count": 6,
   "id": "5b86f480-b29c-45bd-99c9-f20da1221797",
   "metadata": {},
   "outputs": [
    {
     "name": "stdin",
     "output_type": "stream",
     "text": [
      "Enter a number:  555\n"
     ]
    },
    {
     "name": "stdout",
     "output_type": "stream",
     "text": [
      "Odd\n"
     ]
    }
   ],
   "source": [
    "# Q.6. Even or Odd\n",
    "number = int(input(\"Enter a number: \"))\n",
    "\n",
    "if number % 2 == 0:\n",
    "  print(\"Even\")\n",
    "else:\n",
    "  print(\"Odd\")"
   ]
  },
  {
   "cell_type": "code",
   "execution_count": 7,
   "id": "ba5f58ed-9c33-490e-9705-584c0f562b19",
   "metadata": {},
   "outputs": [
    {
     "name": "stdout",
     "output_type": "stream",
     "text": [
      "Sum of digits of 76543 is 25\n"
     ]
    }
   ],
   "source": [
    "# Q,7. Sum of Digits\n",
    "def sum_of_digits(num):\n",
    " \n",
    "  sum = 0\n",
    "  while num > 0:\n",
    "    digit = num % 10\n",
    "    sum += digit\n",
    "    num //= 10\n",
    "  return sum\n",
    "\n",
    "number = 76543\n",
    "result = sum_of_digits(number)\n",
    "print(f\"Sum of digits of {number} is {result}\")"
   ]
  },
  {
   "cell_type": "code",
   "execution_count": 8,
   "id": "29605528-1064-45ac-9cdf-032cfa26480c",
   "metadata": {},
   "outputs": [
    {
     "name": "stdout",
     "output_type": "stream",
     "text": [
      "Reversed number of 5436 is 6345\n"
     ]
    }
   ],
   "source": [
    "# Q.8. Reverse Number\n",
    "def reverse_number(num):\n",
    "  \n",
    "  reversed_num = 0\n",
    "  while num > 0:\n",
    "    digit = num % 10\n",
    "    reversed_num = reversed_num * 10 + digit\n",
    "    num //= 10\n",
    "  return reversed_num\n",
    "\n",
    "number = 5436\n",
    "reversed_number = reverse_number(number)\n",
    "print(f\"Reversed number of {number} is {reversed_number}\")"
   ]
  },
  {
   "cell_type": "code",
   "execution_count": 9,
   "id": "cc1c8656-4441-486a-90f9-d48e66410f73",
   "metadata": {},
   "outputs": [
    {
     "name": "stdout",
     "output_type": "stream",
     "text": [
      "371 is an Armstrong number\n"
     ]
    }
   ],
   "source": [
    "# Q.9. Armstrong Number\n",
    "def is_armstrong(num):\n",
    "  \n",
    "  original_num = num\n",
    "  sum = 0\n",
    "  while num > 0:\n",
    "    digit = num % 10\n",
    "    sum += digit**len(str(original_num))\n",
    "    num //= 10\n",
    "  return sum == original_num\n",
    "\n",
    "number = 371\n",
    "if is_armstrong(number):\n",
    "  print(f\"{number} is an Armstrong number\")\n",
    "else:\n",
    "  print(f\"{number} is not an Armstrong number\")"
   ]
  },
  {
   "cell_type": "code",
   "execution_count": 10,
   "id": "960c2ae5-23c9-4b7e-9523-ddd7b1215818",
   "metadata": {},
   "outputs": [
    {
     "name": "stdout",
     "output_type": "stream",
     "text": [
      "1996 is a leap year\n"
     ]
    }
   ],
   "source": [
    "# Q.10. Leap Year\n",
    "def is_leap_year(year):\n",
    "\n",
    "  if year % 4 == 0:\n",
    "    if year % 100 == 0 and year % 400 != 0:\n",
    "      return False \n",
    "    return True\n",
    "  return False\n",
    "\n",
    "year = 1996\n",
    "if is_leap_year(year):\n",
    "  print(f\"{year} is a leap year\")\n",
    "else:\n",
    "  print(f\"{year} is not a leap year\")"
   ]
  },
  {
   "cell_type": "code",
   "execution_count": 11,
   "id": "4406b3ba-9902-4cdb-ac03-a33909c485a4",
   "metadata": {},
   "outputs": [
    {
     "data": {
      "text/plain": [
       "'orange'"
      ]
     },
     "execution_count": 11,
     "metadata": {},
     "output_type": "execute_result"
    }
   ],
   "source": [
    "# Q,11. List Manipulation\n",
    "a = [2, 3, 4, 5, 6, 7]\n",
    "a.append(\"mango\")\n",
    "a.extend([\"banana\", \"grapes\", \"orange\"])\n",
    "a.insert(4, \"apple\")\n",
    "a.pop() "
   ]
  },
  {
   "cell_type": "code",
   "execution_count": 12,
   "id": "12725245-960c-4b97-8067-fc6be7408ebb",
   "metadata": {},
   "outputs": [
    {
     "name": "stdout",
     "output_type": "stream",
     "text": [
      "[2, 3, 4]\n"
     ]
    }
   ],
   "source": [
    "# Q.12. Slice a List\n",
    "L = [1, 2, 3, 4, 5, 6, 7]\n",
    "sliced_list = L[1:4]  \n",
    "print(sliced_list)"
   ]
  },
  {
   "cell_type": "code",
   "execution_count": null,
   "id": "56acfeb5-b9fc-4dd3-a835-4f61c5da5878",
   "metadata": {},
   "outputs": [],
   "source": [
    "# Q.13. Reverse String Order\n",
    "L = [4, 5, 6, 8, 3]\n",
    "reversed_list = L[::-1]  \n",
    "print(reversed_list)"
   ]
  },
  {
   "cell_type": "code",
   "execution_count": 13,
   "id": "93366795-6261-480b-a7de-d4d995b1b1fa",
   "metadata": {},
   "outputs": [
    {
     "name": "stdout",
     "output_type": "stream",
     "text": [
      "[4, 16, 49, 9, 36, 64]\n"
     ]
    }
   ],
   "source": [
    "# Q.14. List Comprehension for Squaring\n",
    "L = [2, 4, 7, 3, 6, 8]\n",
    "squared_list = [num**2 for num in L] \n",
    "print(squared_list)"
   ]
  },
  {
   "cell_type": "code",
   "execution_count": 14,
   "id": "09f98e93-616e-48a7-b772-4a2c18879280",
   "metadata": {},
   "outputs": [
    {
     "name": "stdout",
     "output_type": "stream",
     "text": [
      "Sum of (1, 2, 3, 4, 5) is 15\n"
     ]
    }
   ],
   "source": [
    "# Q.15. Function for Sum of Tuple\n",
    "def sum_of_tuple(numbers):\n",
    "  \n",
    "  return sum(numbers)\n",
    "\n",
    "my_tuple = (1, 2, 3, 4, 5)\n",
    "result = sum_of_tuple(my_tuple)\n",
    "print(f\"Sum of {my_tuple} is {result}\")"
   ]
  },
  {
   "cell_type": "code",
   "execution_count": 15,
   "id": "9877f8f8-a337-4315-8279-0af5f1fa85c8",
   "metadata": {},
   "outputs": [
    {
     "name": "stdout",
     "output_type": "stream",
     "text": [
      "{'pineapple', 'orange', 'grapes', 'apple', 'mango', 'banana'}\n"
     ]
    }
   ],
   "source": [
    "# Q.16. Combine Sets\n",
    "favorite_fruits1 = {\"apple\", \"banana\", \"orange\"}\n",
    "favorite_fruits2 = {\"mango\", \"grapes\", \"pineapple\"}\n",
    "combined_fruits = favorite_fruits1.union(favorite_fruits2)\n",
    "print(combined_fruits)"
   ]
  },
  {
   "cell_type": "code",
   "execution_count": 16,
   "id": "760f7987-b7e9-441d-b57d-c8469aeedf40",
   "metadata": {},
   "outputs": [
    {
     "name": "stdout",
     "output_type": "stream",
     "text": [
      "{'hello', 'programming', 'python', 'world'}\n"
     ]
    }
   ],
   "source": [
    "# Q.17. Add to a Set\n",
    "random_words = {\"hello\", \"world\", \"python\"}\n",
    "random_words.add(\"programming\")\n",
    "print(random_words)"
   ]
  },
  {
   "cell_type": "code",
   "execution_count": null,
   "id": "e93a30e4-91ab-407d-ae59-7fa252297555",
   "metadata": {},
   "outputs": [],
   "source": [
    "# Q.18. Remove from a Set\n",
    "favorite_animals = {\"cat\", \"dog\", \"bird\"}\n",
    "favorite_animals.remove(\"bird\") \n",
    "print(favorite_animals)"
   ]
  },
  {
   "cell_type": "code",
   "execution_count": 17,
   "id": "c775b357-ff89-4afd-a351-57fea007a9dc",
   "metadata": {},
   "outputs": [
    {
     "name": "stdout",
     "output_type": "stream",
     "text": [
      "[('To Kill a Mockingbird', 'The Shawshank Redemption'), ('Pride and Prejudice', 'The Godfather'), ('1984', 'The Dark Knight')]\n"
     ]
    }
   ],
   "source": [
    "# Q.19. Combine Books and Movies with Zip\n",
    "favorite_books = {\"1984\", \"To Kill a Mockingbird\", \"Pride and Prejudice\"}\n",
    "favorite_movies = [\"The Shawshank Redemption\", \"The Godfather\", \"The Dark Knight\"]\n",
    "book_movie_pairs = zip(favorite_books, favorite_movies)\n",
    "print(list(book_movie_pairs)) "
   ]
  },
  {
   "cell_type": "code",
   "execution_count": 18,
   "id": "7b4e56b1-7c13-4e99-a42d-9d37e686f53c",
   "metadata": {},
   "outputs": [
    {
     "name": "stdout",
     "output_type": "stream",
     "text": [
      "[1, 1, 1, 1]\n"
     ]
    }
   ],
   "source": [
    "# Q.20. Difference of Consecutive Numbers\n",
    "numbers = [1, 2, 3, 4, 5]\n",
    "differences = [numbers[i] - numbers[i - 1] for i in range(1, len(numbers))] \n",
    "print(differences)"
   ]
  },
  {
   "cell_type": "code",
   "execution_count": 19,
   "id": "1a735c7f-0862-4f4f-8355-d5be40d6f25d",
   "metadata": {},
   "outputs": [
    {
     "name": "stdout",
     "output_type": "stream",
     "text": [
      "Price of banana: $1.25\n"
     ]
    }
   ],
   "source": [
    "# Q.21. Access Dictionary Value\n",
    "fruits = {\"apple\": 0.75, \"banana\": 1.25, \"orange\": 0.90}\n",
    "banana_price = fruits[\"banana\"]\n",
    "print(f\"Price of banana: ${banana_price:.2f}\")  "
   ]
  },
  {
   "cell_type": "code",
   "execution_count": 20,
   "id": "3fcbb13f-41bf-4cc3-a8aa-3cf0a3ae186c",
   "metadata": {},
   "outputs": [
    {
     "name": "stdout",
     "output_type": "stream",
     "text": [
      "{'Alice': 30, 'Bob': 25}\n"
     ]
    }
   ],
   "source": [
    "# Q.22. Create and Add to a Dictionary\n",
    "ages = {}\n",
    "ages[\"Alice\"] = 30\n",
    "ages[\"Bob\"] = 25\n",
    "print(ages)"
   ]
  },
  {
   "cell_type": "code",
   "execution_count": null,
   "id": "03650acd-060a-4ef3-9d6b-212abe07da9e",
   "metadata": {},
   "outputs": [],
   "source": []
  }
 ],
 "metadata": {
  "kernelspec": {
   "display_name": "Python 3 (ipykernel)",
   "language": "python",
   "name": "python3"
  },
  "language_info": {
   "codemirror_mode": {
    "name": "ipython",
    "version": 3
   },
   "file_extension": ".py",
   "mimetype": "text/x-python",
   "name": "python",
   "nbconvert_exporter": "python",
   "pygments_lexer": "ipython3",
   "version": "3.10.8"
  }
 },
 "nbformat": 4,
 "nbformat_minor": 5
}
