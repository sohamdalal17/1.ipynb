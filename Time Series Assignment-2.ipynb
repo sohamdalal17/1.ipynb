{
 "cells": [
  {
   "cell_type": "markdown",
   "id": "2bbdf1a2-6aff-4ae8-81e8-a67bb47b26dc",
   "metadata": {},
   "source": [
    "Q1. What is meant by time-dependent seasonal components?\n",
    "\n",
    "Q2. How can time-dependent seasonal components be identified in time series data?\n",
    "\n",
    "Q3. What are the factors that can influence time-dependent seasonal components?\n",
    "\n",
    "Q4. How are autoregression models used in time series analysis and forecasting?\n",
    "\n",
    "Q5. How do you use autoregression models to make predictions for future time points?\n",
    "\n",
    "Q6. What is a moving average (MA) model and how does it differ from other time series models?\n",
    "\n",
    "Q7. What is a mixed ARMA model and how does it differ from an AR or MA model?"
   ]
  },
  {
   "cell_type": "markdown",
   "id": "cbff9c6f-e437-439d-846d-3baaed03b42b",
   "metadata": {},
   "source": [
    "## Answers"
   ]
  },
  {
   "cell_type": "markdown",
   "id": "8914ccb1-6661-48a4-9d07-1360fe919853",
   "metadata": {},
   "source": [
    "Q1. Time-dependent seasonal components: Seasonal patterns that change in magnitude or even disappear over time.\n",
    "\n",
    "Example: Seasonal sales of ice cream might become less pronounced over time due to improved technology for climate control.\n",
    "\n",
    "Q2. Identification:\n",
    "\n",
    "Visual inspection: Plotting time series data may reveal changes in seasonal patterns over time.\n",
    "\n",
    "Statistical tests: Specialized tests can detect non-constant seasonality (e.g., seasonal Dickey-Fuller test).\n",
    "Q3. Influencing factors:\n",
    "\n",
    "Long-term trends: Overall growth or decline can affect the intensity of seasonal variations.\n",
    "\n",
    "Changes in consumer behavior: Evolving preferences might alter seasonal demand patterns.\n",
    "\n",
    "External events: Economic recessions or technological advancements can disrupt seasonality.\n",
    "\n",
    "Q4. Autoregression models (AR):\n",
    "\n",
    "Use past values of the time series to predict future values.\n",
    "\n",
    "Each future value is a linear combination of its past values and an error term.\n",
    "\n",
    "Capture trends and autocorrelation (dependence of current values on past values).\n",
    "\n",
    "Q5. AR predictions:\n",
    "\n",
    "Based on the estimated model parameters, the model is used to calculate the predicted future value based on a weighted sum of past observed values and the error term.\n",
    "\n",
    "The weights are determined by the model fitting process.\n",
    "\n",
    "Q6. Moving average (MA) model:\n",
    "\n",
    "Uses past forecast errors (residuals) to predict future values.\n",
    "\n",
    "Aims to remove noise and improve accuracy by incorporating past prediction errors.\n",
    "\n",
    "Focuses on capturing short-term dependencies and reducing random fluctuations.\n",
    "\n",
    "Differences:\n",
    "\n",
    "AR models use past data points for prediction, while MA models use past errors.\n",
    "\n",
    "AR models capture trends, while MA models primarily focus on noise reduction.\n",
    "\n",
    "Q7. Mixed ARMA model:\n",
    "\n",
    "Combines AR (autoregressive) and MA (moving average) components.\n",
    "\n",
    "Uses both past data points and past forecast errors for prediction.\n",
    "\n",
    "Offers more flexibility to capture a wider range of patterns compared to pure AR or MA models."
   ]
  },
  {
   "cell_type": "code",
   "execution_count": 1,
   "id": "7903d719-b85a-408b-bc11-7fb794ebb089",
   "metadata": {},
   "outputs": [],
   "source": [
    "#"
   ]
  },
  {
   "cell_type": "code",
   "execution_count": null,
   "id": "ae49f422-baf5-4a12-a5d5-799c583c22be",
   "metadata": {},
   "outputs": [],
   "source": []
  }
 ],
 "metadata": {
  "kernelspec": {
   "display_name": "Python 3 (ipykernel)",
   "language": "python",
   "name": "python3"
  },
  "language_info": {
   "codemirror_mode": {
    "name": "ipython",
    "version": 3
   },
   "file_extension": ".py",
   "mimetype": "text/x-python",
   "name": "python",
   "nbconvert_exporter": "python",
   "pygments_lexer": "ipython3",
   "version": "3.10.8"
  }
 },
 "nbformat": 4,
 "nbformat_minor": 5
}
